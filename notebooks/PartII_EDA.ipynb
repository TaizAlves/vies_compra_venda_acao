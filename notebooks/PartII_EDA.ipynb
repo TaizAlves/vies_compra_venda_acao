{
 "cells": [
  {
   "cell_type": "markdown",
   "id": "conscious-convenience",
   "metadata": {},
   "source": [
    "# 0.0 Imports"
   ]
  },
  {
   "cell_type": "code",
   "execution_count": 10,
   "id": "renewable-fight",
   "metadata": {
    "ExecuteTime": {
     "end_time": "2022-05-05T23:33:50.731294Z",
     "start_time": "2022-05-05T23:33:50.706295Z"
    }
   },
   "outputs": [],
   "source": [
    "import pandas as pd\n",
    "import numpy as np\n",
    "\n",
    "import inflection\n",
    "\n",
    "import matplotlib.pyplot as plt\n",
    "import seaborn as sns\n",
    "\n",
    "import yfinance as yf\n",
    "\n",
    "\n",
    "import warnings\n",
    "warnings.filterwarnings( 'ignore' )\n",
    "\n",
    "from IPython.display import display\n",
    "pd.options.display.max_columns = None\n",
    "\n",
    "#import seaborn as sns\n",
    "import sys\n",
    "  \n",
    "# adding Folder_2 to the system path\n",
    "sys.path.insert(0, 'G:\\DADOS\\Documents\\CURSOS_Dev\\Tera\\Projeto\\projeto_acao')\n",
    "\n",
    "from price_economics_technical_analysis_class import Price_Historical_Data_technical_analysis\n",
    "\n",
    "#plt.rcParams['figure.figsize'] = [25, 12]\n",
    "#plt.rcParams['font.size'] = 24"
   ]
  },
  {
   "cell_type": "markdown",
   "id": "intelligent-paintball",
   "metadata": {},
   "source": [
    "## 0.1 Helper Functions"
   ]
  },
  {
   "cell_type": "code",
   "execution_count": null,
   "id": "temporal-jordan",
   "metadata": {},
   "outputs": [],
   "source": []
  },
  {
   "cell_type": "markdown",
   "id": "meaning-liberal",
   "metadata": {},
   "source": [
    "## 0.2 Loading Data"
   ]
  },
  {
   "cell_type": "code",
   "execution_count": 5,
   "id": "liable-delhi",
   "metadata": {
    "ExecuteTime": {
     "end_time": "2022-05-05T23:15:29.898243Z",
     "start_time": "2022-05-05T23:15:29.590245Z"
    }
   },
   "outputs": [
    {
     "data": {
      "text/html": [
       "<div>\n",
       "<style scoped>\n",
       "    .dataframe tbody tr th:only-of-type {\n",
       "        vertical-align: middle;\n",
       "    }\n",
       "\n",
       "    .dataframe tbody tr th {\n",
       "        vertical-align: top;\n",
       "    }\n",
       "\n",
       "    .dataframe thead th {\n",
       "        text-align: right;\n",
       "    }\n",
       "</style>\n",
       "<table border=\"1\" class=\"dataframe\">\n",
       "  <thead>\n",
       "    <tr style=\"text-align: right;\">\n",
       "      <th></th>\n",
       "      <th>AMBEV</th>\n",
       "      <th>rsi</th>\n",
       "      <th>roc</th>\n",
       "      <th>willr</th>\n",
       "      <th>BRF</th>\n",
       "      <th>EURO</th>\n",
       "      <th>Heineken_euro</th>\n",
       "      <th>JBS</th>\n",
       "      <th>DOLAR</th>\n",
       "      <th>IBOVESPA</th>\n",
       "      <th>cdi</th>\n",
       "      <th>Risco_Brasil</th>\n",
       "      <th>Dividends</th>\n",
       "      <th>selic_meta_diario</th>\n",
       "      <th>selic_overnight_diario</th>\n",
       "      <th>taxa_desemprego_pnad_mensal_diario</th>\n",
       "      <th>volume_vendas_varejo_setor_diario_x</th>\n",
       "      <th>ipca_diario</th>\n",
       "      <th>igpm_diario</th>\n",
       "      <th>volume_vendas_varejo_setor_diario_y</th>\n",
       "      <th>producao_bens_consumo_diario</th>\n",
       "      <th>tx_juros_americano_day</th>\n",
       "      <th>industry_production_daily</th>\n",
       "      <th>desemprego_americano_day</th>\n",
       "      <th>inflacao_americana_daily</th>\n",
       "    </tr>\n",
       "    <tr>\n",
       "      <th>data</th>\n",
       "      <th></th>\n",
       "      <th></th>\n",
       "      <th></th>\n",
       "      <th></th>\n",
       "      <th></th>\n",
       "      <th></th>\n",
       "      <th></th>\n",
       "      <th></th>\n",
       "      <th></th>\n",
       "      <th></th>\n",
       "      <th></th>\n",
       "      <th></th>\n",
       "      <th></th>\n",
       "      <th></th>\n",
       "      <th></th>\n",
       "      <th></th>\n",
       "      <th></th>\n",
       "      <th></th>\n",
       "      <th></th>\n",
       "      <th></th>\n",
       "      <th></th>\n",
       "      <th></th>\n",
       "      <th></th>\n",
       "      <th></th>\n",
       "      <th></th>\n",
       "    </tr>\n",
       "  </thead>\n",
       "  <tbody>\n",
       "    <tr>\n",
       "      <th>2000-01-05</th>\n",
       "      <td>0.322</td>\n",
       "      <td>NaN</td>\n",
       "      <td>NaN</td>\n",
       "      <td>NaN</td>\n",
       "      <td>764.274</td>\n",
       "      <td>NaN</td>\n",
       "      <td>23.801</td>\n",
       "      <td>NaN</td>\n",
       "      <td>NaN</td>\n",
       "      <td>16245.0</td>\n",
       "      <td>0.068</td>\n",
       "      <td>677.0</td>\n",
       "      <td>0.0</td>\n",
       "      <td>0.146</td>\n",
       "      <td>0.146</td>\n",
       "      <td>NaN</td>\n",
       "      <td>2.468</td>\n",
       "      <td>0.022</td>\n",
       "      <td>0.056</td>\n",
       "      <td>2.468</td>\n",
       "      <td>NaN</td>\n",
       "      <td>0.088</td>\n",
       "      <td>4.172</td>\n",
       "      <td>0.182</td>\n",
       "      <td>0.263</td>\n",
       "    </tr>\n",
       "    <tr>\n",
       "      <th>2000-01-06</th>\n",
       "      <td>0.305</td>\n",
       "      <td>NaN</td>\n",
       "      <td>NaN</td>\n",
       "      <td>NaN</td>\n",
       "      <td>744.420</td>\n",
       "      <td>NaN</td>\n",
       "      <td>25.396</td>\n",
       "      <td>NaN</td>\n",
       "      <td>NaN</td>\n",
       "      <td>16107.0</td>\n",
       "      <td>0.068</td>\n",
       "      <td>688.0</td>\n",
       "      <td>0.0</td>\n",
       "      <td>0.146</td>\n",
       "      <td>0.146</td>\n",
       "      <td>NaN</td>\n",
       "      <td>2.468</td>\n",
       "      <td>0.022</td>\n",
       "      <td>0.056</td>\n",
       "      <td>2.468</td>\n",
       "      <td>NaN</td>\n",
       "      <td>0.088</td>\n",
       "      <td>4.172</td>\n",
       "      <td>0.182</td>\n",
       "      <td>0.263</td>\n",
       "    </tr>\n",
       "    <tr>\n",
       "      <th>2000-01-07</th>\n",
       "      <td>0.305</td>\n",
       "      <td>NaN</td>\n",
       "      <td>NaN</td>\n",
       "      <td>NaN</td>\n",
       "      <td>744.420</td>\n",
       "      <td>NaN</td>\n",
       "      <td>25.776</td>\n",
       "      <td>NaN</td>\n",
       "      <td>NaN</td>\n",
       "      <td>16309.0</td>\n",
       "      <td>0.068</td>\n",
       "      <td>677.0</td>\n",
       "      <td>0.0</td>\n",
       "      <td>0.146</td>\n",
       "      <td>0.146</td>\n",
       "      <td>NaN</td>\n",
       "      <td>2.468</td>\n",
       "      <td>0.022</td>\n",
       "      <td>0.056</td>\n",
       "      <td>2.468</td>\n",
       "      <td>NaN</td>\n",
       "      <td>0.088</td>\n",
       "      <td>4.172</td>\n",
       "      <td>0.182</td>\n",
       "      <td>0.263</td>\n",
       "    </tr>\n",
       "  </tbody>\n",
       "</table>\n",
       "</div>"
      ],
      "text/plain": [
       "            AMBEV  rsi  roc  willr      BRF  EURO  Heineken_euro  JBS  DOLAR  \\\n",
       "data                                                                           \n",
       "2000-01-05  0.322  NaN  NaN    NaN  764.274   NaN         23.801  NaN    NaN   \n",
       "2000-01-06  0.305  NaN  NaN    NaN  744.420   NaN         25.396  NaN    NaN   \n",
       "2000-01-07  0.305  NaN  NaN    NaN  744.420   NaN         25.776  NaN    NaN   \n",
       "\n",
       "            IBOVESPA    cdi  Risco_Brasil  Dividends  selic_meta_diario  \\\n",
       "data                                                                      \n",
       "2000-01-05   16245.0  0.068         677.0        0.0              0.146   \n",
       "2000-01-06   16107.0  0.068         688.0        0.0              0.146   \n",
       "2000-01-07   16309.0  0.068         677.0        0.0              0.146   \n",
       "\n",
       "            selic_overnight_diario  taxa_desemprego_pnad_mensal_diario  \\\n",
       "data                                                                     \n",
       "2000-01-05                   0.146                                 NaN   \n",
       "2000-01-06                   0.146                                 NaN   \n",
       "2000-01-07                   0.146                                 NaN   \n",
       "\n",
       "            volume_vendas_varejo_setor_diario_x  ipca_diario  igpm_diario  \\\n",
       "data                                                                        \n",
       "2000-01-05                                2.468        0.022        0.056   \n",
       "2000-01-06                                2.468        0.022        0.056   \n",
       "2000-01-07                                2.468        0.022        0.056   \n",
       "\n",
       "            volume_vendas_varejo_setor_diario_y  producao_bens_consumo_diario  \\\n",
       "data                                                                            \n",
       "2000-01-05                                2.468                           NaN   \n",
       "2000-01-06                                2.468                           NaN   \n",
       "2000-01-07                                2.468                           NaN   \n",
       "\n",
       "            tx_juros_americano_day  industry_production_daily  \\\n",
       "data                                                            \n",
       "2000-01-05                   0.088                      4.172   \n",
       "2000-01-06                   0.088                      4.172   \n",
       "2000-01-07                   0.088                      4.172   \n",
       "\n",
       "            desemprego_americano_day  inflacao_americana_daily  \n",
       "data                                                            \n",
       "2000-01-05                     0.182                     0.263  \n",
       "2000-01-06                     0.182                     0.263  \n",
       "2000-01-07                     0.182                     0.263  "
      ]
     },
     "execution_count": 5,
     "metadata": {},
     "output_type": "execute_result"
    }
   ],
   "source": [
    "df_raw = pd.read_csv('../data/raw/df_raw0.csv', parse_dates=['data'], index_col='data')\n",
    "df_raw.head(3)"
   ]
  },
  {
   "cell_type": "code",
   "execution_count": 3,
   "id": "reduced-pacific",
   "metadata": {
    "ExecuteTime": {
     "end_time": "2022-04-27T17:28:33.159812Z",
     "start_time": "2022-04-27T17:28:33.046818Z"
    }
   },
   "outputs": [
    {
     "name": "stdout",
     "output_type": "stream",
     "text": [
      "<class 'pandas.core.frame.DataFrame'>\n",
      "DatetimeIndex: 5598 entries, 2000-01-05 to 2022-04-14\n",
      "Data columns (total 25 columns):\n",
      " #   Column                               Non-Null Count  Dtype  \n",
      "---  ------                               --------------  -----  \n",
      " 0   AMBEV                                5598 non-null   float64\n",
      " 1   rsi                                  5584 non-null   float64\n",
      " 2   roc                                  5588 non-null   float64\n",
      " 3   willr                                5585 non-null   float64\n",
      " 4   BRF                                  4212 non-null   float64\n",
      " 5   EURO                                 4536 non-null   float64\n",
      " 6   Heineken_euro                        5572 non-null   float64\n",
      " 7   JBS                                  3730 non-null   float64\n",
      " 8   DOLAR                                4148 non-null   float64\n",
      " 9   IBOVESPA                             5512 non-null   float64\n",
      " 10  cdi                                  5536 non-null   float64\n",
      " 11  Risco_Brasil                         5576 non-null   float64\n",
      " 12  Dividends                            5598 non-null   float64\n",
      " 13  selic_meta_diario                    5598 non-null   float64\n",
      " 14  selic_overnight_diario               5589 non-null   float64\n",
      " 15  taxa_desemprego_pnad_mensal_diario   2420 non-null   float64\n",
      " 16  volume_vendas_varejo_setor_diario_x  5506 non-null   float64\n",
      " 17  ipca_diario                          5566 non-null   float64\n",
      " 18  igpm_diario                          5566 non-null   float64\n",
      " 19  volume_vendas_varejo_setor_diario_y  5506 non-null   float64\n",
      " 20  producao_bens_consumo_diario         4987 non-null   float64\n",
      " 21  tx_juros_americano_day               5566 non-null   float64\n",
      " 22  industry_production_daily            5566 non-null   float64\n",
      " 23  desemprego_americano_day             5566 non-null   float64\n",
      " 24  inflacao_americana_daily             5566 non-null   float64\n",
      "dtypes: float64(25)\n",
      "memory usage: 1.1 MB\n"
     ]
    }
   ],
   "source": [
    "df_raw.info()"
   ]
  },
  {
   "cell_type": "markdown",
   "id": "internal-blake",
   "metadata": {},
   "source": [
    "# 1.0 Descrição dos Dados"
   ]
  },
  {
   "cell_type": "code",
   "execution_count": 6,
   "id": "ranking-thousand",
   "metadata": {
    "ExecuteTime": {
     "end_time": "2022-05-05T23:33:14.715299Z",
     "start_time": "2022-05-05T23:33:14.709302Z"
    }
   },
   "outputs": [],
   "source": [
    "df1 = df_raw.copy()"
   ]
  },
  {
   "cell_type": "code",
   "execution_count": 5,
   "id": "willing-distribution",
   "metadata": {
    "ExecuteTime": {
     "end_time": "2022-04-27T17:28:33.238813Z",
     "start_time": "2022-04-27T17:28:33.211816Z"
    }
   },
   "outputs": [
    {
     "name": "stdout",
     "output_type": "stream",
     "text": [
      "Number of Rows: 5598\n",
      "Number of Cols: 25\n"
     ]
    }
   ],
   "source": [
    "# Data dimensions\n",
    "print( 'Number of Rows: {}'.format( df1.shape[0] ) )\n",
    "print( 'Number of Cols: {}'.format( df1.shape[1] ) )"
   ]
  },
  {
   "cell_type": "code",
   "execution_count": 6,
   "id": "urban-criminal",
   "metadata": {
    "ExecuteTime": {
     "end_time": "2022-04-27T17:28:33.316812Z",
     "start_time": "2022-04-27T17:28:33.243823Z"
    }
   },
   "outputs": [
    {
     "data": {
      "text/plain": [
       "AMBEV                                   0.000000\n",
       "rsi                                     0.250089\n",
       "roc                                     0.178635\n",
       "willr                                   0.232226\n",
       "BRF                                    24.758842\n",
       "EURO                                   18.971061\n",
       "Heineken_euro                           0.464452\n",
       "JBS                                    33.369060\n",
       "DOLAR                                  25.902108\n",
       "IBOVESPA                                1.536263\n",
       "cdi                                     1.107538\n",
       "Risco_Brasil                            0.392997\n",
       "Dividends                               0.000000\n",
       "selic_meta_diario                       0.000000\n",
       "selic_overnight_diario                  0.160772\n",
       "taxa_desemprego_pnad_mensal_diario     56.770275\n",
       "volume_vendas_varejo_setor_diario_x     1.643444\n",
       "ipca_diario                             0.571633\n",
       "igpm_diario                             0.571633\n",
       "volume_vendas_varejo_setor_diario_y     1.643444\n",
       "producao_bens_consumo_diario           10.914612\n",
       "tx_juros_americano_day                  0.571633\n",
       "industry_production_daily               0.571633\n",
       "desemprego_americano_day                0.571633\n",
       "inflacao_americana_daily                0.571633\n",
       "dtype: float64"
      ]
     },
     "execution_count": 6,
     "metadata": {},
     "output_type": "execute_result"
    }
   ],
   "source": [
    "# mean % of nulls\n",
    "df1.isna().mean()*100"
   ]
  },
  {
   "cell_type": "code",
   "execution_count": 7,
   "id": "impossible-intensity",
   "metadata": {
    "ExecuteTime": {
     "end_time": "2022-04-27T17:28:33.828208Z",
     "start_time": "2022-04-27T17:28:33.320815Z"
    }
   },
   "outputs": [
    {
     "data": {
      "text/html": [
       "<div>\n",
       "<style scoped>\n",
       "    .dataframe tbody tr th:only-of-type {\n",
       "        vertical-align: middle;\n",
       "    }\n",
       "\n",
       "    .dataframe tbody tr th {\n",
       "        vertical-align: top;\n",
       "    }\n",
       "\n",
       "    .dataframe thead th {\n",
       "        text-align: right;\n",
       "    }\n",
       "</style>\n",
       "<table border=\"1\" class=\"dataframe\">\n",
       "  <thead>\n",
       "    <tr style=\"text-align: right;\">\n",
       "      <th></th>\n",
       "      <th>count</th>\n",
       "      <th>mean</th>\n",
       "      <th>std</th>\n",
       "      <th>min</th>\n",
       "      <th>25%</th>\n",
       "      <th>50%</th>\n",
       "      <th>75%</th>\n",
       "      <th>95%</th>\n",
       "      <th>99%</th>\n",
       "      <th>max</th>\n",
       "    </tr>\n",
       "  </thead>\n",
       "  <tbody>\n",
       "    <tr>\n",
       "      <th>AMBEV</th>\n",
       "      <td>5598.0</td>\n",
       "      <td>7.79</td>\n",
       "      <td>6.38</td>\n",
       "      <td>0.29</td>\n",
       "      <td>1.97</td>\n",
       "      <td>5.22</td>\n",
       "      <td>14.67</td>\n",
       "      <td>17.25</td>\n",
       "      <td>19.57</td>\n",
       "      <td>21.44</td>\n",
       "    </tr>\n",
       "    <tr>\n",
       "      <th>rsi</th>\n",
       "      <td>5584.0</td>\n",
       "      <td>46.77</td>\n",
       "      <td>12.78</td>\n",
       "      <td>6.04</td>\n",
       "      <td>38.00</td>\n",
       "      <td>46.54</td>\n",
       "      <td>55.53</td>\n",
       "      <td>67.29</td>\n",
       "      <td>78.44</td>\n",
       "      <td>95.52</td>\n",
       "    </tr>\n",
       "    <tr>\n",
       "      <th>roc</th>\n",
       "      <td>5588.0</td>\n",
       "      <td>-0.44</td>\n",
       "      <td>6.00</td>\n",
       "      <td>-36.31</td>\n",
       "      <td>-3.66</td>\n",
       "      <td>-0.66</td>\n",
       "      <td>2.49</td>\n",
       "      <td>8.04</td>\n",
       "      <td>13.74</td>\n",
       "      <td>85.55</td>\n",
       "    </tr>\n",
       "    <tr>\n",
       "      <th>willr</th>\n",
       "      <td>5585.0</td>\n",
       "      <td>-53.94</td>\n",
       "      <td>31.83</td>\n",
       "      <td>-100.00</td>\n",
       "      <td>-81.83</td>\n",
       "      <td>-56.58</td>\n",
       "      <td>-25.29</td>\n",
       "      <td>-0.00</td>\n",
       "      <td>0.00</td>\n",
       "      <td>-0.00</td>\n",
       "    </tr>\n",
       "    <tr>\n",
       "      <th>BRF</th>\n",
       "      <td>4212.0</td>\n",
       "      <td>52.23</td>\n",
       "      <td>123.04</td>\n",
       "      <td>1.79</td>\n",
       "      <td>19.77</td>\n",
       "      <td>26.10</td>\n",
       "      <td>43.92</td>\n",
       "      <td>65.25</td>\n",
       "      <td>739.46</td>\n",
       "      <td>818.86</td>\n",
       "    </tr>\n",
       "    <tr>\n",
       "      <th>EURO</th>\n",
       "      <td>4536.0</td>\n",
       "      <td>3.52</td>\n",
       "      <td>1.18</td>\n",
       "      <td>2.17</td>\n",
       "      <td>2.62</td>\n",
       "      <td>3.16</td>\n",
       "      <td>4.07</td>\n",
       "      <td>6.33</td>\n",
       "      <td>6.63</td>\n",
       "      <td>6.96</td>\n",
       "    </tr>\n",
       "    <tr>\n",
       "      <th>Heineken_euro</th>\n",
       "      <td>5572.0</td>\n",
       "      <td>45.67</td>\n",
       "      <td>25.82</td>\n",
       "      <td>15.52</td>\n",
       "      <td>26.14</td>\n",
       "      <td>32.35</td>\n",
       "      <td>71.94</td>\n",
       "      <td>93.41</td>\n",
       "      <td>99.17</td>\n",
       "      <td>104.10</td>\n",
       "    </tr>\n",
       "    <tr>\n",
       "      <th>JBS</th>\n",
       "      <td>3730.0</td>\n",
       "      <td>10.65</td>\n",
       "      <td>8.09</td>\n",
       "      <td>2.22</td>\n",
       "      <td>5.60</td>\n",
       "      <td>7.38</td>\n",
       "      <td>11.81</td>\n",
       "      <td>28.84</td>\n",
       "      <td>36.84</td>\n",
       "      <td>38.76</td>\n",
       "    </tr>\n",
       "    <tr>\n",
       "      <th>DOLAR</th>\n",
       "      <td>4148.0</td>\n",
       "      <td>2.93</td>\n",
       "      <td>1.19</td>\n",
       "      <td>1.53</td>\n",
       "      <td>1.96</td>\n",
       "      <td>2.41</td>\n",
       "      <td>3.73</td>\n",
       "      <td>5.41</td>\n",
       "      <td>5.67</td>\n",
       "      <td>5.89</td>\n",
       "    </tr>\n",
       "    <tr>\n",
       "      <th>IBOVESPA</th>\n",
       "      <td>5512.0</td>\n",
       "      <td>53870.63</td>\n",
       "      <td>29613.29</td>\n",
       "      <td>8371.00</td>\n",
       "      <td>27111.50</td>\n",
       "      <td>53968.00</td>\n",
       "      <td>67638.75</td>\n",
       "      <td>112567.25</td>\n",
       "      <td>122809.67</td>\n",
       "      <td>130776.00</td>\n",
       "    </tr>\n",
       "    <tr>\n",
       "      <th>cdi</th>\n",
       "      <td>5536.0</td>\n",
       "      <td>0.05</td>\n",
       "      <td>0.02</td>\n",
       "      <td>0.01</td>\n",
       "      <td>0.03</td>\n",
       "      <td>0.04</td>\n",
       "      <td>0.06</td>\n",
       "      <td>0.07</td>\n",
       "      <td>0.09</td>\n",
       "      <td>0.09</td>\n",
       "    </tr>\n",
       "    <tr>\n",
       "      <th>Risco_Brasil</th>\n",
       "      <td>5576.0</td>\n",
       "      <td>338.52</td>\n",
       "      <td>208.29</td>\n",
       "      <td>1.00</td>\n",
       "      <td>216.00</td>\n",
       "      <td>267.00</td>\n",
       "      <td>407.25</td>\n",
       "      <td>802.00</td>\n",
       "      <td>937.50</td>\n",
       "      <td>999.00</td>\n",
       "    </tr>\n",
       "    <tr>\n",
       "      <th>Dividends</th>\n",
       "      <td>5598.0</td>\n",
       "      <td>0.00</td>\n",
       "      <td>0.02</td>\n",
       "      <td>0.00</td>\n",
       "      <td>0.00</td>\n",
       "      <td>0.00</td>\n",
       "      <td>0.00</td>\n",
       "      <td>0.00</td>\n",
       "      <td>0.00</td>\n",
       "      <td>0.96</td>\n",
       "    </tr>\n",
       "    <tr>\n",
       "      <th>selic_meta_diario</th>\n",
       "      <td>5598.0</td>\n",
       "      <td>0.12</td>\n",
       "      <td>0.02</td>\n",
       "      <td>0.05</td>\n",
       "      <td>0.11</td>\n",
       "      <td>0.12</td>\n",
       "      <td>0.14</td>\n",
       "      <td>0.15</td>\n",
       "      <td>0.16</td>\n",
       "      <td>0.16</td>\n",
       "    </tr>\n",
       "    <tr>\n",
       "      <th>selic_overnight_diario</th>\n",
       "      <td>5589.0</td>\n",
       "      <td>0.12</td>\n",
       "      <td>0.02</td>\n",
       "      <td>0.05</td>\n",
       "      <td>0.11</td>\n",
       "      <td>0.12</td>\n",
       "      <td>0.14</td>\n",
       "      <td>0.15</td>\n",
       "      <td>0.16</td>\n",
       "      <td>0.16</td>\n",
       "    </tr>\n",
       "    <tr>\n",
       "      <th>taxa_desemprego_pnad_mensal_diario</th>\n",
       "      <td>2420.0</td>\n",
       "      <td>0.48</td>\n",
       "      <td>0.12</td>\n",
       "      <td>0.29</td>\n",
       "      <td>0.35</td>\n",
       "      <td>0.53</td>\n",
       "      <td>0.58</td>\n",
       "      <td>0.66</td>\n",
       "      <td>0.68</td>\n",
       "      <td>0.68</td>\n",
       "    </tr>\n",
       "    <tr>\n",
       "      <th>volume_vendas_varejo_setor_diario_x</th>\n",
       "      <td>5506.0</td>\n",
       "      <td>3.69</td>\n",
       "      <td>0.87</td>\n",
       "      <td>2.29</td>\n",
       "      <td>2.75</td>\n",
       "      <td>3.90</td>\n",
       "      <td>4.39</td>\n",
       "      <td>4.80</td>\n",
       "      <td>5.58</td>\n",
       "      <td>5.60</td>\n",
       "    </tr>\n",
       "    <tr>\n",
       "      <th>ipca_diario</th>\n",
       "      <td>5566.0</td>\n",
       "      <td>0.02</td>\n",
       "      <td>0.01</td>\n",
       "      <td>-0.02</td>\n",
       "      <td>0.01</td>\n",
       "      <td>0.02</td>\n",
       "      <td>0.02</td>\n",
       "      <td>0.04</td>\n",
       "      <td>0.05</td>\n",
       "      <td>0.06</td>\n",
       "    </tr>\n",
       "    <tr>\n",
       "      <th>igpm_diario</th>\n",
       "      <td>5566.0</td>\n",
       "      <td>0.03</td>\n",
       "      <td>0.04</td>\n",
       "      <td>-0.05</td>\n",
       "      <td>0.01</td>\n",
       "      <td>0.03</td>\n",
       "      <td>0.05</td>\n",
       "      <td>0.11</td>\n",
       "      <td>0.19</td>\n",
       "      <td>0.24</td>\n",
       "    </tr>\n",
       "    <tr>\n",
       "      <th>volume_vendas_varejo_setor_diario_y</th>\n",
       "      <td>5506.0</td>\n",
       "      <td>3.69</td>\n",
       "      <td>0.87</td>\n",
       "      <td>2.29</td>\n",
       "      <td>2.75</td>\n",
       "      <td>3.90</td>\n",
       "      <td>4.39</td>\n",
       "      <td>4.80</td>\n",
       "      <td>5.58</td>\n",
       "      <td>5.60</td>\n",
       "    </tr>\n",
       "    <tr>\n",
       "      <th>producao_bens_consumo_diario</th>\n",
       "      <td>4987.0</td>\n",
       "      <td>4.25</td>\n",
       "      <td>0.44</td>\n",
       "      <td>3.01</td>\n",
       "      <td>3.92</td>\n",
       "      <td>4.26</td>\n",
       "      <td>4.54</td>\n",
       "      <td>4.98</td>\n",
       "      <td>5.23</td>\n",
       "      <td>5.27</td>\n",
       "    </tr>\n",
       "    <tr>\n",
       "      <th>tx_juros_americano_day</th>\n",
       "      <td>5566.0</td>\n",
       "      <td>0.04</td>\n",
       "      <td>0.03</td>\n",
       "      <td>0.00</td>\n",
       "      <td>0.01</td>\n",
       "      <td>0.03</td>\n",
       "      <td>0.06</td>\n",
       "      <td>0.09</td>\n",
       "      <td>0.10</td>\n",
       "      <td>0.10</td>\n",
       "    </tr>\n",
       "    <tr>\n",
       "      <th>industry_production_daily</th>\n",
       "      <td>5566.0</td>\n",
       "      <td>4.39</td>\n",
       "      <td>0.22</td>\n",
       "      <td>3.83</td>\n",
       "      <td>4.22</td>\n",
       "      <td>4.45</td>\n",
       "      <td>4.58</td>\n",
       "      <td>4.68</td>\n",
       "      <td>4.73</td>\n",
       "      <td>4.74</td>\n",
       "    </tr>\n",
       "    <tr>\n",
       "      <th>desemprego_americano_day</th>\n",
       "      <td>5566.0</td>\n",
       "      <td>0.27</td>\n",
       "      <td>0.09</td>\n",
       "      <td>0.16</td>\n",
       "      <td>0.20</td>\n",
       "      <td>0.24</td>\n",
       "      <td>0.31</td>\n",
       "      <td>0.44</td>\n",
       "      <td>0.50</td>\n",
       "      <td>0.67</td>\n",
       "    </tr>\n",
       "    <tr>\n",
       "      <th>inflacao_americana_daily</th>\n",
       "      <td>5566.0</td>\n",
       "      <td>0.28</td>\n",
       "      <td>0.01</td>\n",
       "      <td>0.26</td>\n",
       "      <td>0.27</td>\n",
       "      <td>0.28</td>\n",
       "      <td>0.28</td>\n",
       "      <td>0.29</td>\n",
       "      <td>0.29</td>\n",
       "      <td>0.29</td>\n",
       "    </tr>\n",
       "  </tbody>\n",
       "</table>\n",
       "</div>"
      ],
      "text/plain": [
       "                                      count      mean       std      min  \\\n",
       "AMBEV                                5598.0      7.79      6.38     0.29   \n",
       "rsi                                  5584.0     46.77     12.78     6.04   \n",
       "roc                                  5588.0     -0.44      6.00   -36.31   \n",
       "willr                                5585.0    -53.94     31.83  -100.00   \n",
       "BRF                                  4212.0     52.23    123.04     1.79   \n",
       "EURO                                 4536.0      3.52      1.18     2.17   \n",
       "Heineken_euro                        5572.0     45.67     25.82    15.52   \n",
       "JBS                                  3730.0     10.65      8.09     2.22   \n",
       "DOLAR                                4148.0      2.93      1.19     1.53   \n",
       "IBOVESPA                             5512.0  53870.63  29613.29  8371.00   \n",
       "cdi                                  5536.0      0.05      0.02     0.01   \n",
       "Risco_Brasil                         5576.0    338.52    208.29     1.00   \n",
       "Dividends                            5598.0      0.00      0.02     0.00   \n",
       "selic_meta_diario                    5598.0      0.12      0.02     0.05   \n",
       "selic_overnight_diario               5589.0      0.12      0.02     0.05   \n",
       "taxa_desemprego_pnad_mensal_diario   2420.0      0.48      0.12     0.29   \n",
       "volume_vendas_varejo_setor_diario_x  5506.0      3.69      0.87     2.29   \n",
       "ipca_diario                          5566.0      0.02      0.01    -0.02   \n",
       "igpm_diario                          5566.0      0.03      0.04    -0.05   \n",
       "volume_vendas_varejo_setor_diario_y  5506.0      3.69      0.87     2.29   \n",
       "producao_bens_consumo_diario         4987.0      4.25      0.44     3.01   \n",
       "tx_juros_americano_day               5566.0      0.04      0.03     0.00   \n",
       "industry_production_daily            5566.0      4.39      0.22     3.83   \n",
       "desemprego_americano_day             5566.0      0.27      0.09     0.16   \n",
       "inflacao_americana_daily             5566.0      0.28      0.01     0.26   \n",
       "\n",
       "                                          25%       50%       75%        95%  \\\n",
       "AMBEV                                    1.97      5.22     14.67      17.25   \n",
       "rsi                                     38.00     46.54     55.53      67.29   \n",
       "roc                                     -3.66     -0.66      2.49       8.04   \n",
       "willr                                  -81.83    -56.58    -25.29      -0.00   \n",
       "BRF                                     19.77     26.10     43.92      65.25   \n",
       "EURO                                     2.62      3.16      4.07       6.33   \n",
       "Heineken_euro                           26.14     32.35     71.94      93.41   \n",
       "JBS                                      5.60      7.38     11.81      28.84   \n",
       "DOLAR                                    1.96      2.41      3.73       5.41   \n",
       "IBOVESPA                             27111.50  53968.00  67638.75  112567.25   \n",
       "cdi                                      0.03      0.04      0.06       0.07   \n",
       "Risco_Brasil                           216.00    267.00    407.25     802.00   \n",
       "Dividends                                0.00      0.00      0.00       0.00   \n",
       "selic_meta_diario                        0.11      0.12      0.14       0.15   \n",
       "selic_overnight_diario                   0.11      0.12      0.14       0.15   \n",
       "taxa_desemprego_pnad_mensal_diario       0.35      0.53      0.58       0.66   \n",
       "volume_vendas_varejo_setor_diario_x      2.75      3.90      4.39       4.80   \n",
       "ipca_diario                              0.01      0.02      0.02       0.04   \n",
       "igpm_diario                              0.01      0.03      0.05       0.11   \n",
       "volume_vendas_varejo_setor_diario_y      2.75      3.90      4.39       4.80   \n",
       "producao_bens_consumo_diario             3.92      4.26      4.54       4.98   \n",
       "tx_juros_americano_day                   0.01      0.03      0.06       0.09   \n",
       "industry_production_daily                4.22      4.45      4.58       4.68   \n",
       "desemprego_americano_day                 0.20      0.24      0.31       0.44   \n",
       "inflacao_americana_daily                 0.27      0.28      0.28       0.29   \n",
       "\n",
       "                                           99%        max  \n",
       "AMBEV                                    19.57      21.44  \n",
       "rsi                                      78.44      95.52  \n",
       "roc                                      13.74      85.55  \n",
       "willr                                     0.00      -0.00  \n",
       "BRF                                     739.46     818.86  \n",
       "EURO                                      6.63       6.96  \n",
       "Heineken_euro                            99.17     104.10  \n",
       "JBS                                      36.84      38.76  \n",
       "DOLAR                                     5.67       5.89  \n",
       "IBOVESPA                             122809.67  130776.00  \n",
       "cdi                                       0.09       0.09  \n",
       "Risco_Brasil                            937.50     999.00  \n",
       "Dividends                                 0.00       0.96  \n",
       "selic_meta_diario                         0.16       0.16  \n",
       "selic_overnight_diario                    0.16       0.16  \n",
       "taxa_desemprego_pnad_mensal_diario        0.68       0.68  \n",
       "volume_vendas_varejo_setor_diario_x       5.58       5.60  \n",
       "ipca_diario                               0.05       0.06  \n",
       "igpm_diario                               0.19       0.24  \n",
       "volume_vendas_varejo_setor_diario_y       5.58       5.60  \n",
       "producao_bens_consumo_diario              5.23       5.27  \n",
       "tx_juros_americano_day                    0.10       0.10  \n",
       "industry_production_daily                 4.73       4.74  \n",
       "desemprego_americano_day                  0.50       0.67  \n",
       "inflacao_americana_daily                  0.29       0.29  "
      ]
     },
     "execution_count": 7,
     "metadata": {},
     "output_type": "execute_result"
    }
   ],
   "source": [
    "# description of numerical data , round(2)\n",
    "df1.describe(percentiles = [.25, .5, .75, .95, .99]).round(2).T"
   ]
  },
  {
   "cell_type": "code",
   "execution_count": 7,
   "id": "latin-drinking",
   "metadata": {
    "ExecuteTime": {
     "end_time": "2022-05-05T23:33:26.074291Z",
     "start_time": "2022-05-05T23:33:26.009305Z"
    }
   },
   "outputs": [],
   "source": [
    "# Change Dividends for binary \n",
    "df1['Dividends_boolean'] = df1['Dividends'].apply(lambda x: 0 if x == 0 else 1)"
   ]
  },
  {
   "cell_type": "code",
   "execution_count": 8,
   "id": "changing-patrick",
   "metadata": {
    "ExecuteTime": {
     "end_time": "2022-05-05T23:33:29.119294Z",
     "start_time": "2022-05-05T23:33:29.096345Z"
    }
   },
   "outputs": [],
   "source": [
    "# Drop columns with nulls mean > 50\n",
    "df1.drop(['taxa_desemprego_pnad_mensal_diario'], axis=1, inplace = True)"
   ]
  },
  {
   "cell_type": "code",
   "execution_count": 10,
   "id": "theoretical-flashing",
   "metadata": {
    "ExecuteTime": {
     "end_time": "2022-04-27T17:28:33.950284Z",
     "start_time": "2022-04-27T17:28:33.928209Z"
    }
   },
   "outputs": [
    {
     "name": "stdout",
     "output_type": "stream",
     "text": [
      "Number of Rows: 5598\n",
      "Number of Cols: 25\n"
     ]
    }
   ],
   "source": [
    "# Data dimensions\n",
    "print( 'Number of Rows: {}'.format( df1.shape[0] ) )\n",
    "print( 'Number of Cols: {}'.format( df1.shape[1] ) )"
   ]
  },
  {
   "cell_type": "code",
   "execution_count": 11,
   "id": "romantic-forge",
   "metadata": {
    "ExecuteTime": {
     "end_time": "2022-05-05T23:34:16.942296Z",
     "start_time": "2022-05-05T23:34:16.921304Z"
    }
   },
   "outputs": [
    {
     "data": {
      "text/plain": [
       "Index(['ambev', 'rsi', 'roc', 'willr', 'brf', 'euro', 'heineken_euro', 'jbs',\n",
       "       'dolar', 'ibovespa', 'cdi', 'risco_brasil', 'dividends',\n",
       "       'selic_meta_diario', 'selic_overnight_diario',\n",
       "       'volume_vendas_varejo_setor_diario_x', 'ipca_diario', 'igpm_diario',\n",
       "       'volume_vendas_varejo_setor_diario_y', 'producao_bens_consumo_diario',\n",
       "       'tx_juros_americano_day', 'industry_production_daily',\n",
       "       'desemprego_americano_day', 'inflacao_americana_daily',\n",
       "       'dividends_boolean'],\n",
       "      dtype='object')"
      ]
     },
     "execution_count": 11,
     "metadata": {},
     "output_type": "execute_result"
    }
   ],
   "source": [
    "# Rename Columns\n",
    "columns_old = df1.columns\n",
    "snakecase = lambda x: inflection.underscore( x )\n",
    "\n",
    "cols_new = list( map( snakecase, columns_old ) )\n",
    "\n",
    "# rename\n",
    "df1.columns = cols_new\n",
    "df1.columns\n"
   ]
  },
  {
   "cell_type": "markdown",
   "id": "perceived-rescue",
   "metadata": {
    "ExecuteTime": {
     "end_time": "2022-04-15T13:48:03.663333Z",
     "start_time": "2022-04-15T13:48:03.645332Z"
    }
   },
   "source": [
    "# 2.0 Feature Engineering"
   ]
  },
  {
   "cell_type": "code",
   "execution_count": 12,
   "id": "numeric-security",
   "metadata": {
    "ExecuteTime": {
     "end_time": "2022-05-05T23:34:23.268299Z",
     "start_time": "2022-05-05T23:34:23.253295Z"
    }
   },
   "outputs": [],
   "source": [
    "df2 = df1.copy()"
   ]
  },
  {
   "cell_type": "markdown",
   "id": "endangered-extraction",
   "metadata": {},
   "source": [
    "## 2.1 Hypothesis "
   ]
  },
  {
   "cell_type": "markdown",
   "id": "noticed-sampling",
   "metadata": {
    "ExecuteTime": {
     "end_time": "2022-04-15T14:19:26.778328Z",
     "start_time": "2022-04-15T14:19:26.678336Z"
    }
   },
   "source": [
    "**Cenário Interno**\n",
    "- quando o risco Brasil aumenta, as ações caem\n",
    "- quando o risco Brasil aumenta, o volume de negociação diminui\n",
    "- fatores econômicos influenciam no retorno da ambev\n",
    "\n",
    "**Cenário Internacional**\n",
    "- Quanto menor a taxa de juros americana, maior o volume da Ibovespa\n",
    "- Um bom cenário economico americano impacta no volume ou cotaçao da Ambev\n",
    "\n",
    "**Ação**\n",
    "- Existe uma correlação entre a variação da cotação da entre as cervejarias Heineken e Ambev\n",
    "- Nos dias que antecedem a distrinuição de dividendos, há uma maior procura pela ação da ambev (volume de negociação), influenciando no preço da ação de forma positiva\n",
    "- A taxa de returno diária da Ambev é maior que o CDI e a inflação\n",
    "- O retorno acumulado da Heineken é maior que o da Ambev ao longo dos últimos 5 anos\n",
    "- Historicamente a valorização dos preços da ação da Ambev é maior que a inflação e CDI\n",
    "\n"
   ]
  },
  {
   "cell_type": "markdown",
   "id": "relative-paper",
   "metadata": {},
   "source": [
    "## 2.2 Feature Engineering"
   ]
  },
  {
   "cell_type": "code",
   "execution_count": 13,
   "id": "brilliant-stress",
   "metadata": {
    "ExecuteTime": {
     "end_time": "2022-05-05T23:34:36.056291Z",
     "start_time": "2022-05-05T23:34:36.012305Z"
    }
   },
   "outputs": [],
   "source": [
    "# convert euro X real\n",
    "df2['heineken_real'] = (df2.heineken_euro * df2.euro).round(2)"
   ]
  },
  {
   "cell_type": "code",
   "execution_count": 14,
   "id": "juvenile-contrary",
   "metadata": {
    "ExecuteTime": {
     "end_time": "2022-04-27T17:28:38.181123Z",
     "start_time": "2022-04-27T17:28:34.080449Z"
    }
   },
   "outputs": [
    {
     "name": "stdout",
     "output_type": "stream",
     "text": [
      "[*********************100%***********************]  1 of 1 completed\n",
      "[*********************100%***********************]  1 of 1 completed\n"
     ]
    }
   ],
   "source": [
    "# volume \n",
    "import yfinance as yf\n",
    "import datetime\n",
    "volume_ambev = yf.download('ABEV3.SA', start = '2000-01-01', end = df2.index[-1])['Volume']\n",
    "volume_ibovespa = yf.download('^BVSP', start = '2000-01-01', end = df2.index[-1])['Volume']"
   ]
  },
  {
   "cell_type": "code",
   "execution_count": 15,
   "id": "located-prevention",
   "metadata": {
    "ExecuteTime": {
     "end_time": "2022-04-27T17:28:38.213123Z",
     "start_time": "2022-04-27T17:28:38.185124Z"
    }
   },
   "outputs": [
    {
     "data": {
      "text/plain": [
       "Date\n",
       "2000-01-03           0\n",
       "2000-01-04           0\n",
       "2000-01-05           0\n",
       "2000-01-06           0\n",
       "2000-01-07           0\n",
       "                ...   \n",
       "2022-04-07    11520100\n",
       "2022-04-08    11225800\n",
       "2022-04-11     9558400\n",
       "2022-04-12    11406800\n",
       "2022-04-13    12070500\n",
       "Name: Volume, Length: 5513, dtype: int64"
      ]
     },
     "execution_count": 15,
     "metadata": {},
     "output_type": "execute_result"
    }
   ],
   "source": [
    "volume_ibovespa"
   ]
  },
  {
   "cell_type": "code",
   "execution_count": 16,
   "id": "guilty-western",
   "metadata": {
    "ExecuteTime": {
     "end_time": "2022-04-27T17:28:38.244124Z",
     "start_time": "2022-04-27T17:28:38.216125Z"
    }
   },
   "outputs": [],
   "source": [
    "df2['volume_ambev'] = volume_ambev\n",
    "df2['volume_ibovespa'] = volume_ibovespa\n",
    "\n"
   ]
  },
  {
   "cell_type": "code",
   "execution_count": 17,
   "id": "optimum-importance",
   "metadata": {
    "ExecuteTime": {
     "end_time": "2022-04-27T17:28:38.304125Z",
     "start_time": "2022-04-27T17:28:38.247125Z"
    }
   },
   "outputs": [
    {
     "data": {
      "text/html": [
       "<div>\n",
       "<style scoped>\n",
       "    .dataframe tbody tr th:only-of-type {\n",
       "        vertical-align: middle;\n",
       "    }\n",
       "\n",
       "    .dataframe tbody tr th {\n",
       "        vertical-align: top;\n",
       "    }\n",
       "\n",
       "    .dataframe thead th {\n",
       "        text-align: right;\n",
       "    }\n",
       "</style>\n",
       "<table border=\"1\" class=\"dataframe\">\n",
       "  <thead>\n",
       "    <tr style=\"text-align: right;\">\n",
       "      <th></th>\n",
       "      <th>ambev</th>\n",
       "      <th>rsi</th>\n",
       "      <th>roc</th>\n",
       "      <th>willr</th>\n",
       "      <th>brf</th>\n",
       "      <th>euro</th>\n",
       "      <th>heineken_euro</th>\n",
       "      <th>jbs</th>\n",
       "      <th>dolar</th>\n",
       "      <th>ibovespa</th>\n",
       "      <th>cdi</th>\n",
       "      <th>risco_brasil</th>\n",
       "      <th>dividends</th>\n",
       "      <th>selic_meta_diario</th>\n",
       "      <th>selic_overnight_diario</th>\n",
       "      <th>volume_vendas_varejo_setor_diario_x</th>\n",
       "      <th>ipca_diario</th>\n",
       "      <th>igpm_diario</th>\n",
       "      <th>volume_vendas_varejo_setor_diario_y</th>\n",
       "      <th>producao_bens_consumo_diario</th>\n",
       "      <th>tx_juros_americano_day</th>\n",
       "      <th>industry_production_daily</th>\n",
       "      <th>desemprego_americano_day</th>\n",
       "      <th>inflacao_americana_daily</th>\n",
       "      <th>dividends_boolean</th>\n",
       "      <th>heineken_real</th>\n",
       "      <th>volume_ambev</th>\n",
       "      <th>volume_ibovespa</th>\n",
       "    </tr>\n",
       "    <tr>\n",
       "      <th>data</th>\n",
       "      <th></th>\n",
       "      <th></th>\n",
       "      <th></th>\n",
       "      <th></th>\n",
       "      <th></th>\n",
       "      <th></th>\n",
       "      <th></th>\n",
       "      <th></th>\n",
       "      <th></th>\n",
       "      <th></th>\n",
       "      <th></th>\n",
       "      <th></th>\n",
       "      <th></th>\n",
       "      <th></th>\n",
       "      <th></th>\n",
       "      <th></th>\n",
       "      <th></th>\n",
       "      <th></th>\n",
       "      <th></th>\n",
       "      <th></th>\n",
       "      <th></th>\n",
       "      <th></th>\n",
       "      <th></th>\n",
       "      <th></th>\n",
       "      <th></th>\n",
       "      <th></th>\n",
       "      <th></th>\n",
       "      <th></th>\n",
       "    </tr>\n",
       "  </thead>\n",
       "  <tbody>\n",
       "    <tr>\n",
       "      <th>2022-04-13</th>\n",
       "      <td>14.83</td>\n",
       "      <td>43.559</td>\n",
       "      <td>-6.255</td>\n",
       "      <td>-71.449</td>\n",
       "      <td>15.78</td>\n",
       "      <td>5.056</td>\n",
       "      <td>87.68</td>\n",
       "      <td>37.45</td>\n",
       "      <td>4.673</td>\n",
       "      <td>116782.0</td>\n",
       "      <td>0.044</td>\n",
       "      <td>296.0</td>\n",
       "      <td>0.0</td>\n",
       "      <td>0.123</td>\n",
       "      <td>NaN</td>\n",
       "      <td>NaN</td>\n",
       "      <td>NaN</td>\n",
       "      <td>NaN</td>\n",
       "      <td>NaN</td>\n",
       "      <td>NaN</td>\n",
       "      <td>NaN</td>\n",
       "      <td>NaN</td>\n",
       "      <td>NaN</td>\n",
       "      <td>NaN</td>\n",
       "      <td>0</td>\n",
       "      <td>443.31</td>\n",
       "      <td>33771300.0</td>\n",
       "      <td>12070500.0</td>\n",
       "    </tr>\n",
       "    <tr>\n",
       "      <th>2022-04-14</th>\n",
       "      <td>14.70</td>\n",
       "      <td>57.786</td>\n",
       "      <td>-1.250</td>\n",
       "      <td>-14.274</td>\n",
       "      <td>15.23</td>\n",
       "      <td>5.107</td>\n",
       "      <td>90.02</td>\n",
       "      <td>38.48</td>\n",
       "      <td>4.690</td>\n",
       "      <td>116182.0</td>\n",
       "      <td>0.044</td>\n",
       "      <td>NaN</td>\n",
       "      <td>0.0</td>\n",
       "      <td>0.123</td>\n",
       "      <td>NaN</td>\n",
       "      <td>NaN</td>\n",
       "      <td>NaN</td>\n",
       "      <td>NaN</td>\n",
       "      <td>NaN</td>\n",
       "      <td>NaN</td>\n",
       "      <td>NaN</td>\n",
       "      <td>NaN</td>\n",
       "      <td>NaN</td>\n",
       "      <td>NaN</td>\n",
       "      <td>0</td>\n",
       "      <td>459.73</td>\n",
       "      <td>NaN</td>\n",
       "      <td>NaN</td>\n",
       "    </tr>\n",
       "  </tbody>\n",
       "</table>\n",
       "</div>"
      ],
      "text/plain": [
       "            ambev     rsi    roc   willr    brf   euro  heineken_euro    jbs  \\\n",
       "data                                                                           \n",
       "2022-04-13  14.83  43.559 -6.255 -71.449  15.78  5.056          87.68  37.45   \n",
       "2022-04-14  14.70  57.786 -1.250 -14.274  15.23  5.107          90.02  38.48   \n",
       "\n",
       "            dolar  ibovespa    cdi  risco_brasil  dividends  \\\n",
       "data                                                          \n",
       "2022-04-13  4.673  116782.0  0.044         296.0        0.0   \n",
       "2022-04-14  4.690  116182.0  0.044           NaN        0.0   \n",
       "\n",
       "            selic_meta_diario  selic_overnight_diario  \\\n",
       "data                                                    \n",
       "2022-04-13              0.123                     NaN   \n",
       "2022-04-14              0.123                     NaN   \n",
       "\n",
       "            volume_vendas_varejo_setor_diario_x  ipca_diario  igpm_diario  \\\n",
       "data                                                                        \n",
       "2022-04-13                                  NaN          NaN          NaN   \n",
       "2022-04-14                                  NaN          NaN          NaN   \n",
       "\n",
       "            volume_vendas_varejo_setor_diario_y  producao_bens_consumo_diario  \\\n",
       "data                                                                            \n",
       "2022-04-13                                  NaN                           NaN   \n",
       "2022-04-14                                  NaN                           NaN   \n",
       "\n",
       "            tx_juros_americano_day  industry_production_daily  \\\n",
       "data                                                            \n",
       "2022-04-13                     NaN                        NaN   \n",
       "2022-04-14                     NaN                        NaN   \n",
       "\n",
       "            desemprego_americano_day  inflacao_americana_daily  \\\n",
       "data                                                             \n",
       "2022-04-13                       NaN                       NaN   \n",
       "2022-04-14                       NaN                       NaN   \n",
       "\n",
       "            dividends_boolean  heineken_real  volume_ambev  volume_ibovespa  \n",
       "data                                                                         \n",
       "2022-04-13                  0         443.31    33771300.0       12070500.0  \n",
       "2022-04-14                  0         459.73           NaN              NaN  "
      ]
     },
     "execution_count": 17,
     "metadata": {},
     "output_type": "execute_result"
    }
   ],
   "source": [
    "df2.tail(2)"
   ]
  },
  {
   "cell_type": "code",
   "execution_count": null,
   "id": "dangerous-shopper",
   "metadata": {},
   "outputs": [],
   "source": []
  },
  {
   "cell_type": "markdown",
   "id": "comprehensive-shoulder",
   "metadata": {},
   "source": [
    "# 3.0 EDA"
   ]
  },
  {
   "cell_type": "markdown",
   "id": "broadband-woman",
   "metadata": {
    "ExecuteTime": {
     "end_time": "2022-04-21T23:46:26.621575Z",
     "start_time": "2022-04-21T23:46:26.593571Z"
    }
   },
   "source": [
    "## 3.1 univariada"
   ]
  },
  {
   "cell_type": "code",
   "execution_count": 18,
   "id": "supreme-patent",
   "metadata": {
    "ExecuteTime": {
     "end_time": "2022-04-27T17:28:38.975131Z",
     "start_time": "2022-04-27T17:28:38.308129Z"
    }
   },
   "outputs": [
    {
     "data": {
      "image/png": "[encoded data removed]",
      "text/plain": [
       "<Figure size 432x288 with 1 Axes>"
      ]
     },
     "metadata": {
      "needs_background": "light"
     },
     "output_type": "display_data"
    }
   ],
   "source": [
    "df2.ambev.plot();\n",
    "plt.title('COTAÇÃO AMBEV ao longo dos anos');"
   ]
  },
  {
   "cell_type": "code",
   "execution_count": 19,
   "id": "regular-gravity",
   "metadata": {
    "ExecuteTime": {
     "end_time": "2022-04-27T17:28:40.874166Z",
     "start_time": "2022-04-27T17:28:38.979132Z"
    }
   },
   "outputs": [
    {
     "data": {
      "image/png": "[encoded data removed]",
      "text/plain": [
       "<Figure size 432x288 with 1 Axes>"
      ]
     },
     "metadata": {
      "needs_background": "light"
     },
     "output_type": "display_data"
    }
   ],
   "source": [
    "sns.distplot( df2.ambev);"
   ]
  },
  {
   "cell_type": "code",
   "execution_count": 20,
   "id": "demanding-problem",
   "metadata": {
    "ExecuteTime": {
     "end_time": "2022-04-27T17:28:41.550126Z",
     "start_time": "2022-04-27T17:28:40.878126Z"
    }
   },
   "outputs": [
    {
     "data": {
      "image/png": "[encoded data removed]",
      "text/plain": [
       "<Figure size 432x288 with 1 Axes>"
      ]
     },
     "metadata": {
      "needs_background": "light"
     },
     "output_type": "display_data"
    }
   ],
   "source": [
    "stocks = ['ambev', 'brf', 'jbs', 'ibovespa', 'heineken_real']\n",
    "prices = df2[df2.index > pd.to_datetime('2008-01-01')][stocks]\n",
    "\n",
    "# Select first prices\n",
    "first_prices = prices.iloc[0]\n",
    "\n",
    "# Create normalized\n",
    "normalized = prices.div(first_prices).mul(100)\n",
    "\n",
    "# Plot normalized\n",
    "normalized.plot()\n",
    "plt.title('Comparativo AMBEV x BRF x JBS x IBOVESPA 2008 -2022 (normatizado) ')\n",
    "plt.show()"
   ]
  },
  {
   "cell_type": "markdown",
   "id": "compound-remedy",
   "metadata": {},
   "source": [
    "### H3 Fatores econômicos influenciam no retorno da ambev"
   ]
  },
  {
   "cell_type": "code",
   "execution_count": 14,
   "id": "closed-equivalent",
   "metadata": {
    "ExecuteTime": {
     "end_time": "2022-05-05T23:36:05.089334Z",
     "start_time": "2022-05-05T23:35:54.615295Z"
    }
   },
   "outputs": [
    {
     "name": "stdout",
     "output_type": "stream",
     "text": [
      "[*********************100%***********************]  1 of 1 completed\n"
     ]
    },
    {
     "data": {
      "image/png": "[encoded data removed]",
      "text/plain": [
       "<Figure size 432x288 with 1 Axes>"
      ]
     },
     "metadata": {
      "needs_background": "light"
     },
     "output_type": "display_data"
    }
   ],
   "source": [
    "# Ambev montly returns \n",
    "data = Price_Historical_Data_technical_analysis()\n",
    "ambev_monthly =  data.cotacao_conjunto_acao_somente_adj_close('ABEV3.SA', '2000-01-01',  df2.index[-1], interval='1mo'  )\n",
    "ambev_monthly = ambev_monthly.to_frame()\n",
    "\n",
    "ambev_monthly.rename({'Adj Close': 'ambev'}, axis = 1, inplace = True)\n",
    "ambev_monthly.index.name = 'data'\n",
    "ambev_monthly_return = ambev_monthly.pct_change().mul(100)\n",
    "ambev_monthly_return.plot()\n",
    "plt.legend();\n",
    "plt.title('Retorno mensal Ambev');"
   ]
  },
  {
   "cell_type": "code",
   "execution_count": 15,
   "id": "mathematical-sequence",
   "metadata": {
    "ExecuteTime": {
     "end_time": "2022-05-05T23:36:17.266297Z",
     "start_time": "2022-05-05T23:36:16.775297Z"
    }
   },
   "outputs": [
    {
     "data": {
      "text/html": [
       "<div>\n",
       "<style scoped>\n",
       "    .dataframe tbody tr th:only-of-type {\n",
       "        vertical-align: middle;\n",
       "    }\n",
       "\n",
       "    .dataframe tbody tr th {\n",
       "        vertical-align: top;\n",
       "    }\n",
       "\n",
       "    .dataframe thead th {\n",
       "        text-align: right;\n",
       "    }\n",
       "</style>\n",
       "<table border=\"1\" class=\"dataframe\">\n",
       "  <thead>\n",
       "    <tr style=\"text-align: right;\">\n",
       "      <th></th>\n",
       "      <th>ipca_alimentos_bebidas</th>\n",
       "      <th>ipca_mensal</th>\n",
       "      <th>igpm</th>\n",
       "      <th>selic_meta_mensal</th>\n",
       "      <th>selic_overnight_mensal</th>\n",
       "      <th>taxa_desemprego_pnad_mensal</th>\n",
       "      <th>indice_volume_vendas_varejo_setor_mensal</th>\n",
       "      <th>indice_producao_bens_consumo_mensal</th>\n",
       "    </tr>\n",
       "    <tr>\n",
       "      <th>data</th>\n",
       "      <th></th>\n",
       "      <th></th>\n",
       "      <th></th>\n",
       "      <th></th>\n",
       "      <th></th>\n",
       "      <th></th>\n",
       "      <th></th>\n",
       "      <th></th>\n",
       "    </tr>\n",
       "  </thead>\n",
       "  <tbody>\n",
       "    <tr>\n",
       "      <th>2002-06-01</th>\n",
       "      <td>0.08</td>\n",
       "      <td>0.42</td>\n",
       "      <td>1.54</td>\n",
       "      <td>18.50</td>\n",
       "      <td>18.10</td>\n",
       "      <td>NaN</td>\n",
       "      <td>55.0</td>\n",
       "      <td>77.8</td>\n",
       "    </tr>\n",
       "    <tr>\n",
       "      <th>2006-03-01</th>\n",
       "      <td>-0.24</td>\n",
       "      <td>0.43</td>\n",
       "      <td>-0.23</td>\n",
       "      <td>17.25</td>\n",
       "      <td>16.74</td>\n",
       "      <td>NaN</td>\n",
       "      <td>63.4</td>\n",
       "      <td>92.1</td>\n",
       "    </tr>\n",
       "  </tbody>\n",
       "</table>\n",
       "</div>"
      ],
      "text/plain": [
       "            ipca_alimentos_bebidas  ipca_mensal  igpm  selic_meta_mensal  \\\n",
       "data                                                                       \n",
       "2002-06-01                    0.08         0.42  1.54              18.50   \n",
       "2006-03-01                   -0.24         0.43 -0.23              17.25   \n",
       "\n",
       "            selic_overnight_mensal  taxa_desemprego_pnad_mensal  \\\n",
       "data                                                              \n",
       "2002-06-01                   18.10                          NaN   \n",
       "2006-03-01                   16.74                          NaN   \n",
       "\n",
       "            indice_volume_vendas_varejo_setor_mensal  \\\n",
       "data                                                   \n",
       "2002-06-01                                      55.0   \n",
       "2006-03-01                                      63.4   \n",
       "\n",
       "            indice_producao_bens_consumo_mensal  \n",
       "data                                             \n",
       "2002-06-01                                 77.8  \n",
       "2006-03-01                                 92.1  "
      ]
     },
     "execution_count": 15,
     "metadata": {},
     "output_type": "execute_result"
    }
   ],
   "source": [
    "indicadores_economicos = pd.read_csv('../data/external/indicadores_economicos_mensal_br.csv', parse_dates=['data'], index_col='data')\n",
    "indicadores_economicos.sample(2)\n"
   ]
  },
  {
   "cell_type": "code",
   "execution_count": 16,
   "id": "exposed-interpretation",
   "metadata": {
    "ExecuteTime": {
     "end_time": "2022-05-05T23:36:26.079336Z",
     "start_time": "2022-05-05T23:36:25.639296Z"
    }
   },
   "outputs": [
    {
     "data": {
      "image/png": "[encoded data removed]",
      "text/plain": [
       "<Figure size 432x288 with 1 Axes>"
      ]
     },
     "metadata": {
      "needs_background": "light"
     },
     "output_type": "display_data"
    }
   ],
   "source": [
    "data = pd.merge(ambev_monthly,indicadores_economicos, on= 'data' )\n",
    "\n",
    "data_interpolated = data.interpolate()\n",
    "\n",
    "#Calculando retorno da Ambev\n",
    "data_interpolated['ambev_return'] = data_interpolated.ambev.pct_change()*100\n",
    "data_interpolated.drop(['ambev', 'indice_volume_vendas_varejo_setor_mensal', 'indice_producao_bens_consumo_mensal', 'selic_overnight_mensal'], 1, inplace=True)\n",
    "\n",
    "data_interpolated.loc['2012':].plot();\n",
    "plt.legend(loc=(1.04,0));\n"
   ]
  },
  {
   "cell_type": "code",
   "execution_count": 24,
   "id": "forced-shadow",
   "metadata": {
    "ExecuteTime": {
     "end_time": "2022-04-27T17:28:45.046121Z",
     "start_time": "2022-04-27T17:28:44.296126Z"
    }
   },
   "outputs": [
    {
     "data": {
      "image/png": "[encoded data removed]",
      "text/plain": [
       "<Figure size 432x288 with 1 Axes>"
      ]
     },
     "metadata": {
      "needs_background": "light"
     },
     "output_type": "display_data"
    }
   ],
   "source": [
    "\n",
    "#pal = sns.color_palette(\"mako_r\",7)\n",
    "sns.lineplot(data=data_interpolated.loc['2012':], palette='deep', dashes= False, markers=True);\n",
    "plt.legend(loc=(1.04,0));"
   ]
  },
  {
   "cell_type": "code",
   "execution_count": 25,
   "id": "peripheral-warrant",
   "metadata": {
    "ExecuteTime": {
     "end_time": "2022-04-27T17:28:46.426173Z",
     "start_time": "2022-04-27T17:28:45.050125Z"
    }
   },
   "outputs": [
    {
     "data": {
      "text/plain": [
       "<AxesSubplot:xlabel='data', ylabel='ambev'>"
      ]
     },
     "execution_count": 25,
     "metadata": {},
     "output_type": "execute_result"
    },
    {
     "data": {
      "image/png": "[encoded data removed]",
      "text/plain": [
       "<Figure size 432x288 with 1 Axes>"
      ]
     },
     "metadata": {
      "needs_background": "light"
     },
     "output_type": "display_data"
    }
   ],
   "source": [
    "sns.lineplot(y='ambev', x= ambev_monthly_return.index,  data= ambev_monthly_return )\n",
    "sns.lineplot(y='igpm', x= indicadores_economicos.index,  data= indicadores_economicos)\n",
    "sns.lineplot(y='ipca_mensal', x= indicadores_economicos.index,  data= indicadores_economicos)\n",
    "sns.lineplot(y='selic_meta_mensal', x= indicadores_economicos.index,  data= indicadores_economicos)\n",
    "sns.lineplot(y='taxa_desemprego_pnad_mensal', x= indicadores_economicos.index,  data= indicadores_economicos)\n"
   ]
  },
  {
   "cell_type": "code",
   "execution_count": 26,
   "id": "reserved-violence",
   "metadata": {
    "ExecuteTime": {
     "end_time": "2022-04-27T17:28:48.273127Z",
     "start_time": "2022-04-27T17:28:46.429123Z"
    }
   },
   "outputs": [],
   "source": [
    "import statsmodels.formula.api as smf"
   ]
  },
  {
   "cell_type": "code",
   "execution_count": 27,
   "id": "sufficient-billy",
   "metadata": {
    "ExecuteTime": {
     "end_time": "2022-04-27T17:28:48.320123Z",
     "start_time": "2022-04-27T17:28:48.302124Z"
    }
   },
   "outputs": [],
   "source": [
    "X = data_interpolated"
   ]
  },
  {
   "cell_type": "code",
   "execution_count": 28,
   "id": "valuable-hanging",
   "metadata": {
    "ExecuteTime": {
     "end_time": "2022-04-27T17:28:48.428191Z",
     "start_time": "2022-04-27T17:28:48.325127Z"
    }
   },
   "outputs": [
    {
     "data": {
      "text/html": [
       "<div>\n",
       "<style scoped>\n",
       "    .dataframe tbody tr th:only-of-type {\n",
       "        vertical-align: middle;\n",
       "    }\n",
       "\n",
       "    .dataframe tbody tr th {\n",
       "        vertical-align: top;\n",
       "    }\n",
       "\n",
       "    .dataframe thead th {\n",
       "        text-align: right;\n",
       "    }\n",
       "</style>\n",
       "<table border=\"1\" class=\"dataframe\">\n",
       "  <thead>\n",
       "    <tr style=\"text-align: right;\">\n",
       "      <th></th>\n",
       "      <th>ipca_alimentos_bebidas</th>\n",
       "      <th>ipca_mensal</th>\n",
       "      <th>igpm</th>\n",
       "      <th>selic_meta_mensal</th>\n",
       "      <th>taxa_desemprego_pnad_mensal</th>\n",
       "      <th>ambev_return</th>\n",
       "    </tr>\n",
       "    <tr>\n",
       "      <th>data</th>\n",
       "      <th></th>\n",
       "      <th></th>\n",
       "      <th></th>\n",
       "      <th></th>\n",
       "      <th></th>\n",
       "      <th></th>\n",
       "    </tr>\n",
       "  </thead>\n",
       "  <tbody>\n",
       "    <tr>\n",
       "      <th>2012-01-01</th>\n",
       "      <td>0.86</td>\n",
       "      <td>0.56</td>\n",
       "      <td>0.25</td>\n",
       "      <td>11.00</td>\n",
       "      <td>10.442593</td>\n",
       "      <td>-4.761892</td>\n",
       "    </tr>\n",
       "    <tr>\n",
       "      <th>2012-02-01</th>\n",
       "      <td>0.19</td>\n",
       "      <td>0.45</td>\n",
       "      <td>-0.06</td>\n",
       "      <td>10.50</td>\n",
       "      <td>10.442593</td>\n",
       "      <td>11.769274</td>\n",
       "    </tr>\n",
       "    <tr>\n",
       "      <th>2012-03-01</th>\n",
       "      <td>0.25</td>\n",
       "      <td>0.21</td>\n",
       "      <td>0.43</td>\n",
       "      <td>10.50</td>\n",
       "      <td>8.000000</td>\n",
       "      <td>8.344762</td>\n",
       "    </tr>\n",
       "    <tr>\n",
       "      <th>2012-04-01</th>\n",
       "      <td>0.51</td>\n",
       "      <td>0.64</td>\n",
       "      <td>0.85</td>\n",
       "      <td>9.75</td>\n",
       "      <td>7.800000</td>\n",
       "      <td>8.520115</td>\n",
       "    </tr>\n",
       "    <tr>\n",
       "      <th>2012-05-01</th>\n",
       "      <td>0.73</td>\n",
       "      <td>0.36</td>\n",
       "      <td>1.02</td>\n",
       "      <td>9.00</td>\n",
       "      <td>7.700000</td>\n",
       "      <td>-7.150248</td>\n",
       "    </tr>\n",
       "  </tbody>\n",
       "</table>\n",
       "</div>"
      ],
      "text/plain": [
       "            ipca_alimentos_bebidas  ipca_mensal  igpm  selic_meta_mensal  \\\n",
       "data                                                                       \n",
       "2012-01-01                    0.86         0.56  0.25              11.00   \n",
       "2012-02-01                    0.19         0.45 -0.06              10.50   \n",
       "2012-03-01                    0.25         0.21  0.43              10.50   \n",
       "2012-04-01                    0.51         0.64  0.85               9.75   \n",
       "2012-05-01                    0.73         0.36  1.02               9.00   \n",
       "\n",
       "            taxa_desemprego_pnad_mensal  ambev_return  \n",
       "data                                                   \n",
       "2012-01-01                    10.442593     -4.761892  \n",
       "2012-02-01                    10.442593     11.769274  \n",
       "2012-03-01                     8.000000      8.344762  \n",
       "2012-04-01                     7.800000      8.520115  \n",
       "2012-05-01                     7.700000     -7.150248  "
      ]
     },
     "execution_count": 28,
     "metadata": {},
     "output_type": "execute_result"
    }
   ],
   "source": [
    "intervalo = data_interpolated.loc['2012':]\n",
    "intervalo.taxa_desemprego_pnad_mensal.fillna(intervalo.taxa_desemprego_pnad_mensal.mean(), inplace = True)\n",
    "intervalo.head()"
   ]
  },
  {
   "cell_type": "code",
   "execution_count": 29,
   "id": "english-arthur",
   "metadata": {
    "ExecuteTime": {
     "end_time": "2022-04-27T17:28:48.804125Z",
     "start_time": "2022-04-27T17:28:48.438133Z"
    }
   },
   "outputs": [
    {
     "data": {
      "text/plain": [
       "<AxesSubplot:>"
      ]
     },
     "execution_count": 29,
     "metadata": {},
     "output_type": "execute_result"
    },
    {
     "data": {
      "image/png": "[encoded data removed]",
      "text/plain": [
       "<Figure size 432x288 with 1 Axes>"
      ]
     },
     "metadata": {
      "needs_background": "light"
     },
     "output_type": "display_data"
    }
   ],
   "source": [
    "intervalo['logambev_return'] = np.log1p(intervalo['ambev_return'])\n",
    "intervalo['logambev_return'].hist()"
   ]
  },
  {
   "cell_type": "code",
   "execution_count": 30,
   "id": "strange-toner",
   "metadata": {
    "ExecuteTime": {
     "end_time": "2022-04-27T17:28:48.963191Z",
     "start_time": "2022-04-27T17:28:48.808129Z"
    }
   },
   "outputs": [
    {
     "data": {
      "text/html": [
       "<table class=\"simpletable\">\n",
       "<caption>OLS Regression Results</caption>\n",
       "<tr>\n",
       "  <th>Dep. Variable:</th>     <td>logambev_return</td> <th>  R-squared:         </th> <td>   0.178</td>\n",
       "</tr>\n",
       "<tr>\n",
       "  <th>Model:</th>                   <td>OLS</td>       <th>  Adj. R-squared:    </th> <td>   0.109</td>\n",
       "</tr>\n",
       "<tr>\n",
       "  <th>Method:</th>             <td>Least Squares</td>  <th>  F-statistic:       </th> <td>   2.562</td>\n",
       "</tr>\n",
       "<tr>\n",
       "  <th>Date:</th>             <td>Wed, 27 Apr 2022</td> <th>  Prob (F-statistic):</th>  <td>0.0365</td> \n",
       "</tr>\n",
       "<tr>\n",
       "  <th>Time:</th>                 <td>14:28:48</td>     <th>  Log-Likelihood:    </th> <td> -97.878</td>\n",
       "</tr>\n",
       "<tr>\n",
       "  <th>No. Observations:</th>      <td>    65</td>      <th>  AIC:               </th> <td>   207.8</td>\n",
       "</tr>\n",
       "<tr>\n",
       "  <th>Df Residuals:</th>          <td>    59</td>      <th>  BIC:               </th> <td>   220.8</td>\n",
       "</tr>\n",
       "<tr>\n",
       "  <th>Df Model:</th>              <td>     5</td>      <th>                     </th>     <td> </td>   \n",
       "</tr>\n",
       "<tr>\n",
       "  <th>Covariance Type:</th>      <td>nonrobust</td>    <th>                     </th>     <td> </td>   \n",
       "</tr>\n",
       "</table>\n",
       "<table class=\"simpletable\">\n",
       "<tr>\n",
       "               <td></td>                  <th>coef</th>     <th>std err</th>      <th>t</th>      <th>P>|t|</th>  <th>[0.025</th>    <th>0.975]</th>  \n",
       "</tr>\n",
       "<tr>\n",
       "  <th>Intercept</th>                   <td>    0.8323</td> <td>    0.868</td> <td>    0.959</td> <td> 0.341</td> <td>   -0.904</td> <td>    2.569</td>\n",
       "</tr>\n",
       "<tr>\n",
       "  <th>ipca_alimentos_bebidas</th>      <td>   -0.1243</td> <td>    0.298</td> <td>   -0.417</td> <td> 0.678</td> <td>   -0.721</td> <td>    0.472</td>\n",
       "</tr>\n",
       "<tr>\n",
       "  <th>ipca_mensal</th>                 <td>    1.0926</td> <td>    0.588</td> <td>    1.860</td> <td> 0.068</td> <td>   -0.083</td> <td>    2.268</td>\n",
       "</tr>\n",
       "<tr>\n",
       "  <th>igpm</th>                        <td>   -0.2376</td> <td>    0.192</td> <td>   -1.238</td> <td> 0.221</td> <td>   -0.622</td> <td>    0.146</td>\n",
       "</tr>\n",
       "<tr>\n",
       "  <th>selic_meta_mensal</th>           <td>   -0.1111</td> <td>    0.049</td> <td>   -2.256</td> <td> 0.028</td> <td>   -0.210</td> <td>   -0.013</td>\n",
       "</tr>\n",
       "<tr>\n",
       "  <th>taxa_desemprego_pnad_mensal</th> <td>    0.1213</td> <td>    0.059</td> <td>    2.068</td> <td> 0.043</td> <td>    0.004</td> <td>    0.239</td>\n",
       "</tr>\n",
       "</table>\n",
       "<table class=\"simpletable\">\n",
       "<tr>\n",
       "  <th>Omnibus:</th>       <td>16.457</td> <th>  Durbin-Watson:     </th> <td>   1.820</td>\n",
       "</tr>\n",
       "<tr>\n",
       "  <th>Prob(Omnibus):</th> <td> 0.000</td> <th>  Jarque-Bera (JB):  </th> <td>  18.992</td>\n",
       "</tr>\n",
       "<tr>\n",
       "  <th>Skew:</th>          <td>-1.222</td> <th>  Prob(JB):          </th> <td>7.52e-05</td>\n",
       "</tr>\n",
       "<tr>\n",
       "  <th>Kurtosis:</th>      <td> 4.017</td> <th>  Cond. No.          </th> <td>    86.5</td>\n",
       "</tr>\n",
       "</table><br/><br/>Notes:<br/>[1] Standard Errors assume that the covariance matrix of the errors is correctly specified."
      ],
      "text/plain": [
       "<class 'statsmodels.iolib.summary.Summary'>\n",
       "\"\"\"\n",
       "                            OLS Regression Results                            \n",
       "==============================================================================\n",
       "Dep. Variable:        logambev_return   R-squared:                       0.178\n",
       "Model:                            OLS   Adj. R-squared:                  0.109\n",
       "Method:                 Least Squares   F-statistic:                     2.562\n",
       "Date:                Wed, 27 Apr 2022   Prob (F-statistic):             0.0365\n",
       "Time:                        14:28:48   Log-Likelihood:                -97.878\n",
       "No. Observations:                  65   AIC:                             207.8\n",
       "Df Residuals:                      59   BIC:                             220.8\n",
       "Df Model:                           5                                         \n",
       "Covariance Type:            nonrobust                                         \n",
       "===============================================================================================\n",
       "                                  coef    std err          t      P>|t|      [0.025      0.975]\n",
       "-----------------------------------------------------------------------------------------------\n",
       "Intercept                       0.8323      0.868      0.959      0.341      -0.904       2.569\n",
       "ipca_alimentos_bebidas         -0.1243      0.298     -0.417      0.678      -0.721       0.472\n",
       "ipca_mensal                     1.0926      0.588      1.860      0.068      -0.083       2.268\n",
       "igpm                           -0.2376      0.192     -1.238      0.221      -0.622       0.146\n",
       "selic_meta_mensal              -0.1111      0.049     -2.256      0.028      -0.210      -0.013\n",
       "taxa_desemprego_pnad_mensal     0.1213      0.059      2.068      0.043       0.004       0.239\n",
       "==============================================================================\n",
       "Omnibus:                       16.457   Durbin-Watson:                   1.820\n",
       "Prob(Omnibus):                  0.000   Jarque-Bera (JB):               18.992\n",
       "Skew:                          -1.222   Prob(JB):                     7.52e-05\n",
       "Kurtosis:                       4.017   Cond. No.                         86.5\n",
       "==============================================================================\n",
       "\n",
       "Notes:\n",
       "[1] Standard Errors assume that the covariance matrix of the errors is correctly specified.\n",
       "\"\"\""
      ]
     },
     "execution_count": 30,
     "metadata": {},
     "output_type": "execute_result"
    }
   ],
   "source": [
    "reg_linear1 = smf.ols(formula='logambev_return ~ ipca_alimentos_bebidas+ ipca_mensal+ igpm+ selic_meta_mensal + taxa_desemprego_pnad_mensal ', data=intervalo).fit()\n",
    "reg_linear1.summary()"
   ]
  },
  {
   "cell_type": "code",
   "execution_count": 31,
   "id": "certified-savings",
   "metadata": {
    "ExecuteTime": {
     "end_time": "2022-04-27T17:28:49.026124Z",
     "start_time": "2022-04-27T17:28:48.971132Z"
    }
   },
   "outputs": [
    {
     "name": "stdout",
     "output_type": "stream",
     "text": [
      "   VIF Factor                     Variable\n",
      "0    2.029132       ipca_alimentos_bebidas\n",
      "1    1.977817                  ipca_mensal\n",
      "2    1.577246                         igpm\n",
      "3    1.301675            selic_meta_mensal\n",
      "4    1.270866  taxa_desemprego_pnad_mensal\n"
     ]
    }
   ],
   "source": [
    "from statsmodels.stats.outliers_influence import variance_inflation_factor\n",
    "\n",
    "vif = pd.DataFrame()\n",
    "\n",
    "vif[\"VIF Factor\"] = [variance_inflation_factor(reg_linear1.model.exog, i) for i in range(1, reg_linear1.model.exog.shape[1])]\n",
    "vif[\"Variable\"]   = reg_linear1.model.exog_names[1:]\n",
    "print(vif)"
   ]
  },
  {
   "cell_type": "code",
   "execution_count": 17,
   "id": "capable-agreement",
   "metadata": {
    "ExecuteTime": {
     "end_time": "2022-05-05T23:36:59.208294Z",
     "start_time": "2022-05-05T23:36:59.188298Z"
    }
   },
   "outputs": [],
   "source": [
    "#Diagnóstico\n"
   ]
  },
  {
   "cell_type": "code",
   "execution_count": null,
   "id": "becoming-celtic",
   "metadata": {},
   "outputs": [],
   "source": []
  },
  {
   "cell_type": "code",
   "execution_count": null,
   "id": "miniature-broadway",
   "metadata": {},
   "outputs": [],
   "source": []
  },
  {
   "cell_type": "code",
   "execution_count": null,
   "id": "corresponding-institute",
   "metadata": {},
   "outputs": [],
   "source": []
  },
  {
   "cell_type": "code",
   "execution_count": null,
   "id": "interpreted-joshua",
   "metadata": {},
   "outputs": [],
   "source": []
  }
 ],
 "metadata": {
  "kernelspec": {
   "display_name": "Python 3",
   "language": "python",
   "name": "python3"
  },
  "language_info": {
   "codemirror_mode": {
    "name": "ipython",
    "version": 3
   },
   "file_extension": ".py",
   "mimetype": "text/x-python",
   "name": "python",
   "nbconvert_exporter": "python",
   "pygments_lexer": "ipython3",
   "version": "3.8.8"
  }
 },
 "nbformat": 4,
 "nbformat_minor": 5
}
