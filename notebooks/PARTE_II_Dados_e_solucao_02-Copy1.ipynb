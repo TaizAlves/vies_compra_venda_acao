{
 "cells": [
  {
   "cell_type": "code",
   "execution_count": 59,
   "id": "urban-transsexual",
   "metadata": {
    "ExecuteTime": {
     "end_time": "2022-03-31T00:53:39.074092Z",
     "start_time": "2022-03-31T00:53:39.057092Z"
    }
   },
   "outputs": [],
   "source": [
    "\n",
    "from scipy.stats import zscore\n",
    "\n",
    "import datetime\n",
    "\n",
    "import pandas as pd\n",
    "import numpy as np\n",
    "\n",
    "import datapungi_fed as dpf\n",
    "from bcb import sgs\n",
    "import yfinance as yf\n",
    "import investpy as inv\n",
    "import talib\n",
    "from talib import RSI, ROC, STOCH, STOCHRSI, WILLR, ATR, MACD, CDLKICKINGBYLENGTH, CDLENGULFING\n",
    "\n",
    "import bs4 as bs\n",
    "import pickle\n",
    "import requests\n",
    "import json\n",
    "\n",
    "import plotly.express as px\n",
    "import matplotlib.pyplot as plt\n",
    "import seaborn as sns"
   ]
  },
  {
   "cell_type": "code",
   "execution_count": 6,
   "id": "artificial-indiana",
   "metadata": {
    "ExecuteTime": {
     "end_time": "2022-03-31T00:25:15.291404Z",
     "start_time": "2022-03-31T00:25:15.261406Z"
    }
   },
   "outputs": [],
   "source": [
    "with open('../fred_token.json') as arquivo:\n",
    "  fed_credencial = json.load(arquivo)"
   ]
  },
  {
   "cell_type": "code",
   "execution_count": 7,
   "id": "crucial-centre",
   "metadata": {
    "ExecuteTime": {
     "end_time": "2022-03-31T00:25:15.368405Z",
     "start_time": "2022-03-31T00:25:15.300404Z"
    }
   },
   "outputs": [],
   "source": [
    "def risco_brasil(): \n",
    "    resp = requests.get('http://www.ipeadata.gov.br/ExibeSerie.aspx?serid=40940&module=M')\n",
    "    soup = bs.BeautifulSoup(resp.text)\n",
    "    table = soup.find('table', { 'class': 'dxgvTable'})\n",
    "    embi_risco_brasil =[]\n",
    "    data = []\n",
    "    df_risco_brasil = pd.DataFrame()\n",
    "    for row in table.findAll('tr')[3:]:\n",
    "\n",
    "        date = row.findAll('td')[0].text\n",
    "        embi = row.findAll('td')[1].text\n",
    "        data.append(date)\n",
    "        embi_risco_brasil.append(embi)\n",
    "\n",
    "    df_risco_brasil['data'] = data\n",
    "    df_risco_brasil['Risco_Brasil'] = embi_risco_brasil\n",
    "    \n",
    "    df_risco_brasil['data'] = pd.to_datetime(df_risco_brasil['data'], format = '%d/%m/%Y')\n",
    "    \n",
    "    df_risco_brasil = df_risco_brasil.sort_values('data')\n",
    "    df_risco_brasil.set_index(\"data\", inplace = True)\n",
    "    \n",
    "    \n",
    "    df_risco_brasil.to_csv('risco_brasil_{}.csv'.format(pd.to_datetime('today').date()))\n",
    "    \n",
    "    return df_risco_brasil"
   ]
  },
  {
   "cell_type": "code",
   "execution_count": 8,
   "id": "collected-nevada",
   "metadata": {
    "ExecuteTime": {
     "end_time": "2022-03-31T00:25:15.432407Z",
     "start_time": "2022-03-31T00:25:15.396407Z"
    }
   },
   "outputs": [],
   "source": [
    "def consulta_bcb(nome, codigo, start='2000-01-01'):\n",
    "    nome_= sgs.get((nome, codigo), start=start)\n",
    "    \n",
    "    nome_.index.name= 'data'\n",
    "    return nome_"
   ]
  },
  {
   "cell_type": "code",
   "execution_count": 114,
   "id": "ignored-assessment",
   "metadata": {
    "ExecuteTime": {
     "end_time": "2022-03-31T01:45:32.886133Z",
     "start_time": "2022-03-31T01:45:32.868136Z"
    }
   },
   "outputs": [],
   "source": [
    "def mensal_diario_rate(serie_mensal):\n",
    "    serie_day= serie_mensal.asfreq('B', method = 'pad' )\n",
    "    daily = serie_day[serie_day.columns[0]].apply( lambda x:  round((1 + x) ** (1/22) - 1,3) ).to_frame()\n",
    "    nome= daily.columns[0]\n",
    "    daily.rename({nome: nome[:-6]+'diario' }, axis= 'columns', inplace = True)\n",
    "    \n",
    "    return daily\n",
    "\n",
    "def mensal_diario_rate_nome(serie_mensal, name):\n",
    "    serie_day= serie_mensal.asfreq('B', method = 'pad' )\n",
    "    daily = serie_day.apply( lambda x:  round((1 + x) ** (1/22) - 1,3) ).to_frame()\n",
    "    nome= daily.columns[0]\n",
    "    daily.rename({nome: name }, axis= 'columns', inplace = True)\n",
    "    \n",
    "    \n",
    "    return daily"
   ]
  },
  {
   "cell_type": "code",
   "execution_count": 147,
   "id": "royal-credits",
   "metadata": {
    "ExecuteTime": {
     "end_time": "2022-03-31T02:06:02.706307Z",
     "start_time": "2022-03-31T02:06:02.456306Z"
    }
   },
   "outputs": [],
   "source": [
    "def cenversao_simples_mensal_diario_B(serie_mensal):\n",
    "    serie_day= serie_mensal.asfreq('B', method = 'pad' )\n",
    "    daily = serie_day[serie_day.columns[0]].apply( lambda x:  round( x/22  ,3) ).to_frame()\n",
    "    nome= daily.columns[0]\n",
    "    daily.rename({nome: nome+'_diario' }, axis= 'columns', inplace = True)\n",
    "    \n",
    "    return daily\n",
    "\n",
    "def conversao_simples_mensal_diario_B_nome(serie_diaria, name):\n",
    "    serie_day= serie_diaria.asfreq('B', method = 'pad' )\n",
    "    daily = serie_day.apply( lambda x:  round( x/22  ,3) ).to_frame()\n",
    "    nome= daily.columns[0]\n",
    "    daily.rename({nome: name }, axis= 'columns', inplace = True)\n",
    "    \n",
    "    return daily"
   ]
  },
  {
   "cell_type": "code",
   "execution_count": 11,
   "id": "naked-warrior",
   "metadata": {
    "ExecuteTime": {
     "end_time": "2022-03-31T00:25:15.635405Z",
     "start_time": "2022-03-31T00:25:15.610403Z"
    }
   },
   "outputs": [],
   "source": [
    "def indicadores_tecnicos(stock):\n",
    "    acao = yf.download(stock, start = '2000-01-01', end = datetime.datetime.today() - datetime.timedelta(days=1) )\n",
    "    price = acao.iloc[::-1]\n",
    "    price = price.dropna()\n",
    "    close = price.Close.values\n",
    "    open = price.Open.values\n",
    "    high = price.High.values\n",
    "    low = price.Low.values\n",
    "    volume = price.Volume.values\n",
    "    \n",
    "    # RSI\n",
    "    rsi = RSI(close, timeperiod=14)\n",
    "    \n",
    "    #ROC\n",
    "    roc = ROC(close, timeperiod=10)\n",
    "    \n",
    "    #Williams %R moves between zero and -100.above -20 is overbought.-80 is oversold.\n",
    "    willr = WILLR(high, low, close, timeperiod=14)\n",
    "    \n",
    "    data = { 'rsi': rsi,\n",
    "            'roc': roc,\n",
    "            'willr': willr\n",
    "            \n",
    "        \n",
    "    }\n",
    "    df = pd.DataFrame(data)\n",
    "    \n",
    "    return df\n",
    "\n",
    "    "
   ]
  },
  {
   "cell_type": "markdown",
   "id": "primary-frequency",
   "metadata": {},
   "source": [
    "## Americano\n"
   ]
  },
  {
   "cell_type": "markdown",
   "id": "independent-avatar",
   "metadata": {
    "ExecuteTime": {
     "end_time": "2022-03-26T18:24:13.375620Z",
     "start_time": "2022-03-26T18:24:13.365619Z"
    }
   },
   "source": [
    "\n",
    "#!pip install datapungi_fed\n",
    "\n",
    "Onde pegar o token: \n",
    "https://fredaccount.stlouisfed.org/apikey"
   ]
  },
  {
   "cell_type": "markdown",
   "id": "expected-violence",
   "metadata": {},
   "source": [
    "**O que Falta?**\n",
    "\n",
    "- converter a inflacao_ameriana para REAL pois está em dolar,\n",
    "\n",
    "- Juntar tudo no df com as info do Brasil\n",
    "-df_dados_americanos_daily o index para 'data' ao inves de date"
   ]
  },
  {
   "cell_type": "code",
   "execution_count": 12,
   "id": "collected-tutorial",
   "metadata": {
    "ExecuteTime": {
     "end_time": "2022-03-31T00:25:15.714404Z",
     "start_time": "2022-03-31T00:25:15.648405Z"
    }
   },
   "outputs": [],
   "source": [
    "token= fed_credencial['token']"
   ]
  },
  {
   "cell_type": "code",
   "execution_count": 13,
   "id": "approximate-testament",
   "metadata": {
    "ExecuteTime": {
     "end_time": "2022-03-31T00:25:18.209480Z",
     "start_time": "2022-03-31T00:25:15.719403Z"
    }
   },
   "outputs": [],
   "source": [
    "\n",
    "data = dpf.data(token)"
   ]
  },
  {
   "cell_type": "code",
   "execution_count": 14,
   "id": "nervous-anderson",
   "metadata": {
    "ExecuteTime": {
     "end_time": "2022-03-31T00:25:22.679476Z",
     "start_time": "2022-03-31T00:25:18.213441Z"
    }
   },
   "outputs": [],
   "source": [
    "#Producao Industrial Industrial Production Index - MENSAL - economic indicator that measures real output for all facilities located in the United States\n",
    "industry_production = data.series('INDPRO')\n",
    "\n",
    "\n",
    "#Taxa de Desemprego = MENSAL\n",
    "desemprego_americano = data.series('UNRATE')\n",
    "\n",
    "#Em Dolar The Consumer Price Index for All Urban Consumers (CPIAUCSL) is a price index of a basket of goods and services paid by urban consumers\n",
    "inflacao_americana = data.series('CPIAUCSL')\n",
    "\n",
    "# Tx de Juros americano- mês\n",
    "tx_juros_americano = data.series('FEDFUNDS')"
   ]
  },
  {
   "cell_type": "code",
   "execution_count": 15,
   "id": "attempted-wellington",
   "metadata": {
    "ExecuteTime": {
     "end_time": "2022-03-31T00:25:22.758403Z",
     "start_time": "2022-03-31T00:25:22.684404Z"
    }
   },
   "outputs": [],
   "source": [
    "aux1 =pd.merge(industry_production, desemprego_americano, on=\"date\", how='left')\n",
    "aux2 = pd.merge(aux1, inflacao_americana, on=\"date\", how='left' )\n",
    "df_dados_americanos = pd.merge(aux2, tx_juros_americano, on=\"date\", how='left' )\n",
    "\n",
    "df_dados_americanos.rename({'INDPRO': 'ind_prod_americana', 'UNRATE': 'desemprego_americano', 'CPIAUCSL': 'consumer_priceUSD', 'FEDFUNDS': 'tx_juros_americano'}, axis= 'columns', inplace = True )"
   ]
  },
  {
   "cell_type": "code",
   "execution_count": 56,
   "id": "insured-frequency",
   "metadata": {
    "ExecuteTime": {
     "end_time": "2022-03-31T00:51:53.612114Z",
     "start_time": "2022-03-31T00:51:53.596063Z"
    }
   },
   "outputs": [],
   "source": [
    "#df_dados_americanos.to_csv('../data/external/df_dados_americanos_monthly.csv')\n"
   ]
  },
  {
   "cell_type": "code",
   "execution_count": 62,
   "id": "auburn-drunk",
   "metadata": {
    "ExecuteTime": {
     "end_time": "2022-03-31T00:54:11.064287Z",
     "start_time": "2022-03-31T00:54:10.825242Z"
    }
   },
   "outputs": [
    {
     "data": {
      "application/vnd.plotly.v1+json": {
       "config": {
        "plotlyServerURL": "https://plot.ly"
       },
       "data": [
        {
         "alignmentgroup": "True",
         "hovertemplate": "date=%{x}<br>Inflação americada (%)=%{y}<extra></extra>",
         "legendgroup": "",
         "marker": {
          "color": "#636efa"
         },
         "name": "",
         "offsetgroup": "",
         "orientation": "v",
         "showlegend": false,
         "textposition": "auto",
         "type": "bar",
         "x": [
          "2000-01-01T00:00:00",
          "2000-02-01T00:00:00",
          "2000-03-01T00:00:00",
          "2000-04-01T00:00:00",
          "2000-05-01T00:00:00",
          "2000-06-01T00:00:00",
          "2000-07-01T00:00:00",
          "2000-08-01T00:00:00",
          "2000-09-01T00:00:00",
          "2000-10-01T00:00:00",
          "2000-11-01T00:00:00",
          "2000-12-01T00:00:00",
          "2001-01-01T00:00:00",
          "2001-02-01T00:00:00",
          "2001-03-01T00:00:00",
          "2001-04-01T00:00:00",
          "2001-05-01T00:00:00",
          "2001-06-01T00:00:00",
          "2001-07-01T00:00:00",
          "2001-08-01T00:00:00",
          "2001-09-01T00:00:00",
          "2001-10-01T00:00:00",
          "2001-11-01T00:00:00",
          "2001-12-01T00:00:00",
          "2002-01-01T00:00:00",
          "2002-02-01T00:00:00",
          "2002-03-01T00:00:00",
          "2002-04-01T00:00:00",
          "2002-05-01T00:00:00",
          "2002-06-01T00:00:00",
          "2002-07-01T00:00:00",
          "2002-08-01T00:00:00",
          "2002-09-01T00:00:00",
          "2002-10-01T00:00:00",
          "2002-11-01T00:00:00",
          "2002-12-01T00:00:00",
          "2003-01-01T00:00:00",
          "2003-02-01T00:00:00",
          "2003-03-01T00:00:00",
          "2003-04-01T00:00:00",
          "2003-05-01T00:00:00",
          "2003-06-01T00:00:00",
          "2003-07-01T00:00:00",
          "2003-08-01T00:00:00",
          "2003-09-01T00:00:00",
          "2003-10-01T00:00:00",
          "2003-11-01T00:00:00",
          "2003-12-01T00:00:00",
          "2004-01-01T00:00:00",
          "2004-02-01T00:00:00",
          "2004-03-01T00:00:00",
          "2004-04-01T00:00:00",
          "2004-05-01T00:00:00",
          "2004-06-01T00:00:00",
          "2004-07-01T00:00:00",
          "2004-08-01T00:00:00",
          "2004-09-01T00:00:00",
          "2004-10-01T00:00:00",
          "2004-11-01T00:00:00",
          "2004-12-01T00:00:00",
          "2005-01-01T00:00:00",
          "2005-02-01T00:00:00",
          "2005-03-01T00:00:00",
          "2005-04-01T00:00:00",
          "2005-05-01T00:00:00",
          "2005-06-01T00:00:00",
          "2005-07-01T00:00:00",
          "2005-08-01T00:00:00",
          "2005-09-01T00:00:00",
          "2005-10-01T00:00:00",
          "2005-11-01T00:00:00",
          "2005-12-01T00:00:00",
          "2006-01-01T00:00:00",
          "2006-02-01T00:00:00",
          "2006-03-01T00:00:00",
          "2006-04-01T00:00:00",
          "2006-05-01T00:00:00",
          "2006-06-01T00:00:00",
          "2006-07-01T00:00:00",
          "2006-08-01T00:00:00",
          "2006-09-01T00:00:00",
          "2006-10-01T00:00:00",
          "2006-11-01T00:00:00",
          "2006-12-01T00:00:00",
          "2007-01-01T00:00:00",
          "2007-02-01T00:00:00",
          "2007-03-01T00:00:00",
          "2007-04-01T00:00:00",
          "2007-05-01T00:00:00",
          "2007-06-01T00:00:00",
          "2007-07-01T00:00:00",
          "2007-08-01T00:00:00",
          "2007-09-01T00:00:00",
          "2007-10-01T00:00:00",
          "2007-11-01T00:00:00",
          "2007-12-01T00:00:00",
          "2008-01-01T00:00:00",
          "2008-02-01T00:00:00",
          "2008-03-01T00:00:00",
          "2008-04-01T00:00:00",
          "2008-05-01T00:00:00",
          "2008-06-01T00:00:00",
          "2008-07-01T00:00:00",
          "2008-08-01T00:00:00",
          "2008-09-01T00:00:00",
          "2008-10-01T00:00:00",
          "2008-11-01T00:00:00",
          "2008-12-01T00:00:00",
          "2009-01-01T00:00:00",
          "2009-02-01T00:00:00",
          "2009-03-01T00:00:00",
          "2009-04-01T00:00:00",
          "2009-05-01T00:00:00",
          "2009-06-01T00:00:00",
          "2009-07-01T00:00:00",
          "2009-08-01T00:00:00",
          "2009-09-01T00:00:00",
          "2009-10-01T00:00:00",
          "2009-11-01T00:00:00",
          "2009-12-01T00:00:00",
          "2010-01-01T00:00:00",
          "2010-02-01T00:00:00",
          "2010-03-01T00:00:00",
          "2010-04-01T00:00:00",
          "2010-05-01T00:00:00",
          "2010-06-01T00:00:00",
          "2010-07-01T00:00:00",
          "2010-08-01T00:00:00",
          "2010-09-01T00:00:00",
          "2010-10-01T00:00:00",
          "2010-11-01T00:00:00",
          "2010-12-01T00:00:00",
          "2011-01-01T00:00:00",
          "2011-02-01T00:00:00",
          "2011-03-01T00:00:00",
          "2011-04-01T00:00:00",
          "2011-05-01T00:00:00",
          "2011-06-01T00:00:00",
          "2011-07-01T00:00:00",
          "2011-08-01T00:00:00",
          "2011-09-01T00:00:00",
          "2011-10-01T00:00:00",
          "2011-11-01T00:00:00",
          "2011-12-01T00:00:00",
          "2012-01-01T00:00:00",
          "2012-02-01T00:00:00",
          "2012-03-01T00:00:00",
          "2012-04-01T00:00:00",
          "2012-05-01T00:00:00",
          "2012-06-01T00:00:00",
          "2012-07-01T00:00:00",
          "2012-08-01T00:00:00",
          "2012-09-01T00:00:00",
          "2012-10-01T00:00:00",
          "2012-11-01T00:00:00",
          "2012-12-01T00:00:00",
          "2013-01-01T00:00:00",
          "2013-02-01T00:00:00",
          "2013-03-01T00:00:00",
          "2013-04-01T00:00:00",
          "2013-05-01T00:00:00",
          "2013-06-01T00:00:00",
          "2013-07-01T00:00:00",
          "2013-08-01T00:00:00",
          "2013-09-01T00:00:00",
          "2013-10-01T00:00:00",
          "2013-11-01T00:00:00",
          "2013-12-01T00:00:00",
          "2014-01-01T00:00:00",
          "2014-02-01T00:00:00",
          "2014-03-01T00:00:00",
          "2014-04-01T00:00:00",
          "2014-05-01T00:00:00",
          "2014-06-01T00:00:00",
          "2014-07-01T00:00:00",
          "2014-08-01T00:00:00",
          "2014-09-01T00:00:00",
          "2014-10-01T00:00:00",
          "2014-11-01T00:00:00",
          "2014-12-01T00:00:00",
          "2015-01-01T00:00:00",
          "2015-02-01T00:00:00",
          "2015-03-01T00:00:00",
          "2015-04-01T00:00:00",
          "2015-05-01T00:00:00",
          "2015-06-01T00:00:00",
          "2015-07-01T00:00:00",
          "2015-08-01T00:00:00",
          "2015-09-01T00:00:00",
          "2015-10-01T00:00:00",
          "2015-11-01T00:00:00",
          "2015-12-01T00:00:00",
          "2016-01-01T00:00:00",
          "2016-02-01T00:00:00",
          "2016-03-01T00:00:00",
          "2016-04-01T00:00:00",
          "2016-05-01T00:00:00",
          "2016-06-01T00:00:00",
          "2016-07-01T00:00:00",
          "2016-08-01T00:00:00",
          "2016-09-01T00:00:00",
          "2016-10-01T00:00:00",
          "2016-11-01T00:00:00",
          "2016-12-01T00:00:00",
          "2017-01-01T00:00:00",
          "2017-02-01T00:00:00",
          "2017-03-01T00:00:00",
          "2017-04-01T00:00:00",
          "2017-05-01T00:00:00",
          "2017-06-01T00:00:00",
          "2017-07-01T00:00:00",
          "2017-08-01T00:00:00",
          "2017-09-01T00:00:00",
          "2017-10-01T00:00:00",
          "2017-11-01T00:00:00",
          "2017-12-01T00:00:00",
          "2018-01-01T00:00:00",
          "2018-02-01T00:00:00",
          "2018-03-01T00:00:00",
          "2018-04-01T00:00:00",
          "2018-05-01T00:00:00",
          "2018-06-01T00:00:00",
          "2018-07-01T00:00:00",
          "2018-08-01T00:00:00",
          "2018-09-01T00:00:00",
          "2018-10-01T00:00:00",
          "2018-11-01T00:00:00",
          "2018-12-01T00:00:00",
          "2019-01-01T00:00:00",
          "2019-02-01T00:00:00",
          "2019-03-01T00:00:00",
          "2019-04-01T00:00:00",
          "2019-05-01T00:00:00",
          "2019-06-01T00:00:00",
          "2019-07-01T00:00:00",
          "2019-08-01T00:00:00",
          "2019-09-01T00:00:00",
          "2019-10-01T00:00:00",
          "2019-11-01T00:00:00",
          "2019-12-01T00:00:00",
          "2020-01-01T00:00:00",
          "2020-02-01T00:00:00",
          "2020-03-01T00:00:00",
          "2020-04-01T00:00:00",
          "2020-05-01T00:00:00",
          "2020-06-01T00:00:00",
          "2020-07-01T00:00:00",
          "2020-08-01T00:00:00",
          "2020-09-01T00:00:00",
          "2020-10-01T00:00:00",
          "2020-11-01T00:00:00",
          "2020-12-01T00:00:00",
          "2021-01-01T00:00:00",
          "2021-02-01T00:00:00",
          "2021-03-01T00:00:00",
          "2021-04-01T00:00:00",
          "2021-05-01T00:00:00",
          "2021-06-01T00:00:00",
          "2021-07-01T00:00:00",
          "2021-08-01T00:00:00",
          "2021-09-01T00:00:00",
          "2021-10-01T00:00:00",
          "2021-11-01T00:00:00",
          "2021-12-01T00:00:00",
          "2022-01-01T00:00:00",
          "2022-02-01T00:00:00"
         ],
         "xaxis": "x",
         "y": [
          null,
          0.41346721795627595,
          0.588235294117645,
          -0.05847953216373547,
          0.17554125219425565,
          0.5841121495327117,
          0.29036004645761615,
          0,
          0.5211349160393786,
          0.1728110599078514,
          0.17251293847038163,
          0.22962112514350874,
          0.572737686139746,
          0.2277904328018332,
          0.05681818181817455,
          0.17035775127769437,
          0.5102040816326481,
          0.2256063169768563,
          -0.16882386043892694,
          0,
          0.3945885005636862,
          -0.28074115665356336,
          -0.05630630630630851,
          -0.05633802816901179,
          0.16910935738443378,
          0.16882386043894915,
          0.2808988764045006,
          0.4481792717086819,
          0.1115448968209698,
          0.055710306406675514,
          0.22271714922048602,
          0.2777777777777768,
          0.16620498614958734,
          0.22123893805308104,
          0.16556291390728006,
          0.16528925619836432,
          0.44004400440043057,
          0.5476451259583737,
          0.16339869281045694,
          -0.38064165307233333,
          -0.16375545851528006,
          0.10934937124111865,
          0.3276897870016393,
          0.4354926510615087,
          0.3252032520325132,
          -0.10804970286331095,
          0.05408328826392861,
          0.2702702702702675,
          0.43126684636118906,
          0.21470746108425143,
          0.2142474558114671,
          0.16034206306787535,
          0.4268943436499306,
          0.37194473963868546,
          0.10587612493382359,
          0.052882072977267214,
          0.3171247357294016,
          0.5268703898840821,
          0.4716981132075304,
          0,
          -0.052164840897228615,
          0.41753653444676075,
          0.36382536382535413,
          0.31071983428274663,
          -0.05162622612286949,
          0.05165289256197081,
          0.6195147134744561,
          0.6157003591585442,
          1.37684854665987,
          0.15090543259557165,
          -0.5022601707684538,
          0,
          0.6057546693589266,
          0.050175614651282174,
          0.15045135406217547,
          0.5007511266900355,
          0.2989536621823774,
          0.24838549428713996,
          0.5450941526263575,
          0.44356826022671214,
          -0.4906771344455385,
          -0.4437869822485285,
          0.04952947003467045,
          0.544554455445545,
          0.1659281142294633,
          0.3878350545869269,
          0.5200121434097538,
          0.3000662483924943,
          0.41329940166290324,
          0.23167517109623503,
          0.17805958481715844,
          0.030828070885302594,
          0.42375533907650365,
          0.3083237831280172,
          0.7858884267890387,
          0.2898014551732553,
          0.3447705076970342,
          0.24178268779397882,
          0.3578027806118822,
          0.2314381020201539,
          0.5917491656617146,
          1.04782350098509,
          0.7141444751521009,
          -0.14884757278006422,
          0.08550916822900323,
          -0.8598436564828615,
          -1.7705477084725474,
          -0.8233522399403226,
          0.2530771341261451,
          0.3642660652187324,
          -0.0987282856538485,
          0.10070825195886979,
          0.14714939189219844,
          0.8299612246622345,
          -0.029796545463012247,
          0.33484533777929926,
          0.19308872334005134,
          0.3001931798703783,
          0.3348590589767664,
          0.052017639964274665,
          0.06487322116246474,
          -0.09517766497462166,
          0.03313681361922782,
          0.023004053314190642,
          -0.05197720362644098,
          -0.041879515854381655,
          0.18692535416828804,
          0.14613634796996067,
          0.1615249422961318,
          0.348184629481163,
          0.25338416234848005,
          0.4016576346828282,
          0.3243042200370194,
          0.321447463006419,
          0.51735482068338,
          0.46940989750992035,
          0.3181714734507679,
          0,
          0.26200368317570444,
          0.3154462166418792,
          0.21715478580843772,
          0.0675207527019328,
          0.18478500551268873,
          0.023770849015480877,
          0.27241960540966836,
          0.21374461249461518,
          0.20934703870292282,
          0.16607883500068255,
          -0.2068180132381081,
          -0.08263631713106845,
          0.02888099280600187,
          0.580952797585188,
          0.47712662775423187,
          0.26967945804385884,
          -0.16793444944266378,
          -0.012108160467716456,
          0.1980788942180789,
          0.5429926752100966,
          -0.28119191025899326,
          -0.2087979266581219,
          0.041415548950163306,
          0.23804082055085551,
          0.19574523005443378,
          0.23872906826962748,
          0.037694469193350066,
          0.053523104853914205,
          0.18444894273523804,
          0.2644169158479315,
          0.24241752904536895,
          0.11007786202441583,
          0.204205530106516,
          0.18641856050976013,
          0.19030059035471947,
          0.1321132206079767,
          0.11254852864928111,
          -0.01600013473797013,
          0.007159100480080838,
          -0.019791390324119806,
          -0.18826601524659647,
          -0.30846094445592387,
          -0.6370316441765556,
          0.25346436802173855,
          0.26939517808124425,
          0.10424788961589382,
          0.3297745341246827,
          0.27679208104607333,
          0.15863197801873063,
          -0.000420108051790713,
          -0.22475875193775918,
          0.09894820166906904,
          0.11946174910508756,
          -0.10755534268560574,
          -0.04584435630738959,
          -0.13296753235823022,
          0.31347962382444194,
          0.38306451612901693,
          0.23640958693178504,
          0.2775957287827202,
          -0.05037007434789409,
          0.18492217858316895,
          0.26232097944252075,
          0.23426874979268764,
          0.11789477167711837,
          0.2524522158776188,
          0.4043076694815628,
          0.15926573570097524,
          -0.04672016261895173,
          0.12341528217407749,
          -0.07739779600562935,
          0.0651628661825221,
          0.03276499715354486,
          0.38486261632881824,
          0.5106389920997767,
          0.07750522450138408,
          0.2668007428251684,
          0.21068892447551058,
          0.37852343576603165,
          0.2798068689370048,
          0.05692774586170124,
          0.22637941189433963,
          0.25305221750497875,
          0.13517878291244845,
          0.08163492859931676,
          0.1695029901759737,
          0.19463831038057933,
          0.24698797568971642,
          -0.08107188901455009,
          -0.04195411170084817,
          -0.03207272986446297,
          0.26339763140175165,
          0.4495624864202963,
          0.3500175008750439,
          0.06348882870947925,
          0.014099676882395329,
          0.21107373483031378,
          0.10902696365766573,
          0.1627768084035086,
          0.2763098411510789,
          0.1877149686170032,
          0.18425993451982592,
          0.1622377189144597,
          0.12563688234974446,
          -0.32508773894140974,
          -0.8022001433192094,
          -0.05857224300452879,
          0.49737442565560563,
          0.5155180256359415,
          0.4010938219174198,
          0.23499499191002027,
          0.06226219301279645,
          0.1417311946902755,
          0.32333413879204187,
          0.24315272743953287,
          0.43707093821510057,
          0.6387034547705284,
          0.6410643403715666,
          0.7018412084266012,
          0.8771439953238813,
          0.4535808529091634,
          0.33359786027098437,
          0.41085055585663444,
          0.8664765475139724,
          0.699229907082688,
          0.5751748502822007,
          0.645066862768906,
          0.7977072566886623
         ],
         "yaxis": "y"
        }
       ],
       "layout": {
        "barmode": "relative",
        "legend": {
         "tracegroupgap": 0
        },
        "margin": {
         "t": 60
        },
        "template": {
         "data": {
          "bar": [
           {
            "error_x": {
             "color": "#2a3f5f"
            },
            "error_y": {
             "color": "#2a3f5f"
            },
            "marker": {
             "line": {
              "color": "#E5ECF6",
              "width": 0.5
             }
            },
            "type": "bar"
           }
          ],
          "barpolar": [
           {
            "marker": {
             "line": {
              "color": "#E5ECF6",
              "width": 0.5
             }
            },
            "type": "barpolar"
           }
          ],
          "carpet": [
           {
            "aaxis": {
             "endlinecolor": "#2a3f5f",
             "gridcolor": "white",
             "linecolor": "white",
             "minorgridcolor": "white",
             "startlinecolor": "#2a3f5f"
            },
            "baxis": {
             "endlinecolor": "#2a3f5f",
             "gridcolor": "white",
             "linecolor": "white",
             "minorgridcolor": "white",
             "startlinecolor": "#2a3f5f"
            },
            "type": "carpet"
           }
          ],
          "choropleth": [
           {
            "colorbar": {
             "outlinewidth": 0,
             "ticks": ""
            },
            "type": "choropleth"
           }
          ],
          "contour": [
           {
            "colorbar": {
             "outlinewidth": 0,
             "ticks": ""
            },
            "colorscale": [
             [
              0,
              "#0d0887"
             ],
             [
              0.1111111111111111,
              "#46039f"
             ],
             [
              0.2222222222222222,
              "#7201a8"
             ],
             [
              0.3333333333333333,
              "#9c179e"
             ],
             [
              0.4444444444444444,
              "#bd3786"
             ],
             [
              0.5555555555555556,
              "#d8576b"
             ],
             [
              0.6666666666666666,
              "#ed7953"
             ],
             [
              0.7777777777777778,
              "#fb9f3a"
             ],
             [
              0.8888888888888888,
              "#fdca26"
             ],
             [
              1,
              "#f0f921"
             ]
            ],
            "type": "contour"
           }
          ],
          "contourcarpet": [
           {
            "colorbar": {
             "outlinewidth": 0,
             "ticks": ""
            },
            "type": "contourcarpet"
           }
          ],
          "heatmap": [
           {
            "colorbar": {
             "outlinewidth": 0,
             "ticks": ""
            },
            "colorscale": [
             [
              0,
              "#0d0887"
             ],
             [
              0.1111111111111111,
              "#46039f"
             ],
             [
              0.2222222222222222,
              "#7201a8"
             ],
             [
              0.3333333333333333,
              "#9c179e"
             ],
             [
              0.4444444444444444,
              "#bd3786"
             ],
             [
              0.5555555555555556,
              "#d8576b"
             ],
             [
              0.6666666666666666,
              "#ed7953"
             ],
             [
              0.7777777777777778,
              "#fb9f3a"
             ],
             [
              0.8888888888888888,
              "#fdca26"
             ],
             [
              1,
              "#f0f921"
             ]
            ],
            "type": "heatmap"
           }
          ],
          "heatmapgl": [
           {
            "colorbar": {
             "outlinewidth": 0,
             "ticks": ""
            },
            "colorscale": [
             [
              0,
              "#0d0887"
             ],
             [
              0.1111111111111111,
              "#46039f"
             ],
             [
              0.2222222222222222,
              "#7201a8"
             ],
             [
              0.3333333333333333,
              "#9c179e"
             ],
             [
              0.4444444444444444,
              "#bd3786"
             ],
             [
              0.5555555555555556,
              "#d8576b"
             ],
             [
              0.6666666666666666,
              "#ed7953"
             ],
             [
              0.7777777777777778,
              "#fb9f3a"
             ],
             [
              0.8888888888888888,
              "#fdca26"
             ],
             [
              1,
              "#f0f921"
             ]
            ],
            "type": "heatmapgl"
           }
          ],
          "histogram": [
           {
            "marker": {
             "colorbar": {
              "outlinewidth": 0,
              "ticks": ""
             }
            },
            "type": "histogram"
           }
          ],
          "histogram2d": [
           {
            "colorbar": {
             "outlinewidth": 0,
             "ticks": ""
            },
            "colorscale": [
             [
              0,
              "#0d0887"
             ],
             [
              0.1111111111111111,
              "#46039f"
             ],
             [
              0.2222222222222222,
              "#7201a8"
             ],
             [
              0.3333333333333333,
              "#9c179e"
             ],
             [
              0.4444444444444444,
              "#bd3786"
             ],
             [
              0.5555555555555556,
              "#d8576b"
             ],
             [
              0.6666666666666666,
              "#ed7953"
             ],
             [
              0.7777777777777778,
              "#fb9f3a"
             ],
             [
              0.8888888888888888,
              "#fdca26"
             ],
             [
              1,
              "#f0f921"
             ]
            ],
            "type": "histogram2d"
           }
          ],
          "histogram2dcontour": [
           {
            "colorbar": {
             "outlinewidth": 0,
             "ticks": ""
            },
            "colorscale": [
             [
              0,
              "#0d0887"
             ],
             [
              0.1111111111111111,
              "#46039f"
             ],
             [
              0.2222222222222222,
              "#7201a8"
             ],
             [
              0.3333333333333333,
              "#9c179e"
             ],
             [
              0.4444444444444444,
              "#bd3786"
             ],
             [
              0.5555555555555556,
              "#d8576b"
             ],
             [
              0.6666666666666666,
              "#ed7953"
             ],
             [
              0.7777777777777778,
              "#fb9f3a"
             ],
             [
              0.8888888888888888,
              "#fdca26"
             ],
             [
              1,
              "#f0f921"
             ]
            ],
            "type": "histogram2dcontour"
           }
          ],
          "mesh3d": [
           {
            "colorbar": {
             "outlinewidth": 0,
             "ticks": ""
            },
            "type": "mesh3d"
           }
          ],
          "parcoords": [
           {
            "line": {
             "colorbar": {
              "outlinewidth": 0,
              "ticks": ""
             }
            },
            "type": "parcoords"
           }
          ],
          "pie": [
           {
            "automargin": true,
            "type": "pie"
           }
          ],
          "scatter": [
           {
            "marker": {
             "colorbar": {
              "outlinewidth": 0,
              "ticks": ""
             }
            },
            "type": "scatter"
           }
          ],
          "scatter3d": [
           {
            "line": {
             "colorbar": {
              "outlinewidth": 0,
              "ticks": ""
             }
            },
            "marker": {
             "colorbar": {
              "outlinewidth": 0,
              "ticks": ""
             }
            },
            "type": "scatter3d"
           }
          ],
          "scattercarpet": [
           {
            "marker": {
             "colorbar": {
              "outlinewidth": 0,
              "ticks": ""
             }
            },
            "type": "scattercarpet"
           }
          ],
          "scattergeo": [
           {
            "marker": {
             "colorbar": {
              "outlinewidth": 0,
              "ticks": ""
             }
            },
            "type": "scattergeo"
           }
          ],
          "scattergl": [
           {
            "marker": {
             "colorbar": {
              "outlinewidth": 0,
              "ticks": ""
             }
            },
            "type": "scattergl"
           }
          ],
          "scattermapbox": [
           {
            "marker": {
             "colorbar": {
              "outlinewidth": 0,
              "ticks": ""
             }
            },
            "type": "scattermapbox"
           }
          ],
          "scatterpolar": [
           {
            "marker": {
             "colorbar": {
              "outlinewidth": 0,
              "ticks": ""
             }
            },
            "type": "scatterpolar"
           }
          ],
          "scatterpolargl": [
           {
            "marker": {
             "colorbar": {
              "outlinewidth": 0,
              "ticks": ""
             }
            },
            "type": "scatterpolargl"
           }
          ],
          "scatterternary": [
           {
            "marker": {
             "colorbar": {
              "outlinewidth": 0,
              "ticks": ""
             }
            },
            "type": "scatterternary"
           }
          ],
          "surface": [
           {
            "colorbar": {
             "outlinewidth": 0,
             "ticks": ""
            },
            "colorscale": [
             [
              0,
              "#0d0887"
             ],
             [
              0.1111111111111111,
              "#46039f"
             ],
             [
              0.2222222222222222,
              "#7201a8"
             ],
             [
              0.3333333333333333,
              "#9c179e"
             ],
             [
              0.4444444444444444,
              "#bd3786"
             ],
             [
              0.5555555555555556,
              "#d8576b"
             ],
             [
              0.6666666666666666,
              "#ed7953"
             ],
             [
              0.7777777777777778,
              "#fb9f3a"
             ],
             [
              0.8888888888888888,
              "#fdca26"
             ],
             [
              1,
              "#f0f921"
             ]
            ],
            "type": "surface"
           }
          ],
          "table": [
           {
            "cells": {
             "fill": {
              "color": "#EBF0F8"
             },
             "line": {
              "color": "white"
             }
            },
            "header": {
             "fill": {
              "color": "#C8D4E3"
             },
             "line": {
              "color": "white"
             }
            },
            "type": "table"
           }
          ]
         },
         "layout": {
          "annotationdefaults": {
           "arrowcolor": "#2a3f5f",
           "arrowhead": 0,
           "arrowwidth": 1
          },
          "autotypenumbers": "strict",
          "coloraxis": {
           "colorbar": {
            "outlinewidth": 0,
            "ticks": ""
           }
          },
          "colorscale": {
           "diverging": [
            [
             0,
             "#8e0152"
            ],
            [
             0.1,
             "#c51b7d"
            ],
            [
             0.2,
             "#de77ae"
            ],
            [
             0.3,
             "#f1b6da"
            ],
            [
             0.4,
             "#fde0ef"
            ],
            [
             0.5,
             "#f7f7f7"
            ],
            [
             0.6,
             "#e6f5d0"
            ],
            [
             0.7,
             "#b8e186"
            ],
            [
             0.8,
             "#7fbc41"
            ],
            [
             0.9,
             "#4d9221"
            ],
            [
             1,
             "#276419"
            ]
           ],
           "sequential": [
            [
             0,
             "#0d0887"
            ],
            [
             0.1111111111111111,
             "#46039f"
            ],
            [
             0.2222222222222222,
             "#7201a8"
            ],
            [
             0.3333333333333333,
             "#9c179e"
            ],
            [
             0.4444444444444444,
             "#bd3786"
            ],
            [
             0.5555555555555556,
             "#d8576b"
            ],
            [
             0.6666666666666666,
             "#ed7953"
            ],
            [
             0.7777777777777778,
             "#fb9f3a"
            ],
            [
             0.8888888888888888,
             "#fdca26"
            ],
            [
             1,
             "#f0f921"
            ]
           ],
           "sequentialminus": [
            [
             0,
             "#0d0887"
            ],
            [
             0.1111111111111111,
             "#46039f"
            ],
            [
             0.2222222222222222,
             "#7201a8"
            ],
            [
             0.3333333333333333,
             "#9c179e"
            ],
            [
             0.4444444444444444,
             "#bd3786"
            ],
            [
             0.5555555555555556,
             "#d8576b"
            ],
            [
             0.6666666666666666,
             "#ed7953"
            ],
            [
             0.7777777777777778,
             "#fb9f3a"
            ],
            [
             0.8888888888888888,
             "#fdca26"
            ],
            [
             1,
             "#f0f921"
            ]
           ]
          },
          "colorway": [
           "#636efa",
           "#EF553B",
           "#00cc96",
           "#ab63fa",
           "#FFA15A",
           "#19d3f3",
           "#FF6692",
           "#B6E880",
           "#FF97FF",
           "#FECB52"
          ],
          "font": {
           "color": "#2a3f5f"
          },
          "geo": {
           "bgcolor": "white",
           "lakecolor": "white",
           "landcolor": "#E5ECF6",
           "showlakes": true,
           "showland": true,
           "subunitcolor": "white"
          },
          "hoverlabel": {
           "align": "left"
          },
          "hovermode": "closest",
          "mapbox": {
           "style": "light"
          },
          "paper_bgcolor": "white",
          "plot_bgcolor": "#E5ECF6",
          "polar": {
           "angularaxis": {
            "gridcolor": "white",
            "linecolor": "white",
            "ticks": ""
           },
           "bgcolor": "#E5ECF6",
           "radialaxis": {
            "gridcolor": "white",
            "linecolor": "white",
            "ticks": ""
           }
          },
          "scene": {
           "xaxis": {
            "backgroundcolor": "#E5ECF6",
            "gridcolor": "white",
            "gridwidth": 2,
            "linecolor": "white",
            "showbackground": true,
            "ticks": "",
            "zerolinecolor": "white"
           },
           "yaxis": {
            "backgroundcolor": "#E5ECF6",
            "gridcolor": "white",
            "gridwidth": 2,
            "linecolor": "white",
            "showbackground": true,
            "ticks": "",
            "zerolinecolor": "white"
           },
           "zaxis": {
            "backgroundcolor": "#E5ECF6",
            "gridcolor": "white",
            "gridwidth": 2,
            "linecolor": "white",
            "showbackground": true,
            "ticks": "",
            "zerolinecolor": "white"
           }
          },
          "shapedefaults": {
           "line": {
            "color": "#2a3f5f"
           }
          },
          "ternary": {
           "aaxis": {
            "gridcolor": "white",
            "linecolor": "white",
            "ticks": ""
           },
           "baxis": {
            "gridcolor": "white",
            "linecolor": "white",
            "ticks": ""
           },
           "bgcolor": "#E5ECF6",
           "caxis": {
            "gridcolor": "white",
            "linecolor": "white",
            "ticks": ""
           }
          },
          "title": {
           "x": 0.05
          },
          "xaxis": {
           "automargin": true,
           "gridcolor": "white",
           "linecolor": "white",
           "ticks": "",
           "title": {
            "standoff": 15
           },
           "zerolinecolor": "white",
           "zerolinewidth": 2
          },
          "yaxis": {
           "automargin": true,
           "gridcolor": "white",
           "linecolor": "white",
           "ticks": "",
           "title": {
            "standoff": 15
           },
           "zerolinecolor": "white",
           "zerolinewidth": 2
          }
         }
        },
        "xaxis": {
         "anchor": "y",
         "domain": [
          0,
          1
         ],
         "title": {
          "text": "date"
         }
        },
        "yaxis": {
         "anchor": "x",
         "domain": [
          0,
          1
         ],
         "title": {
          "text": "Inflação americada (%)"
         }
        }
       }
      },
      "text/html": [
       "<div>                            <div id=\"1ddb214f-e710-4551-82af-7f4071af678d\" class=\"plotly-graph-div\" style=\"height:525px; width:100%;\"></div>            <script type=\"text/javascript\">                require([\"plotly\"], function(Plotly) {                    window.PLOTLYENV=window.PLOTLYENV || {};                                    if (document.getElementById(\"1ddb214f-e710-4551-82af-7f4071af678d\")) {                    Plotly.newPlot(                        \"1ddb214f-e710-4551-82af-7f4071af678d\",                        [{\"alignmentgroup\": \"True\", \"hovertemplate\": \"date=%{x}<br>Infla\\u00e7\\u00e3o americada (%)=%{y}<extra></extra>\", \"legendgroup\": \"\", \"marker\": {\"color\": \"#636efa\"}, \"name\": \"\", \"offsetgroup\": \"\", \"orientation\": \"v\", \"showlegend\": false, \"textposition\": \"auto\", \"type\": \"bar\", \"x\": [\"2000-01-01T00:00:00\", \"2000-02-01T00:00:00\", \"2000-03-01T00:00:00\", \"2000-04-01T00:00:00\", \"2000-05-01T00:00:00\", \"2000-06-01T00:00:00\", \"2000-07-01T00:00:00\", \"2000-08-01T00:00:00\", \"2000-09-01T00:00:00\", \"2000-10-01T00:00:00\", \"2000-11-01T00:00:00\", \"2000-12-01T00:00:00\", \"2001-01-01T00:00:00\", \"2001-02-01T00:00:00\", \"2001-03-01T00:00:00\", \"2001-04-01T00:00:00\", \"2001-05-01T00:00:00\", \"2001-06-01T00:00:00\", \"2001-07-01T00:00:00\", \"2001-08-01T00:00:00\", \"2001-09-01T00:00:00\", \"2001-10-01T00:00:00\", \"2001-11-01T00:00:00\", \"2001-12-01T00:00:00\", \"2002-01-01T00:00:00\", \"2002-02-01T00:00:00\", \"2002-03-01T00:00:00\", \"2002-04-01T00:00:00\", \"2002-05-01T00:00:00\", \"2002-06-01T00:00:00\", \"2002-07-01T00:00:00\", \"2002-08-01T00:00:00\", \"2002-09-01T00:00:00\", \"2002-10-01T00:00:00\", \"2002-11-01T00:00:00\", \"2002-12-01T00:00:00\", \"2003-01-01T00:00:00\", \"2003-02-01T00:00:00\", \"2003-03-01T00:00:00\", \"2003-04-01T00:00:00\", \"2003-05-01T00:00:00\", \"2003-06-01T00:00:00\", \"2003-07-01T00:00:00\", \"2003-08-01T00:00:00\", \"2003-09-01T00:00:00\", \"2003-10-01T00:00:00\", \"2003-11-01T00:00:00\", \"2003-12-01T00:00:00\", \"2004-01-01T00:00:00\", \"2004-02-01T00:00:00\", \"2004-03-01T00:00:00\", \"2004-04-01T00:00:00\", \"2004-05-01T00:00:00\", \"2004-06-01T00:00:00\", \"2004-07-01T00:00:00\", \"2004-08-01T00:00:00\", \"2004-09-01T00:00:00\", \"2004-10-01T00:00:00\", \"2004-11-01T00:00:00\", \"2004-12-01T00:00:00\", \"2005-01-01T00:00:00\", \"2005-02-01T00:00:00\", \"2005-03-01T00:00:00\", \"2005-04-01T00:00:00\", \"2005-05-01T00:00:00\", \"2005-06-01T00:00:00\", \"2005-07-01T00:00:00\", \"2005-08-01T00:00:00\", \"2005-09-01T00:00:00\", \"2005-10-01T00:00:00\", \"2005-11-01T00:00:00\", \"2005-12-01T00:00:00\", \"2006-01-01T00:00:00\", \"2006-02-01T00:00:00\", \"2006-03-01T00:00:00\", \"2006-04-01T00:00:00\", \"2006-05-01T00:00:00\", \"2006-06-01T00:00:00\", \"2006-07-01T00:00:00\", \"2006-08-01T00:00:00\", \"2006-09-01T00:00:00\", \"2006-10-01T00:00:00\", \"2006-11-01T00:00:00\", \"2006-12-01T00:00:00\", \"2007-01-01T00:00:00\", \"2007-02-01T00:00:00\", \"2007-03-01T00:00:00\", \"2007-04-01T00:00:00\", \"2007-05-01T00:00:00\", \"2007-06-01T00:00:00\", \"2007-07-01T00:00:00\", \"2007-08-01T00:00:00\", \"2007-09-01T00:00:00\", \"2007-10-01T00:00:00\", \"2007-11-01T00:00:00\", \"2007-12-01T00:00:00\", \"2008-01-01T00:00:00\", \"2008-02-01T00:00:00\", \"2008-03-01T00:00:00\", \"2008-04-01T00:00:00\", \"2008-05-01T00:00:00\", \"2008-06-01T00:00:00\", \"2008-07-01T00:00:00\", \"2008-08-01T00:00:00\", \"2008-09-01T00:00:00\", \"2008-10-01T00:00:00\", \"2008-11-01T00:00:00\", \"2008-12-01T00:00:00\", \"2009-01-01T00:00:00\", \"2009-02-01T00:00:00\", \"2009-03-01T00:00:00\", \"2009-04-01T00:00:00\", \"2009-05-01T00:00:00\", \"2009-06-01T00:00:00\", \"2009-07-01T00:00:00\", \"2009-08-01T00:00:00\", \"2009-09-01T00:00:00\", \"2009-10-01T00:00:00\", \"2009-11-01T00:00:00\", \"2009-12-01T00:00:00\", \"2010-01-01T00:00:00\", \"2010-02-01T00:00:00\", \"2010-03-01T00:00:00\", \"2010-04-01T00:00:00\", \"2010-05-01T00:00:00\", \"2010-06-01T00:00:00\", \"2010-07-01T00:00:00\", \"2010-08-01T00:00:00\", \"2010-09-01T00:00:00\", \"2010-10-01T00:00:00\", \"2010-11-01T00:00:00\", \"2010-12-01T00:00:00\", \"2011-01-01T00:00:00\", \"2011-02-01T00:00:00\", \"2011-03-01T00:00:00\", \"2011-04-01T00:00:00\", \"2011-05-01T00:00:00\", \"2011-06-01T00:00:00\", \"2011-07-01T00:00:00\", \"2011-08-01T00:00:00\", \"2011-09-01T00:00:00\", \"2011-10-01T00:00:00\", \"2011-11-01T00:00:00\", \"2011-12-01T00:00:00\", \"2012-01-01T00:00:00\", \"2012-02-01T00:00:00\", \"2012-03-01T00:00:00\", \"2012-04-01T00:00:00\", \"2012-05-01T00:00:00\", \"2012-06-01T00:00:00\", \"2012-07-01T00:00:00\", \"2012-08-01T00:00:00\", \"2012-09-01T00:00:00\", \"2012-10-01T00:00:00\", \"2012-11-01T00:00:00\", \"2012-12-01T00:00:00\", \"2013-01-01T00:00:00\", \"2013-02-01T00:00:00\", \"2013-03-01T00:00:00\", \"2013-04-01T00:00:00\", \"2013-05-01T00:00:00\", \"2013-06-01T00:00:00\", \"2013-07-01T00:00:00\", \"2013-08-01T00:00:00\", \"2013-09-01T00:00:00\", \"2013-10-01T00:00:00\", \"2013-11-01T00:00:00\", \"2013-12-01T00:00:00\", \"2014-01-01T00:00:00\", \"2014-02-01T00:00:00\", \"2014-03-01T00:00:00\", \"2014-04-01T00:00:00\", \"2014-05-01T00:00:00\", \"2014-06-01T00:00:00\", \"2014-07-01T00:00:00\", \"2014-08-01T00:00:00\", \"2014-09-01T00:00:00\", \"2014-10-01T00:00:00\", \"2014-11-01T00:00:00\", \"2014-12-01T00:00:00\", \"2015-01-01T00:00:00\", \"2015-02-01T00:00:00\", \"2015-03-01T00:00:00\", \"2015-04-01T00:00:00\", \"2015-05-01T00:00:00\", \"2015-06-01T00:00:00\", \"2015-07-01T00:00:00\", \"2015-08-01T00:00:00\", \"2015-09-01T00:00:00\", \"2015-10-01T00:00:00\", \"2015-11-01T00:00:00\", \"2015-12-01T00:00:00\", \"2016-01-01T00:00:00\", \"2016-02-01T00:00:00\", \"2016-03-01T00:00:00\", \"2016-04-01T00:00:00\", \"2016-05-01T00:00:00\", \"2016-06-01T00:00:00\", \"2016-07-01T00:00:00\", \"2016-08-01T00:00:00\", \"2016-09-01T00:00:00\", \"2016-10-01T00:00:00\", \"2016-11-01T00:00:00\", \"2016-12-01T00:00:00\", \"2017-01-01T00:00:00\", \"2017-02-01T00:00:00\", \"2017-03-01T00:00:00\", \"2017-04-01T00:00:00\", \"2017-05-01T00:00:00\", \"2017-06-01T00:00:00\", \"2017-07-01T00:00:00\", \"2017-08-01T00:00:00\", \"2017-09-01T00:00:00\", \"2017-10-01T00:00:00\", \"2017-11-01T00:00:00\", \"2017-12-01T00:00:00\", \"2018-01-01T00:00:00\", \"2018-02-01T00:00:00\", \"2018-03-01T00:00:00\", \"2018-04-01T00:00:00\", \"2018-05-01T00:00:00\", \"2018-06-01T00:00:00\", \"2018-07-01T00:00:00\", \"2018-08-01T00:00:00\", \"2018-09-01T00:00:00\", \"2018-10-01T00:00:00\", \"2018-11-01T00:00:00\", \"2018-12-01T00:00:00\", \"2019-01-01T00:00:00\", \"2019-02-01T00:00:00\", \"2019-03-01T00:00:00\", \"2019-04-01T00:00:00\", \"2019-05-01T00:00:00\", \"2019-06-01T00:00:00\", \"2019-07-01T00:00:00\", \"2019-08-01T00:00:00\", \"2019-09-01T00:00:00\", \"2019-10-01T00:00:00\", \"2019-11-01T00:00:00\", \"2019-12-01T00:00:00\", \"2020-01-01T00:00:00\", \"2020-02-01T00:00:00\", \"2020-03-01T00:00:00\", \"2020-04-01T00:00:00\", \"2020-05-01T00:00:00\", \"2020-06-01T00:00:00\", \"2020-07-01T00:00:00\", \"2020-08-01T00:00:00\", \"2020-09-01T00:00:00\", \"2020-10-01T00:00:00\", \"2020-11-01T00:00:00\", \"2020-12-01T00:00:00\", \"2021-01-01T00:00:00\", \"2021-02-01T00:00:00\", \"2021-03-01T00:00:00\", \"2021-04-01T00:00:00\", \"2021-05-01T00:00:00\", \"2021-06-01T00:00:00\", \"2021-07-01T00:00:00\", \"2021-08-01T00:00:00\", \"2021-09-01T00:00:00\", \"2021-10-01T00:00:00\", \"2021-11-01T00:00:00\", \"2021-12-01T00:00:00\", \"2022-01-01T00:00:00\", \"2022-02-01T00:00:00\"], \"xaxis\": \"x\", \"y\": [null, 0.41346721795627595, 0.588235294117645, -0.05847953216373547, 0.17554125219425565, 0.5841121495327117, 0.29036004645761615, 0.0, 0.5211349160393786, 0.1728110599078514, 0.17251293847038163, 0.22962112514350874, 0.572737686139746, 0.2277904328018332, 0.05681818181817455, 0.17035775127769437, 0.5102040816326481, 0.2256063169768563, -0.16882386043892694, 0.0, 0.3945885005636862, -0.28074115665356336, -0.05630630630630851, -0.05633802816901179, 0.16910935738443378, 0.16882386043894915, 0.2808988764045006, 0.4481792717086819, 0.1115448968209698, 0.055710306406675514, 0.22271714922048602, 0.2777777777777768, 0.16620498614958734, 0.22123893805308104, 0.16556291390728006, 0.16528925619836432, 0.44004400440043057, 0.5476451259583737, 0.16339869281045694, -0.38064165307233333, -0.16375545851528006, 0.10934937124111865, 0.3276897870016393, 0.4354926510615087, 0.3252032520325132, -0.10804970286331095, 0.05408328826392861, 0.2702702702702675, 0.43126684636118906, 0.21470746108425143, 0.2142474558114671, 0.16034206306787535, 0.4268943436499306, 0.37194473963868546, 0.10587612493382359, 0.052882072977267214, 0.3171247357294016, 0.5268703898840821, 0.4716981132075304, 0.0, -0.052164840897228615, 0.41753653444676075, 0.36382536382535413, 0.31071983428274663, -0.05162622612286949, 0.05165289256197081, 0.6195147134744561, 0.6157003591585442, 1.37684854665987, 0.15090543259557165, -0.5022601707684538, 0.0, 0.6057546693589266, 0.050175614651282174, 0.15045135406217547, 0.5007511266900355, 0.2989536621823774, 0.24838549428713996, 0.5450941526263575, 0.44356826022671214, -0.4906771344455385, -0.4437869822485285, 0.04952947003467045, 0.544554455445545, 0.1659281142294633, 0.3878350545869269, 0.5200121434097538, 0.3000662483924943, 0.41329940166290324, 0.23167517109623503, 0.17805958481715844, 0.030828070885302594, 0.42375533907650365, 0.3083237831280172, 0.7858884267890387, 0.2898014551732553, 0.3447705076970342, 0.24178268779397882, 0.3578027806118822, 0.2314381020201539, 0.5917491656617146, 1.04782350098509, 0.7141444751521009, -0.14884757278006422, 0.08550916822900323, -0.8598436564828615, -1.7705477084725474, -0.8233522399403226, 0.2530771341261451, 0.3642660652187324, -0.0987282856538485, 0.10070825195886979, 0.14714939189219844, 0.8299612246622345, -0.029796545463012247, 0.33484533777929926, 0.19308872334005134, 0.3001931798703783, 0.3348590589767664, 0.052017639964274665, 0.06487322116246474, -0.09517766497462166, 0.03313681361922782, 0.023004053314190642, -0.05197720362644098, -0.041879515854381655, 0.18692535416828804, 0.14613634796996067, 0.1615249422961318, 0.348184629481163, 0.25338416234848005, 0.4016576346828282, 0.3243042200370194, 0.321447463006419, 0.51735482068338, 0.46940989750992035, 0.3181714734507679, 0.0, 0.26200368317570444, 0.3154462166418792, 0.21715478580843772, 0.0675207527019328, 0.18478500551268873, 0.023770849015480877, 0.27241960540966836, 0.21374461249461518, 0.20934703870292282, 0.16607883500068255, -0.2068180132381081, -0.08263631713106845, 0.02888099280600187, 0.580952797585188, 0.47712662775423187, 0.26967945804385884, -0.16793444944266378, -0.012108160467716456, 0.1980788942180789, 0.5429926752100966, -0.28119191025899326, -0.2087979266581219, 0.041415548950163306, 0.23804082055085551, 0.19574523005443378, 0.23872906826962748, 0.037694469193350066, 0.053523104853914205, 0.18444894273523804, 0.2644169158479315, 0.24241752904536895, 0.11007786202441583, 0.204205530106516, 0.18641856050976013, 0.19030059035471947, 0.1321132206079767, 0.11254852864928111, -0.01600013473797013, 0.007159100480080838, -0.019791390324119806, -0.18826601524659647, -0.30846094445592387, -0.6370316441765556, 0.25346436802173855, 0.26939517808124425, 0.10424788961589382, 0.3297745341246827, 0.27679208104607333, 0.15863197801873063, -0.000420108051790713, -0.22475875193775918, 0.09894820166906904, 0.11946174910508756, -0.10755534268560574, -0.04584435630738959, -0.13296753235823022, 0.31347962382444194, 0.38306451612901693, 0.23640958693178504, 0.2775957287827202, -0.05037007434789409, 0.18492217858316895, 0.26232097944252075, 0.23426874979268764, 0.11789477167711837, 0.2524522158776188, 0.4043076694815628, 0.15926573570097524, -0.04672016261895173, 0.12341528217407749, -0.07739779600562935, 0.0651628661825221, 0.03276499715354486, 0.38486261632881824, 0.5106389920997767, 0.07750522450138408, 0.2668007428251684, 0.21068892447551058, 0.37852343576603165, 0.2798068689370048, 0.05692774586170124, 0.22637941189433963, 0.25305221750497875, 0.13517878291244845, 0.08163492859931676, 0.1695029901759737, 0.19463831038057933, 0.24698797568971642, -0.08107188901455009, -0.04195411170084817, -0.03207272986446297, 0.26339763140175165, 0.4495624864202963, 0.3500175008750439, 0.06348882870947925, 0.014099676882395329, 0.21107373483031378, 0.10902696365766573, 0.1627768084035086, 0.2763098411510789, 0.1877149686170032, 0.18425993451982592, 0.1622377189144597, 0.12563688234974446, -0.32508773894140974, -0.8022001433192094, -0.05857224300452879, 0.49737442565560563, 0.5155180256359415, 0.4010938219174198, 0.23499499191002027, 0.06226219301279645, 0.1417311946902755, 0.32333413879204187, 0.24315272743953287, 0.43707093821510057, 0.6387034547705284, 0.6410643403715666, 0.7018412084266012, 0.8771439953238813, 0.4535808529091634, 0.33359786027098437, 0.41085055585663444, 0.8664765475139724, 0.699229907082688, 0.5751748502822007, 0.645066862768906, 0.7977072566886623], \"yaxis\": \"y\"}],                        {\"barmode\": \"relative\", \"legend\": {\"tracegroupgap\": 0}, \"margin\": {\"t\": 60}, \"template\": {\"data\": {\"bar\": [{\"error_x\": {\"color\": \"#2a3f5f\"}, \"error_y\": {\"color\": \"#2a3f5f\"}, \"marker\": {\"line\": {\"color\": \"#E5ECF6\", \"width\": 0.5}}, \"type\": \"bar\"}], \"barpolar\": [{\"marker\": {\"line\": {\"color\": \"#E5ECF6\", \"width\": 0.5}}, \"type\": \"barpolar\"}], \"carpet\": [{\"aaxis\": {\"endlinecolor\": \"#2a3f5f\", \"gridcolor\": \"white\", \"linecolor\": \"white\", \"minorgridcolor\": \"white\", \"startlinecolor\": \"#2a3f5f\"}, \"baxis\": {\"endlinecolor\": \"#2a3f5f\", \"gridcolor\": \"white\", \"linecolor\": \"white\", \"minorgridcolor\": \"white\", \"startlinecolor\": \"#2a3f5f\"}, \"type\": \"carpet\"}], \"choropleth\": [{\"colorbar\": {\"outlinewidth\": 0, \"ticks\": \"\"}, \"type\": \"choropleth\"}], \"contour\": [{\"colorbar\": {\"outlinewidth\": 0, \"ticks\": \"\"}, \"colorscale\": [[0.0, \"#0d0887\"], [0.1111111111111111, \"#46039f\"], [0.2222222222222222, \"#7201a8\"], [0.3333333333333333, \"#9c179e\"], [0.4444444444444444, \"#bd3786\"], [0.5555555555555556, \"#d8576b\"], [0.6666666666666666, \"#ed7953\"], [0.7777777777777778, \"#fb9f3a\"], [0.8888888888888888, \"#fdca26\"], [1.0, \"#f0f921\"]], \"type\": \"contour\"}], \"contourcarpet\": [{\"colorbar\": {\"outlinewidth\": 0, \"ticks\": \"\"}, \"type\": \"contourcarpet\"}], \"heatmap\": [{\"colorbar\": {\"outlinewidth\": 0, \"ticks\": \"\"}, \"colorscale\": [[0.0, \"#0d0887\"], [0.1111111111111111, \"#46039f\"], [0.2222222222222222, \"#7201a8\"], [0.3333333333333333, \"#9c179e\"], [0.4444444444444444, \"#bd3786\"], [0.5555555555555556, \"#d8576b\"], [0.6666666666666666, \"#ed7953\"], [0.7777777777777778, \"#fb9f3a\"], [0.8888888888888888, \"#fdca26\"], [1.0, \"#f0f921\"]], \"type\": \"heatmap\"}], \"heatmapgl\": [{\"colorbar\": {\"outlinewidth\": 0, \"ticks\": \"\"}, \"colorscale\": [[0.0, \"#0d0887\"], [0.1111111111111111, \"#46039f\"], [0.2222222222222222, \"#7201a8\"], [0.3333333333333333, \"#9c179e\"], [0.4444444444444444, \"#bd3786\"], [0.5555555555555556, \"#d8576b\"], [0.6666666666666666, \"#ed7953\"], [0.7777777777777778, \"#fb9f3a\"], [0.8888888888888888, \"#fdca26\"], [1.0, \"#f0f921\"]], \"type\": \"heatmapgl\"}], \"histogram\": [{\"marker\": {\"colorbar\": {\"outlinewidth\": 0, \"ticks\": \"\"}}, \"type\": \"histogram\"}], \"histogram2d\": [{\"colorbar\": {\"outlinewidth\": 0, \"ticks\": \"\"}, \"colorscale\": [[0.0, \"#0d0887\"], [0.1111111111111111, \"#46039f\"], [0.2222222222222222, \"#7201a8\"], [0.3333333333333333, \"#9c179e\"], [0.4444444444444444, \"#bd3786\"], [0.5555555555555556, \"#d8576b\"], [0.6666666666666666, \"#ed7953\"], [0.7777777777777778, \"#fb9f3a\"], [0.8888888888888888, \"#fdca26\"], [1.0, \"#f0f921\"]], \"type\": \"histogram2d\"}], \"histogram2dcontour\": [{\"colorbar\": {\"outlinewidth\": 0, \"ticks\": \"\"}, \"colorscale\": [[0.0, \"#0d0887\"], [0.1111111111111111, \"#46039f\"], [0.2222222222222222, \"#7201a8\"], [0.3333333333333333, \"#9c179e\"], [0.4444444444444444, \"#bd3786\"], [0.5555555555555556, \"#d8576b\"], [0.6666666666666666, \"#ed7953\"], [0.7777777777777778, \"#fb9f3a\"], [0.8888888888888888, \"#fdca26\"], [1.0, \"#f0f921\"]], \"type\": \"histogram2dcontour\"}], \"mesh3d\": [{\"colorbar\": {\"outlinewidth\": 0, \"ticks\": \"\"}, \"type\": \"mesh3d\"}], \"parcoords\": [{\"line\": {\"colorbar\": {\"outlinewidth\": 0, \"ticks\": \"\"}}, \"type\": \"parcoords\"}], \"pie\": [{\"automargin\": true, \"type\": \"pie\"}], \"scatter\": [{\"marker\": {\"colorbar\": {\"outlinewidth\": 0, \"ticks\": \"\"}}, \"type\": \"scatter\"}], \"scatter3d\": [{\"line\": {\"colorbar\": {\"outlinewidth\": 0, \"ticks\": \"\"}}, \"marker\": {\"colorbar\": {\"outlinewidth\": 0, \"ticks\": \"\"}}, \"type\": \"scatter3d\"}], \"scattercarpet\": [{\"marker\": {\"colorbar\": {\"outlinewidth\": 0, \"ticks\": \"\"}}, \"type\": \"scattercarpet\"}], \"scattergeo\": [{\"marker\": {\"colorbar\": {\"outlinewidth\": 0, \"ticks\": \"\"}}, \"type\": \"scattergeo\"}], \"scattergl\": [{\"marker\": {\"colorbar\": {\"outlinewidth\": 0, \"ticks\": \"\"}}, \"type\": \"scattergl\"}], \"scattermapbox\": [{\"marker\": {\"colorbar\": {\"outlinewidth\": 0, \"ticks\": \"\"}}, \"type\": \"scattermapbox\"}], \"scatterpolar\": [{\"marker\": {\"colorbar\": {\"outlinewidth\": 0, \"ticks\": \"\"}}, \"type\": \"scatterpolar\"}], \"scatterpolargl\": [{\"marker\": {\"colorbar\": {\"outlinewidth\": 0, \"ticks\": \"\"}}, \"type\": \"scatterpolargl\"}], \"scatterternary\": [{\"marker\": {\"colorbar\": {\"outlinewidth\": 0, \"ticks\": \"\"}}, \"type\": \"scatterternary\"}], \"surface\": [{\"colorbar\": {\"outlinewidth\": 0, \"ticks\": \"\"}, \"colorscale\": [[0.0, \"#0d0887\"], [0.1111111111111111, \"#46039f\"], [0.2222222222222222, \"#7201a8\"], [0.3333333333333333, \"#9c179e\"], [0.4444444444444444, \"#bd3786\"], [0.5555555555555556, \"#d8576b\"], [0.6666666666666666, \"#ed7953\"], [0.7777777777777778, \"#fb9f3a\"], [0.8888888888888888, \"#fdca26\"], [1.0, \"#f0f921\"]], \"type\": \"surface\"}], \"table\": [{\"cells\": {\"fill\": {\"color\": \"#EBF0F8\"}, \"line\": {\"color\": \"white\"}}, \"header\": {\"fill\": {\"color\": \"#C8D4E3\"}, \"line\": {\"color\": \"white\"}}, \"type\": \"table\"}]}, \"layout\": {\"annotationdefaults\": {\"arrowcolor\": \"#2a3f5f\", \"arrowhead\": 0, \"arrowwidth\": 1}, \"autotypenumbers\": \"strict\", \"coloraxis\": {\"colorbar\": {\"outlinewidth\": 0, \"ticks\": \"\"}}, \"colorscale\": {\"diverging\": [[0, \"#8e0152\"], [0.1, \"#c51b7d\"], [0.2, \"#de77ae\"], [0.3, \"#f1b6da\"], [0.4, \"#fde0ef\"], [0.5, \"#f7f7f7\"], [0.6, \"#e6f5d0\"], [0.7, \"#b8e186\"], [0.8, \"#7fbc41\"], [0.9, \"#4d9221\"], [1, \"#276419\"]], \"sequential\": [[0.0, \"#0d0887\"], [0.1111111111111111, \"#46039f\"], [0.2222222222222222, \"#7201a8\"], [0.3333333333333333, \"#9c179e\"], [0.4444444444444444, \"#bd3786\"], [0.5555555555555556, \"#d8576b\"], [0.6666666666666666, \"#ed7953\"], [0.7777777777777778, \"#fb9f3a\"], [0.8888888888888888, \"#fdca26\"], [1.0, \"#f0f921\"]], \"sequentialminus\": [[0.0, \"#0d0887\"], [0.1111111111111111, \"#46039f\"], [0.2222222222222222, \"#7201a8\"], [0.3333333333333333, \"#9c179e\"], [0.4444444444444444, \"#bd3786\"], [0.5555555555555556, \"#d8576b\"], [0.6666666666666666, \"#ed7953\"], [0.7777777777777778, \"#fb9f3a\"], [0.8888888888888888, \"#fdca26\"], [1.0, \"#f0f921\"]]}, \"colorway\": [\"#636efa\", \"#EF553B\", \"#00cc96\", \"#ab63fa\", \"#FFA15A\", \"#19d3f3\", \"#FF6692\", \"#B6E880\", \"#FF97FF\", \"#FECB52\"], \"font\": {\"color\": \"#2a3f5f\"}, \"geo\": {\"bgcolor\": \"white\", \"lakecolor\": \"white\", \"landcolor\": \"#E5ECF6\", \"showlakes\": true, \"showland\": true, \"subunitcolor\": \"white\"}, \"hoverlabel\": {\"align\": \"left\"}, \"hovermode\": \"closest\", \"mapbox\": {\"style\": \"light\"}, \"paper_bgcolor\": \"white\", \"plot_bgcolor\": \"#E5ECF6\", \"polar\": {\"angularaxis\": {\"gridcolor\": \"white\", \"linecolor\": \"white\", \"ticks\": \"\"}, \"bgcolor\": \"#E5ECF6\", \"radialaxis\": {\"gridcolor\": \"white\", \"linecolor\": \"white\", \"ticks\": \"\"}}, \"scene\": {\"xaxis\": {\"backgroundcolor\": \"#E5ECF6\", \"gridcolor\": \"white\", \"gridwidth\": 2, \"linecolor\": \"white\", \"showbackground\": true, \"ticks\": \"\", \"zerolinecolor\": \"white\"}, \"yaxis\": {\"backgroundcolor\": \"#E5ECF6\", \"gridcolor\": \"white\", \"gridwidth\": 2, \"linecolor\": \"white\", \"showbackground\": true, \"ticks\": \"\", \"zerolinecolor\": \"white\"}, \"zaxis\": {\"backgroundcolor\": \"#E5ECF6\", \"gridcolor\": \"white\", \"gridwidth\": 2, \"linecolor\": \"white\", \"showbackground\": true, \"ticks\": \"\", \"zerolinecolor\": \"white\"}}, \"shapedefaults\": {\"line\": {\"color\": \"#2a3f5f\"}}, \"ternary\": {\"aaxis\": {\"gridcolor\": \"white\", \"linecolor\": \"white\", \"ticks\": \"\"}, \"baxis\": {\"gridcolor\": \"white\", \"linecolor\": \"white\", \"ticks\": \"\"}, \"bgcolor\": \"#E5ECF6\", \"caxis\": {\"gridcolor\": \"white\", \"linecolor\": \"white\", \"ticks\": \"\"}}, \"title\": {\"x\": 0.05}, \"xaxis\": {\"automargin\": true, \"gridcolor\": \"white\", \"linecolor\": \"white\", \"ticks\": \"\", \"title\": {\"standoff\": 15}, \"zerolinecolor\": \"white\", \"zerolinewidth\": 2}, \"yaxis\": {\"automargin\": true, \"gridcolor\": \"white\", \"linecolor\": \"white\", \"ticks\": \"\", \"title\": {\"standoff\": 15}, \"zerolinecolor\": \"white\", \"zerolinewidth\": 2}}}, \"xaxis\": {\"anchor\": \"y\", \"domain\": [0.0, 1.0], \"title\": {\"text\": \"date\"}}, \"yaxis\": {\"anchor\": \"x\", \"domain\": [0.0, 1.0], \"title\": {\"text\": \"Infla\\u00e7\\u00e3o americada (%)\"}}},                        {\"responsive\": true}                    ).then(function(){\n",
       "                            \n",
       "var gd = document.getElementById('1ddb214f-e710-4551-82af-7f4071af678d');\n",
       "var x = new MutationObserver(function (mutations, observer) {{\n",
       "        var display = window.getComputedStyle(gd).display;\n",
       "        if (!display || display === 'none') {{\n",
       "            console.log([gd, 'removed!']);\n",
       "            Plotly.purge(gd);\n",
       "            observer.disconnect();\n",
       "        }}\n",
       "}});\n",
       "\n",
       "// Listen for the removal of the full notebook cells\n",
       "var notebookContainer = gd.closest('#notebook-container');\n",
       "if (notebookContainer) {{\n",
       "    x.observe(notebookContainer, {childList: true});\n",
       "}}\n",
       "\n",
       "// Listen for the clearing of the current output cell\n",
       "var outputEl = gd.closest('.output');\n",
       "if (outputEl) {{\n",
       "    x.observe(outputEl, {childList: true});\n",
       "}}\n",
       "\n",
       "                        })                };                });            </script>        </div>"
      ]
     },
     "metadata": {},
     "output_type": "display_data"
    }
   ],
   "source": [
    "# Graficos\n",
    "aux = df_dados_americanos.loc['2000':]\n",
    "\n",
    "px.bar(data_frame=aux.consumer_priceUSD.pct_change()*100, x=aux.index, y='consumer_priceUSD', labels={'consumer_priceUSD':'Inflação americada (%)'})\n",
    "\n",
    "\n"
   ]
  },
  {
   "cell_type": "code",
   "execution_count": 74,
   "id": "starting-starter",
   "metadata": {
    "ExecuteTime": {
     "end_time": "2022-03-31T01:16:14.348145Z",
     "start_time": "2022-03-31T01:16:14.290149Z"
    }
   },
   "outputs": [
    {
     "data": {
      "text/html": [
       "<div>\n",
       "<style scoped>\n",
       "    .dataframe tbody tr th:only-of-type {\n",
       "        vertical-align: middle;\n",
       "    }\n",
       "\n",
       "    .dataframe tbody tr th {\n",
       "        vertical-align: top;\n",
       "    }\n",
       "\n",
       "    .dataframe thead th {\n",
       "        text-align: right;\n",
       "    }\n",
       "</style>\n",
       "<table border=\"1\" class=\"dataframe\">\n",
       "  <thead>\n",
       "    <tr style=\"text-align: right;\">\n",
       "      <th></th>\n",
       "      <th>ind_prod_americana</th>\n",
       "      <th>desemprego_americano</th>\n",
       "      <th>consumer_priceUSD</th>\n",
       "      <th>tx_juros_americano</th>\n",
       "    </tr>\n",
       "    <tr>\n",
       "      <th>date</th>\n",
       "      <th></th>\n",
       "      <th></th>\n",
       "      <th></th>\n",
       "      <th></th>\n",
       "    </tr>\n",
       "  </thead>\n",
       "  <tbody>\n",
       "    <tr>\n",
       "      <th>2000-01-01</th>\n",
       "      <td>91.7942</td>\n",
       "      <td>4.0</td>\n",
       "      <td>169.300</td>\n",
       "      <td>5.45</td>\n",
       "    </tr>\n",
       "    <tr>\n",
       "      <th>2000-02-01</th>\n",
       "      <td>92.1272</td>\n",
       "      <td>4.1</td>\n",
       "      <td>170.000</td>\n",
       "      <td>5.73</td>\n",
       "    </tr>\n",
       "    <tr>\n",
       "      <th>2000-03-01</th>\n",
       "      <td>92.4733</td>\n",
       "      <td>4.0</td>\n",
       "      <td>171.000</td>\n",
       "      <td>5.85</td>\n",
       "    </tr>\n",
       "    <tr>\n",
       "      <th>2000-04-01</th>\n",
       "      <td>93.0619</td>\n",
       "      <td>3.8</td>\n",
       "      <td>170.900</td>\n",
       "      <td>6.02</td>\n",
       "    </tr>\n",
       "    <tr>\n",
       "      <th>2000-05-01</th>\n",
       "      <td>93.3427</td>\n",
       "      <td>4.0</td>\n",
       "      <td>171.200</td>\n",
       "      <td>6.27</td>\n",
       "    </tr>\n",
       "    <tr>\n",
       "      <th>...</th>\n",
       "      <td>...</td>\n",
       "      <td>...</td>\n",
       "      <td>...</td>\n",
       "      <td>...</td>\n",
       "    </tr>\n",
       "    <tr>\n",
       "      <th>2021-10-01</th>\n",
       "      <td>101.2169</td>\n",
       "      <td>4.6</td>\n",
       "      <td>276.590</td>\n",
       "      <td>0.08</td>\n",
       "    </tr>\n",
       "    <tr>\n",
       "      <th>2021-11-01</th>\n",
       "      <td>102.0298</td>\n",
       "      <td>4.2</td>\n",
       "      <td>278.524</td>\n",
       "      <td>0.08</td>\n",
       "    </tr>\n",
       "    <tr>\n",
       "      <th>2021-12-01</th>\n",
       "      <td>101.6188</td>\n",
       "      <td>3.9</td>\n",
       "      <td>280.126</td>\n",
       "      <td>0.08</td>\n",
       "    </tr>\n",
       "    <tr>\n",
       "      <th>2022-01-01</th>\n",
       "      <td>103.0309</td>\n",
       "      <td>4.0</td>\n",
       "      <td>281.933</td>\n",
       "      <td>0.08</td>\n",
       "    </tr>\n",
       "    <tr>\n",
       "      <th>2022-02-01</th>\n",
       "      <td>103.5811</td>\n",
       "      <td>3.8</td>\n",
       "      <td>284.182</td>\n",
       "      <td>0.08</td>\n",
       "    </tr>\n",
       "  </tbody>\n",
       "</table>\n",
       "<p>266 rows × 4 columns</p>\n",
       "</div>"
      ],
      "text/plain": [
       "            ind_prod_americana  desemprego_americano  consumer_priceUSD  \\\n",
       "date                                                                      \n",
       "2000-01-01             91.7942                   4.0            169.300   \n",
       "2000-02-01             92.1272                   4.1            170.000   \n",
       "2000-03-01             92.4733                   4.0            171.000   \n",
       "2000-04-01             93.0619                   3.8            170.900   \n",
       "2000-05-01             93.3427                   4.0            171.200   \n",
       "...                        ...                   ...                ...   \n",
       "2021-10-01            101.2169                   4.6            276.590   \n",
       "2021-11-01            102.0298                   4.2            278.524   \n",
       "2021-12-01            101.6188                   3.9            280.126   \n",
       "2022-01-01            103.0309                   4.0            281.933   \n",
       "2022-02-01            103.5811                   3.8            284.182   \n",
       "\n",
       "            tx_juros_americano  \n",
       "date                            \n",
       "2000-01-01                5.45  \n",
       "2000-02-01                5.73  \n",
       "2000-03-01                5.85  \n",
       "2000-04-01                6.02  \n",
       "2000-05-01                6.27  \n",
       "...                        ...  \n",
       "2021-10-01                0.08  \n",
       "2021-11-01                0.08  \n",
       "2021-12-01                0.08  \n",
       "2022-01-01                0.08  \n",
       "2022-02-01                0.08  \n",
       "\n",
       "[266 rows x 4 columns]"
      ]
     },
     "execution_count": 74,
     "metadata": {},
     "output_type": "execute_result"
    }
   ],
   "source": [
    "info_american_from2000= df_dados_americanos.loc['2000':]\n",
    "info_american_from2000"
   ]
  },
  {
   "cell_type": "code",
   "execution_count": 118,
   "id": "announced-disco",
   "metadata": {
    "ExecuteTime": {
     "end_time": "2022-03-31T01:47:33.948127Z",
     "start_time": "2022-03-31T01:47:33.720169Z"
    }
   },
   "outputs": [],
   "source": [
    "# Tx de juros - equivalencia financeira - a partir de 2000\n",
    "tx_juros_americano_day = mensal_diario_rate_nome(info_american_from2000['tx_juros_americano'], 'tx_juros_americano_day')\n"
   ]
  },
  {
   "cell_type": "code",
   "execution_count": 149,
   "id": "legislative-filing",
   "metadata": {
    "ExecuteTime": {
     "end_time": "2022-03-31T02:06:50.882309Z",
     "start_time": "2022-03-31T02:06:50.370307Z"
    }
   },
   "outputs": [],
   "source": [
    "# Conversão mensal para diário - conversão simple (/business day) - somente a partir de 2000\n",
    "industry_production_daily = conversao_simples_mensal_diario_B_nome(info_american_from2000['ind_prod_americana'], 'industry_production_daily')\n",
    "desemprego_americano_daily = conversao_simples_mensal_diario_B_nome(info_american_from2000['desemprego_americano'], 'desemprego_americano_day')\n",
    "inflacao_americana_daily_USD = conversao_simples_mensal_diario_B_nome(info_american_from2000['consumer_priceUSD'], 'inflacao_americana_daily_USD')\n",
    "\n"
   ]
  },
  {
   "cell_type": "code",
   "execution_count": 150,
   "id": "horizontal-colleague",
   "metadata": {
    "ExecuteTime": {
     "end_time": "2022-03-31T02:06:55.232310Z",
     "start_time": "2022-03-31T02:06:55.125355Z"
    }
   },
   "outputs": [
    {
     "data": {
      "text/html": [
       "<div>\n",
       "<style scoped>\n",
       "    .dataframe tbody tr th:only-of-type {\n",
       "        vertical-align: middle;\n",
       "    }\n",
       "\n",
       "    .dataframe tbody tr th {\n",
       "        vertical-align: top;\n",
       "    }\n",
       "\n",
       "    .dataframe thead th {\n",
       "        text-align: right;\n",
       "    }\n",
       "</style>\n",
       "<table border=\"1\" class=\"dataframe\">\n",
       "  <thead>\n",
       "    <tr style=\"text-align: right;\">\n",
       "      <th></th>\n",
       "      <th>tx_juros_americano_day</th>\n",
       "      <th>industry_production_daily</th>\n",
       "      <th>desemprego_americano_day</th>\n",
       "      <th>inflacao_americana_daily_USD</th>\n",
       "    </tr>\n",
       "    <tr>\n",
       "      <th>date</th>\n",
       "      <th></th>\n",
       "      <th></th>\n",
       "      <th></th>\n",
       "      <th></th>\n",
       "    </tr>\n",
       "  </thead>\n",
       "  <tbody>\n",
       "    <tr>\n",
       "      <th>2000-01-03</th>\n",
       "      <td>0.088</td>\n",
       "      <td>4.172</td>\n",
       "      <td>0.182</td>\n",
       "      <td>7.695</td>\n",
       "    </tr>\n",
       "    <tr>\n",
       "      <th>2000-01-04</th>\n",
       "      <td>0.088</td>\n",
       "      <td>4.172</td>\n",
       "      <td>0.182</td>\n",
       "      <td>7.695</td>\n",
       "    </tr>\n",
       "    <tr>\n",
       "      <th>2000-01-05</th>\n",
       "      <td>0.088</td>\n",
       "      <td>4.172</td>\n",
       "      <td>0.182</td>\n",
       "      <td>7.695</td>\n",
       "    </tr>\n",
       "    <tr>\n",
       "      <th>2000-01-06</th>\n",
       "      <td>0.088</td>\n",
       "      <td>4.172</td>\n",
       "      <td>0.182</td>\n",
       "      <td>7.695</td>\n",
       "    </tr>\n",
       "    <tr>\n",
       "      <th>2000-01-07</th>\n",
       "      <td>0.088</td>\n",
       "      <td>4.172</td>\n",
       "      <td>0.182</td>\n",
       "      <td>7.695</td>\n",
       "    </tr>\n",
       "    <tr>\n",
       "      <th>...</th>\n",
       "      <td>...</td>\n",
       "      <td>...</td>\n",
       "      <td>...</td>\n",
       "      <td>...</td>\n",
       "    </tr>\n",
       "    <tr>\n",
       "      <th>2022-01-26</th>\n",
       "      <td>0.004</td>\n",
       "      <td>4.683</td>\n",
       "      <td>0.182</td>\n",
       "      <td>12.815</td>\n",
       "    </tr>\n",
       "    <tr>\n",
       "      <th>2022-01-27</th>\n",
       "      <td>0.004</td>\n",
       "      <td>4.683</td>\n",
       "      <td>0.182</td>\n",
       "      <td>12.815</td>\n",
       "    </tr>\n",
       "    <tr>\n",
       "      <th>2022-01-28</th>\n",
       "      <td>0.004</td>\n",
       "      <td>4.683</td>\n",
       "      <td>0.182</td>\n",
       "      <td>12.815</td>\n",
       "    </tr>\n",
       "    <tr>\n",
       "      <th>2022-01-31</th>\n",
       "      <td>0.004</td>\n",
       "      <td>4.683</td>\n",
       "      <td>0.182</td>\n",
       "      <td>12.815</td>\n",
       "    </tr>\n",
       "    <tr>\n",
       "      <th>2022-02-01</th>\n",
       "      <td>0.004</td>\n",
       "      <td>4.708</td>\n",
       "      <td>0.173</td>\n",
       "      <td>12.917</td>\n",
       "    </tr>\n",
       "  </tbody>\n",
       "</table>\n",
       "<p>5762 rows × 4 columns</p>\n",
       "</div>"
      ],
      "text/plain": [
       "            tx_juros_americano_day  industry_production_daily  \\\n",
       "date                                                            \n",
       "2000-01-03                   0.088                      4.172   \n",
       "2000-01-04                   0.088                      4.172   \n",
       "2000-01-05                   0.088                      4.172   \n",
       "2000-01-06                   0.088                      4.172   \n",
       "2000-01-07                   0.088                      4.172   \n",
       "...                            ...                        ...   \n",
       "2022-01-26                   0.004                      4.683   \n",
       "2022-01-27                   0.004                      4.683   \n",
       "2022-01-28                   0.004                      4.683   \n",
       "2022-01-31                   0.004                      4.683   \n",
       "2022-02-01                   0.004                      4.708   \n",
       "\n",
       "            desemprego_americano_day  inflacao_americana_daily_USD  \n",
       "date                                                                \n",
       "2000-01-03                     0.182                         7.695  \n",
       "2000-01-04                     0.182                         7.695  \n",
       "2000-01-05                     0.182                         7.695  \n",
       "2000-01-06                     0.182                         7.695  \n",
       "2000-01-07                     0.182                         7.695  \n",
       "...                              ...                           ...  \n",
       "2022-01-26                     0.182                        12.815  \n",
       "2022-01-27                     0.182                        12.815  \n",
       "2022-01-28                     0.182                        12.815  \n",
       "2022-01-31                     0.182                        12.815  \n",
       "2022-02-01                     0.173                        12.917  \n",
       "\n",
       "[5762 rows x 4 columns]"
      ]
     },
     "execution_count": 150,
     "metadata": {},
     "output_type": "execute_result"
    }
   ],
   "source": [
    "aux1 =pd.merge(tx_juros_americano_day, industry_production_daily, on=\"date\", how='left')\n",
    "aux2 = pd.merge(aux1, desemprego_americano_daily, on=\"date\", how='left' )\n",
    "df_dados_americanos_daily = pd.merge(aux2, inflacao_americana_daily_USD, on=\"date\", how='left' )\n",
    "df_dados_americanos_daily"
   ]
  },
  {
   "cell_type": "markdown",
   "id": "eastern-wisconsin",
   "metadata": {},
   "source": [
    "## BRASIL"
   ]
  },
  {
   "cell_type": "markdown",
   "id": "velvet-lightweight",
   "metadata": {},
   "source": [
    "***O que falta e apontamentos?***\n",
    "- organização geral,\n",
    "- Separar os dados para análise tecnica e fundamentalista\n",
    "- muita coisa ...\n",
    "- Dividendos: tratar como 'categorico'? Como identificar se próximo ao dia do pagamento de dividendos, houve oscilação no preço ou no volume de negoociações???"
   ]
  },
  {
   "cell_type": "markdown",
   "id": "fossil-victorian",
   "metadata": {},
   "source": [
    "### Coletando as informações - para o df base"
   ]
  },
  {
   "cell_type": "markdown",
   "id": "international-prescription",
   "metadata": {},
   "source": [
    "#### Yfinance"
   ]
  },
  {
   "cell_type": "code",
   "execution_count": 18,
   "id": "august-techno",
   "metadata": {
    "ExecuteTime": {
     "end_time": "2022-03-31T00:25:42.802823Z",
     "start_time": "2022-03-31T00:25:33.510401Z"
    }
   },
   "outputs": [
    {
     "name": "stdout",
     "output_type": "stream",
     "text": [
      "[*********************100%***********************]  3 of 3 completed\n"
     ]
    }
   ],
   "source": [
    "#Cotações\n",
    "cotacoes = yf.download(['USDBRL=X', '^BVSP','ABEV3.SA' ], start = '2000-01-01', end = datetime.datetime.today() - datetime.timedelta(days=1) )['Adj Close']\n",
    "cotacoes.rename({'ABEV3.SA': 'AMBEV', 'USDBRL=X': 'DOLAR', '^BVSP':'IBOVESPA'},axis= 'columns', inplace= True)\n",
    "cotacoes.index.name = 'data'"
   ]
  },
  {
   "cell_type": "code",
   "execution_count": 19,
   "id": "closed-assembly",
   "metadata": {
    "ExecuteTime": {
     "end_time": "2022-03-31T00:25:42.851831Z",
     "start_time": "2022-03-31T00:25:42.807832Z"
    }
   },
   "outputs": [
    {
     "name": "stdout",
     "output_type": "stream",
     "text": [
      "<class 'pandas.core.frame.DataFrame'>\n",
      "DatetimeIndex: 5788 entries, 2000-01-03 to 2022-03-30\n",
      "Data columns (total 3 columns):\n",
      " #   Column    Non-Null Count  Dtype  \n",
      "---  ------    --------------  -----  \n",
      " 0   AMBEV     5586 non-null   float64\n",
      " 1   DOLAR     4336 non-null   float64\n",
      " 2   IBOVESPA  5502 non-null   float64\n",
      "dtypes: float64(3)\n",
      "memory usage: 180.9 KB\n"
     ]
    }
   ],
   "source": [
    "cotacoes.info()\n"
   ]
  },
  {
   "cell_type": "code",
   "execution_count": 20,
   "id": "small-juvenile",
   "metadata": {
    "ExecuteTime": {
     "end_time": "2022-03-31T00:25:42.898827Z",
     "start_time": "2022-03-31T00:25:42.860831Z"
    }
   },
   "outputs": [],
   "source": [
    "# Instanciando o Ticker para pegar informações mais específicas da empresa\n",
    "ticker = yf.Ticker('ABEV3.SA')"
   ]
  },
  {
   "cell_type": "code",
   "execution_count": 21,
   "id": "fluid-library",
   "metadata": {
    "ExecuteTime": {
     "end_time": "2022-03-31T00:25:44.152827Z",
     "start_time": "2022-03-31T00:25:42.903831Z"
    }
   },
   "outputs": [],
   "source": [
    "dividends = ticker.dividends.to_frame()\n",
    "dividends.index.name= 'data'\n",
    "dividends = dividends.asfreq('B', fill_value = 0)\n"
   ]
  },
  {
   "cell_type": "markdown",
   "id": "controlled-sound",
   "metadata": {},
   "source": [
    "#### scraping ipea"
   ]
  },
  {
   "cell_type": "code",
   "execution_count": 22,
   "id": "narrative-shade",
   "metadata": {
    "ExecuteTime": {
     "end_time": "2022-03-31T00:25:50.047893Z",
     "start_time": "2022-03-31T00:25:44.161831Z"
    }
   },
   "outputs": [],
   "source": [
    "# Risco Brasil\n",
    "risco_brasil = risco_brasil()\n"
   ]
  },
  {
   "cell_type": "markdown",
   "id": "logical-apparel",
   "metadata": {},
   "source": [
    "#### BANCO CENTRAL"
   ]
  },
  {
   "cell_type": "code",
   "execution_count": 23,
   "id": "unknown-northwest",
   "metadata": {
    "ExecuteTime": {
     "end_time": "2022-03-31T00:25:51.993828Z",
     "start_time": "2022-03-31T00:25:50.054831Z"
    }
   },
   "outputs": [
    {
     "data": {
      "text/html": [
       "<div>\n",
       "<style scoped>\n",
       "    .dataframe tbody tr th:only-of-type {\n",
       "        vertical-align: middle;\n",
       "    }\n",
       "\n",
       "    .dataframe tbody tr th {\n",
       "        vertical-align: top;\n",
       "    }\n",
       "\n",
       "    .dataframe thead th {\n",
       "        text-align: right;\n",
       "    }\n",
       "</style>\n",
       "<table border=\"1\" class=\"dataframe\">\n",
       "  <thead>\n",
       "    <tr style=\"text-align: right;\">\n",
       "      <th></th>\n",
       "      <th>cdi</th>\n",
       "    </tr>\n",
       "    <tr>\n",
       "      <th>data</th>\n",
       "      <th></th>\n",
       "    </tr>\n",
       "  </thead>\n",
       "  <tbody>\n",
       "    <tr>\n",
       "      <th>1999-12-31</th>\n",
       "      <td>0.068485</td>\n",
       "    </tr>\n",
       "    <tr>\n",
       "      <th>2000-01-03</th>\n",
       "      <td>0.068318</td>\n",
       "    </tr>\n",
       "    <tr>\n",
       "      <th>2000-01-04</th>\n",
       "      <td>0.068218</td>\n",
       "    </tr>\n",
       "    <tr>\n",
       "      <th>2000-01-05</th>\n",
       "      <td>0.068184</td>\n",
       "    </tr>\n",
       "    <tr>\n",
       "      <th>2000-01-06</th>\n",
       "      <td>0.068218</td>\n",
       "    </tr>\n",
       "    <tr>\n",
       "      <th>...</th>\n",
       "      <td>...</td>\n",
       "    </tr>\n",
       "    <tr>\n",
       "      <th>2022-03-23</th>\n",
       "      <td>0.043739</td>\n",
       "    </tr>\n",
       "    <tr>\n",
       "      <th>2022-03-24</th>\n",
       "      <td>0.043739</td>\n",
       "    </tr>\n",
       "    <tr>\n",
       "      <th>2022-03-25</th>\n",
       "      <td>0.043739</td>\n",
       "    </tr>\n",
       "    <tr>\n",
       "      <th>2022-03-28</th>\n",
       "      <td>0.043739</td>\n",
       "    </tr>\n",
       "    <tr>\n",
       "      <th>2022-03-29</th>\n",
       "      <td>0.043739</td>\n",
       "    </tr>\n",
       "  </tbody>\n",
       "</table>\n",
       "<p>5587 rows × 1 columns</p>\n",
       "</div>"
      ],
      "text/plain": [
       "                 cdi\n",
       "data                \n",
       "1999-12-31  0.068485\n",
       "2000-01-03  0.068318\n",
       "2000-01-04  0.068218\n",
       "2000-01-05  0.068184\n",
       "2000-01-06  0.068218\n",
       "...              ...\n",
       "2022-03-23  0.043739\n",
       "2022-03-24  0.043739\n",
       "2022-03-25  0.043739\n",
       "2022-03-28  0.043739\n",
       "2022-03-29  0.043739\n",
       "\n",
       "[5587 rows x 1 columns]"
      ]
     },
     "execution_count": 23,
     "metadata": {},
     "output_type": "execute_result"
    }
   ],
   "source": [
    "#DIARIA Consulta Banco Central\n",
    "cdi = consulta_bcb('cdi',12)\n",
    "cdi"
   ]
  },
  {
   "cell_type": "markdown",
   "id": "precious-absorption",
   "metadata": {},
   "source": [
    "#### Pré juntando até aqui"
   ]
  },
  {
   "cell_type": "code",
   "execution_count": 24,
   "id": "insured-soundtrack",
   "metadata": {
    "ExecuteTime": {
     "end_time": "2022-03-31T00:25:52.117831Z",
     "start_time": "2022-03-31T00:25:51.998834Z"
    }
   },
   "outputs": [
    {
     "data": {
      "text/html": [
       "<div>\n",
       "<style scoped>\n",
       "    .dataframe tbody tr th:only-of-type {\n",
       "        vertical-align: middle;\n",
       "    }\n",
       "\n",
       "    .dataframe tbody tr th {\n",
       "        vertical-align: top;\n",
       "    }\n",
       "\n",
       "    .dataframe thead th {\n",
       "        text-align: right;\n",
       "    }\n",
       "</style>\n",
       "<table border=\"1\" class=\"dataframe\">\n",
       "  <thead>\n",
       "    <tr style=\"text-align: right;\">\n",
       "      <th></th>\n",
       "      <th>AMBEV</th>\n",
       "      <th>DOLAR</th>\n",
       "      <th>IBOVESPA</th>\n",
       "      <th>cdi</th>\n",
       "      <th>Risco_Brasil</th>\n",
       "      <th>Dividends</th>\n",
       "    </tr>\n",
       "    <tr>\n",
       "      <th>data</th>\n",
       "      <th></th>\n",
       "      <th></th>\n",
       "      <th></th>\n",
       "      <th></th>\n",
       "      <th></th>\n",
       "      <th></th>\n",
       "    </tr>\n",
       "  </thead>\n",
       "  <tbody>\n",
       "    <tr>\n",
       "      <th>2022-03-24</th>\n",
       "      <td>14.20</td>\n",
       "      <td>4.8242</td>\n",
       "      <td>119053.0</td>\n",
       "      <td>0.043739</td>\n",
       "      <td>313</td>\n",
       "      <td>0.0</td>\n",
       "    </tr>\n",
       "    <tr>\n",
       "      <th>2022-03-25</th>\n",
       "      <td>14.32</td>\n",
       "      <td>4.8263</td>\n",
       "      <td>119081.0</td>\n",
       "      <td>0.043739</td>\n",
       "      <td>301</td>\n",
       "      <td>0.0</td>\n",
       "    </tr>\n",
       "    <tr>\n",
       "      <th>2022-03-28</th>\n",
       "      <td>14.74</td>\n",
       "      <td>4.7369</td>\n",
       "      <td>118738.0</td>\n",
       "      <td>0.043739</td>\n",
       "      <td>301</td>\n",
       "      <td>0.0</td>\n",
       "    </tr>\n",
       "    <tr>\n",
       "      <th>2022-03-29</th>\n",
       "      <td>15.25</td>\n",
       "      <td>4.7641</td>\n",
       "      <td>120014.0</td>\n",
       "      <td>0.043739</td>\n",
       "      <td>300</td>\n",
       "      <td>0.0</td>\n",
       "    </tr>\n",
       "    <tr>\n",
       "      <th>2022-03-30</th>\n",
       "      <td>NaN</td>\n",
       "      <td>4.7562</td>\n",
       "      <td>NaN</td>\n",
       "      <td>NaN</td>\n",
       "      <td>NaN</td>\n",
       "      <td>0.0</td>\n",
       "    </tr>\n",
       "  </tbody>\n",
       "</table>\n",
       "</div>"
      ],
      "text/plain": [
       "            AMBEV   DOLAR  IBOVESPA       cdi Risco_Brasil  Dividends\n",
       "data                                                                 \n",
       "2022-03-24  14.20  4.8242  119053.0  0.043739          313        0.0\n",
       "2022-03-25  14.32  4.8263  119081.0  0.043739          301        0.0\n",
       "2022-03-28  14.74  4.7369  118738.0  0.043739          301        0.0\n",
       "2022-03-29  15.25  4.7641  120014.0  0.043739          300        0.0\n",
       "2022-03-30    NaN  4.7562       NaN       NaN          NaN        0.0"
      ]
     },
     "execution_count": 24,
     "metadata": {},
     "output_type": "execute_result"
    }
   ],
   "source": [
    "junta_cdi = pd.merge(cotacoes, cdi, on= 'data', how= 'left')\n",
    "junta_risco = pd.merge(junta_cdi, risco_brasil, on= 'data', how= 'left')\n",
    "df_diaria = pd.merge(junta_risco, dividends,on= 'data', how= 'left' )\n",
    "df_diaria.rename({'valor': 'CDI'}, axis= 'columns', inplace= True)\n",
    "\n",
    "#Dividendos = se não tem valor é p.q não teve \n",
    "df_diaria.Dividends.fillna(0, inplace = True)\n",
    "\n",
    "df_diaria.tail()"
   ]
  },
  {
   "cell_type": "code",
   "execution_count": 25,
   "id": "aboriginal-belgium",
   "metadata": {
    "ExecuteTime": {
     "end_time": "2022-03-31T00:25:58.805826Z",
     "start_time": "2022-03-31T00:25:52.124831Z"
    }
   },
   "outputs": [],
   "source": [
    "# MENSAL - CONSULTA Banco Central\n",
    "ipca_mensal = consulta_bcb('ipca_mensal',433)\n",
    "ipca_alimentos_bebidas_mensal = consulta_bcb('ipca_alimentos_bebidas',1635)\n",
    "igpm_mensal = consulta_bcb('igpm',189)\n",
    "selic_meta_mensal = consulta_bcb('selic_meta_mensal',432)\n",
    "selic_overnight_mensal = consulta_bcb('selic_overnight_mensal',4189)\n",
    "taxa_desemprego_pnad_mensal = consulta_bcb('taxa_desemprego_pnad_mensal', 24369)\n",
    "indice_volume_vendas_varejo_setor_mensal = consulta_bcb('indice_volume_vendas_varejo_setor_mensal',1496)\n",
    "\n",
    "indice_producao_bens_consumo_mensal = consulta_bcb('indice_producao_bens_consumo_mensal',21867)"
   ]
  },
  {
   "cell_type": "code",
   "execution_count": 103,
   "id": "streaming-title",
   "metadata": {
    "ExecuteTime": {
     "end_time": "2022-03-31T01:35:23.694521Z",
     "start_time": "2022-03-31T01:35:23.647521Z"
    }
   },
   "outputs": [
    {
     "data": {
      "text/html": [
       "<div>\n",
       "<style scoped>\n",
       "    .dataframe tbody tr th:only-of-type {\n",
       "        vertical-align: middle;\n",
       "    }\n",
       "\n",
       "    .dataframe tbody tr th {\n",
       "        vertical-align: top;\n",
       "    }\n",
       "\n",
       "    .dataframe thead th {\n",
       "        text-align: right;\n",
       "    }\n",
       "</style>\n",
       "<table border=\"1\" class=\"dataframe\">\n",
       "  <thead>\n",
       "    <tr style=\"text-align: right;\">\n",
       "      <th></th>\n",
       "      <th>ipca_mensal</th>\n",
       "    </tr>\n",
       "    <tr>\n",
       "      <th>data</th>\n",
       "      <th></th>\n",
       "    </tr>\n",
       "  </thead>\n",
       "  <tbody>\n",
       "    <tr>\n",
       "      <th>2000-01-01</th>\n",
       "      <td>0.62</td>\n",
       "    </tr>\n",
       "    <tr>\n",
       "      <th>2000-02-01</th>\n",
       "      <td>0.13</td>\n",
       "    </tr>\n",
       "    <tr>\n",
       "      <th>2000-03-01</th>\n",
       "      <td>0.22</td>\n",
       "    </tr>\n",
       "    <tr>\n",
       "      <th>2000-04-01</th>\n",
       "      <td>0.42</td>\n",
       "    </tr>\n",
       "    <tr>\n",
       "      <th>2000-05-01</th>\n",
       "      <td>0.01</td>\n",
       "    </tr>\n",
       "    <tr>\n",
       "      <th>...</th>\n",
       "      <td>...</td>\n",
       "    </tr>\n",
       "    <tr>\n",
       "      <th>2021-10-01</th>\n",
       "      <td>1.25</td>\n",
       "    </tr>\n",
       "    <tr>\n",
       "      <th>2021-11-01</th>\n",
       "      <td>0.95</td>\n",
       "    </tr>\n",
       "    <tr>\n",
       "      <th>2021-12-01</th>\n",
       "      <td>0.73</td>\n",
       "    </tr>\n",
       "    <tr>\n",
       "      <th>2022-01-01</th>\n",
       "      <td>0.54</td>\n",
       "    </tr>\n",
       "    <tr>\n",
       "      <th>2022-02-01</th>\n",
       "      <td>1.01</td>\n",
       "    </tr>\n",
       "  </tbody>\n",
       "</table>\n",
       "<p>266 rows × 1 columns</p>\n",
       "</div>"
      ],
      "text/plain": [
       "            ipca_mensal\n",
       "data                   \n",
       "2000-01-01         0.62\n",
       "2000-02-01         0.13\n",
       "2000-03-01         0.22\n",
       "2000-04-01         0.42\n",
       "2000-05-01         0.01\n",
       "...                 ...\n",
       "2021-10-01         1.25\n",
       "2021-11-01         0.95\n",
       "2021-12-01         0.73\n",
       "2022-01-01         0.54\n",
       "2022-02-01         1.01\n",
       "\n",
       "[266 rows x 1 columns]"
      ]
     },
     "execution_count": 103,
     "metadata": {},
     "output_type": "execute_result"
    }
   ],
   "source": [
    "ipca_mensal"
   ]
  },
  {
   "cell_type": "markdown",
   "id": "valid-comparative",
   "metadata": {},
   "source": [
    "#### CONVERSAO MENSAL- DIARIO"
   ]
  },
  {
   "cell_type": "code",
   "execution_count": 26,
   "id": "brazilian-grain",
   "metadata": {
    "ExecuteTime": {
     "end_time": "2022-03-31T00:25:59.807864Z",
     "start_time": "2022-03-31T00:25:58.810830Z"
    }
   },
   "outputs": [],
   "source": [
    "##DIARIO - CONVERSAO DO MENSAL\n",
    "\n",
    "# Txa juros, selic: Tem que fazer a equivalencia financeira\n",
    "selic_meta_diario = mensal_diario_rate(selic_meta_mensal)\n",
    "selic_overnight_diario = mensal_diario_rate(selic_overnight_mensal)\n",
    "ipca_diario = mensal_diario_rate(ipca_mensal)\n",
    "\n",
    "\n",
    "# Conversão simples valor mensal / 22 ( médias business day)\n",
    "igpm_diario = cenversao_simples_mensal_diario_B(igpm_mensal)\n",
    "taxa_desemprego_pnad_diario = cenversao_simples_mensal_diario_B(taxa_desemprego_pnad_mensal)\n",
    "indice_volume_vendas_varejo_setor_diario = cenversao_simples_mensal_diario_B(indice_volume_vendas_varejo_setor_mensal)\n",
    "\n",
    "#renomear\n",
    "indice_volume_vendas_varejo_setor_diario.rename({'indice_volume_vendas_varejo_setor_mensal_diario': 'volume_vendas_varejo_setor_diario' }, axis= 'columns', inplace = True)\n",
    "\n",
    "\n",
    "indice_producao_bens_consumo_diario = cenversao_simples_mensal_diario_B(indice_producao_bens_consumo_mensal)\n",
    "\n",
    "#renomear\n",
    "indice_producao_bens_consumo_diario.rename({'indice_producao_bens_consumo_mensal_diario': 'producao_bens_consumo_diario' }, axis= 'columns', inplace = True)\n"
   ]
  },
  {
   "cell_type": "code",
   "execution_count": 27,
   "id": "median-tension",
   "metadata": {
    "ExecuteTime": {
     "end_time": "2022-03-31T00:25:59.839829Z",
     "start_time": "2022-03-31T00:25:59.827829Z"
    }
   },
   "outputs": [],
   "source": [
    "indice_volume_vendas_varejo_setor_diario.rename({'indice_volume_vendas_varejo_setor_mensal_diario': 'volume_vendas_varejo_setor_diario' }, axis= 'columns', inplace = True)\n"
   ]
  },
  {
   "cell_type": "markdown",
   "id": "portable-actress",
   "metadata": {
    "ExecuteTime": {
     "end_time": "2022-03-27T20:44:02.444616Z",
     "start_time": "2022-03-27T20:44:02.417619Z"
    }
   },
   "source": [
    "#### Juntando as info no DF"
   ]
  },
  {
   "cell_type": "code",
   "execution_count": 28,
   "id": "recreational-quebec",
   "metadata": {
    "ExecuteTime": {
     "end_time": "2022-03-31T00:26:00.012829Z",
     "start_time": "2022-03-31T00:25:59.852832Z"
    }
   },
   "outputs": [],
   "source": [
    "ax = pd.merge(selic_meta_diario, selic_overnight_diario, on= 'data', how= 'left' )\n",
    "ax1  = pd.merge(ax,taxa_desemprego_pnad_diario , on= 'data', how= 'left' )\n",
    "ax2  = pd.merge(ax1,indice_volume_vendas_varejo_setor_diario , on= 'data', how= 'left' )\n",
    "ax3  = pd.merge(ax2,ipca_diario  , on= 'data', how= 'left' )\n",
    "ax4  = pd.merge(ax3,igpm_diario  , on= 'data', how= 'left' )\n",
    "ax5  = pd.merge(ax4,indice_volume_vendas_varejo_setor_diario  , on= 'data', how= 'left' )\n",
    "ax6  = pd.merge(ax5,indice_producao_bens_consumo_diario , on= 'data', how= 'left' )\n",
    "\n",
    "df_diaria_final = pd.merge(df_diaria, ax6, on='data', how='left')"
   ]
  },
  {
   "cell_type": "code",
   "execution_count": 151,
   "id": "several-speed",
   "metadata": {
    "ExecuteTime": {
     "end_time": "2022-03-31T02:09:52.917356Z",
     "start_time": "2022-03-31T02:09:52.791309Z"
    }
   },
   "outputs": [
    {
     "data": {
      "text/html": [
       "<div>\n",
       "<style scoped>\n",
       "    .dataframe tbody tr th:only-of-type {\n",
       "        vertical-align: middle;\n",
       "    }\n",
       "\n",
       "    .dataframe tbody tr th {\n",
       "        vertical-align: top;\n",
       "    }\n",
       "\n",
       "    .dataframe thead th {\n",
       "        text-align: right;\n",
       "    }\n",
       "</style>\n",
       "<table border=\"1\" class=\"dataframe\">\n",
       "  <thead>\n",
       "    <tr style=\"text-align: right;\">\n",
       "      <th></th>\n",
       "      <th>AMBEV</th>\n",
       "      <th>DOLAR</th>\n",
       "      <th>IBOVESPA</th>\n",
       "      <th>cdi</th>\n",
       "      <th>Risco_Brasil</th>\n",
       "      <th>Dividends</th>\n",
       "      <th>selic_meta_diario</th>\n",
       "      <th>selic_overnight_diario</th>\n",
       "      <th>taxa_desemprego_pnad_mensal_diario</th>\n",
       "      <th>volume_vendas_varejo_setor_diario_x</th>\n",
       "      <th>ipca_diario</th>\n",
       "      <th>igpm_diario</th>\n",
       "      <th>volume_vendas_varejo_setor_diario_y</th>\n",
       "      <th>producao_bens_consumo_diario</th>\n",
       "    </tr>\n",
       "    <tr>\n",
       "      <th>data</th>\n",
       "      <th></th>\n",
       "      <th></th>\n",
       "      <th></th>\n",
       "      <th></th>\n",
       "      <th></th>\n",
       "      <th></th>\n",
       "      <th></th>\n",
       "      <th></th>\n",
       "      <th></th>\n",
       "      <th></th>\n",
       "      <th></th>\n",
       "      <th></th>\n",
       "      <th></th>\n",
       "      <th></th>\n",
       "    </tr>\n",
       "  </thead>\n",
       "  <tbody>\n",
       "    <tr>\n",
       "      <th>2000-01-03</th>\n",
       "      <td>NaN</td>\n",
       "      <td>NaN</td>\n",
       "      <td>16930.0</td>\n",
       "      <td>0.068318</td>\n",
       "      <td>626</td>\n",
       "      <td>0.0</td>\n",
       "      <td>0.146</td>\n",
       "      <td>0.146</td>\n",
       "      <td>NaN</td>\n",
       "      <td>2.468</td>\n",
       "      <td>0.022</td>\n",
       "      <td>0.056</td>\n",
       "      <td>2.468</td>\n",
       "      <td>NaN</td>\n",
       "    </tr>\n",
       "    <tr>\n",
       "      <th>2000-01-04</th>\n",
       "      <td>NaN</td>\n",
       "      <td>NaN</td>\n",
       "      <td>15851.0</td>\n",
       "      <td>0.068218</td>\n",
       "      <td>675</td>\n",
       "      <td>0.0</td>\n",
       "      <td>0.146</td>\n",
       "      <td>0.146</td>\n",
       "      <td>NaN</td>\n",
       "      <td>2.468</td>\n",
       "      <td>0.022</td>\n",
       "      <td>0.056</td>\n",
       "      <td>2.468</td>\n",
       "      <td>NaN</td>\n",
       "    </tr>\n",
       "    <tr>\n",
       "      <th>2000-01-05</th>\n",
       "      <td>0.321626</td>\n",
       "      <td>NaN</td>\n",
       "      <td>16245.0</td>\n",
       "      <td>0.068184</td>\n",
       "      <td>677</td>\n",
       "      <td>0.0</td>\n",
       "      <td>0.146</td>\n",
       "      <td>0.146</td>\n",
       "      <td>NaN</td>\n",
       "      <td>2.468</td>\n",
       "      <td>0.022</td>\n",
       "      <td>0.056</td>\n",
       "      <td>2.468</td>\n",
       "      <td>NaN</td>\n",
       "    </tr>\n",
       "    <tr>\n",
       "      <th>2000-01-06</th>\n",
       "      <td>0.305323</td>\n",
       "      <td>NaN</td>\n",
       "      <td>16107.0</td>\n",
       "      <td>0.068218</td>\n",
       "      <td>688</td>\n",
       "      <td>0.0</td>\n",
       "      <td>0.146</td>\n",
       "      <td>0.146</td>\n",
       "      <td>NaN</td>\n",
       "      <td>2.468</td>\n",
       "      <td>0.022</td>\n",
       "      <td>0.056</td>\n",
       "      <td>2.468</td>\n",
       "      <td>NaN</td>\n",
       "    </tr>\n",
       "    <tr>\n",
       "      <th>2000-01-07</th>\n",
       "      <td>0.305323</td>\n",
       "      <td>NaN</td>\n",
       "      <td>16309.0</td>\n",
       "      <td>0.068218</td>\n",
       "      <td>677</td>\n",
       "      <td>0.0</td>\n",
       "      <td>0.146</td>\n",
       "      <td>0.146</td>\n",
       "      <td>NaN</td>\n",
       "      <td>2.468</td>\n",
       "      <td>0.022</td>\n",
       "      <td>0.056</td>\n",
       "      <td>2.468</td>\n",
       "      <td>NaN</td>\n",
       "    </tr>\n",
       "    <tr>\n",
       "      <th>...</th>\n",
       "      <td>...</td>\n",
       "      <td>...</td>\n",
       "      <td>...</td>\n",
       "      <td>...</td>\n",
       "      <td>...</td>\n",
       "      <td>...</td>\n",
       "      <td>...</td>\n",
       "      <td>...</td>\n",
       "      <td>...</td>\n",
       "      <td>...</td>\n",
       "      <td>...</td>\n",
       "      <td>...</td>\n",
       "      <td>...</td>\n",
       "      <td>...</td>\n",
       "    </tr>\n",
       "    <tr>\n",
       "      <th>2022-03-24</th>\n",
       "      <td>14.200000</td>\n",
       "      <td>4.8242</td>\n",
       "      <td>119053.0</td>\n",
       "      <td>0.043739</td>\n",
       "      <td>313</td>\n",
       "      <td>0.0</td>\n",
       "      <td>0.123</td>\n",
       "      <td>NaN</td>\n",
       "      <td>NaN</td>\n",
       "      <td>NaN</td>\n",
       "      <td>NaN</td>\n",
       "      <td>NaN</td>\n",
       "      <td>NaN</td>\n",
       "      <td>NaN</td>\n",
       "    </tr>\n",
       "    <tr>\n",
       "      <th>2022-03-25</th>\n",
       "      <td>14.320000</td>\n",
       "      <td>4.8263</td>\n",
       "      <td>119081.0</td>\n",
       "      <td>0.043739</td>\n",
       "      <td>301</td>\n",
       "      <td>0.0</td>\n",
       "      <td>0.123</td>\n",
       "      <td>NaN</td>\n",
       "      <td>NaN</td>\n",
       "      <td>NaN</td>\n",
       "      <td>NaN</td>\n",
       "      <td>NaN</td>\n",
       "      <td>NaN</td>\n",
       "      <td>NaN</td>\n",
       "    </tr>\n",
       "    <tr>\n",
       "      <th>2022-03-28</th>\n",
       "      <td>14.740000</td>\n",
       "      <td>4.7369</td>\n",
       "      <td>118738.0</td>\n",
       "      <td>0.043739</td>\n",
       "      <td>301</td>\n",
       "      <td>0.0</td>\n",
       "      <td>0.123</td>\n",
       "      <td>NaN</td>\n",
       "      <td>NaN</td>\n",
       "      <td>NaN</td>\n",
       "      <td>NaN</td>\n",
       "      <td>NaN</td>\n",
       "      <td>NaN</td>\n",
       "      <td>NaN</td>\n",
       "    </tr>\n",
       "    <tr>\n",
       "      <th>2022-03-29</th>\n",
       "      <td>15.250000</td>\n",
       "      <td>4.7641</td>\n",
       "      <td>120014.0</td>\n",
       "      <td>0.043739</td>\n",
       "      <td>300</td>\n",
       "      <td>0.0</td>\n",
       "      <td>0.123</td>\n",
       "      <td>NaN</td>\n",
       "      <td>NaN</td>\n",
       "      <td>NaN</td>\n",
       "      <td>NaN</td>\n",
       "      <td>NaN</td>\n",
       "      <td>NaN</td>\n",
       "      <td>NaN</td>\n",
       "    </tr>\n",
       "    <tr>\n",
       "      <th>2022-03-30</th>\n",
       "      <td>NaN</td>\n",
       "      <td>4.7562</td>\n",
       "      <td>NaN</td>\n",
       "      <td>NaN</td>\n",
       "      <td>NaN</td>\n",
       "      <td>0.0</td>\n",
       "      <td>0.123</td>\n",
       "      <td>NaN</td>\n",
       "      <td>NaN</td>\n",
       "      <td>NaN</td>\n",
       "      <td>NaN</td>\n",
       "      <td>NaN</td>\n",
       "      <td>NaN</td>\n",
       "      <td>NaN</td>\n",
       "    </tr>\n",
       "  </tbody>\n",
       "</table>\n",
       "<p>5788 rows × 14 columns</p>\n",
       "</div>"
      ],
      "text/plain": [
       "                AMBEV   DOLAR  IBOVESPA       cdi Risco_Brasil  Dividends  \\\n",
       "data                                                                        \n",
       "2000-01-03        NaN     NaN   16930.0  0.068318          626        0.0   \n",
       "2000-01-04        NaN     NaN   15851.0  0.068218          675        0.0   \n",
       "2000-01-05   0.321626     NaN   16245.0  0.068184          677        0.0   \n",
       "2000-01-06   0.305323     NaN   16107.0  0.068218          688        0.0   \n",
       "2000-01-07   0.305323     NaN   16309.0  0.068218          677        0.0   \n",
       "...               ...     ...       ...       ...          ...        ...   \n",
       "2022-03-24  14.200000  4.8242  119053.0  0.043739          313        0.0   \n",
       "2022-03-25  14.320000  4.8263  119081.0  0.043739          301        0.0   \n",
       "2022-03-28  14.740000  4.7369  118738.0  0.043739          301        0.0   \n",
       "2022-03-29  15.250000  4.7641  120014.0  0.043739          300        0.0   \n",
       "2022-03-30        NaN  4.7562       NaN       NaN          NaN        0.0   \n",
       "\n",
       "            selic_meta_diario  selic_overnight_diario  \\\n",
       "data                                                    \n",
       "2000-01-03              0.146                   0.146   \n",
       "2000-01-04              0.146                   0.146   \n",
       "2000-01-05              0.146                   0.146   \n",
       "2000-01-06              0.146                   0.146   \n",
       "2000-01-07              0.146                   0.146   \n",
       "...                       ...                     ...   \n",
       "2022-03-24              0.123                     NaN   \n",
       "2022-03-25              0.123                     NaN   \n",
       "2022-03-28              0.123                     NaN   \n",
       "2022-03-29              0.123                     NaN   \n",
       "2022-03-30              0.123                     NaN   \n",
       "\n",
       "            taxa_desemprego_pnad_mensal_diario  \\\n",
       "data                                             \n",
       "2000-01-03                                 NaN   \n",
       "2000-01-04                                 NaN   \n",
       "2000-01-05                                 NaN   \n",
       "2000-01-06                                 NaN   \n",
       "2000-01-07                                 NaN   \n",
       "...                                        ...   \n",
       "2022-03-24                                 NaN   \n",
       "2022-03-25                                 NaN   \n",
       "2022-03-28                                 NaN   \n",
       "2022-03-29                                 NaN   \n",
       "2022-03-30                                 NaN   \n",
       "\n",
       "            volume_vendas_varejo_setor_diario_x  ipca_diario  igpm_diario  \\\n",
       "data                                                                        \n",
       "2000-01-03                                2.468        0.022        0.056   \n",
       "2000-01-04                                2.468        0.022        0.056   \n",
       "2000-01-05                                2.468        0.022        0.056   \n",
       "2000-01-06                                2.468        0.022        0.056   \n",
       "2000-01-07                                2.468        0.022        0.056   \n",
       "...                                         ...          ...          ...   \n",
       "2022-03-24                                  NaN          NaN          NaN   \n",
       "2022-03-25                                  NaN          NaN          NaN   \n",
       "2022-03-28                                  NaN          NaN          NaN   \n",
       "2022-03-29                                  NaN          NaN          NaN   \n",
       "2022-03-30                                  NaN          NaN          NaN   \n",
       "\n",
       "            volume_vendas_varejo_setor_diario_y  producao_bens_consumo_diario  \n",
       "data                                                                           \n",
       "2000-01-03                                2.468                           NaN  \n",
       "2000-01-04                                2.468                           NaN  \n",
       "2000-01-05                                2.468                           NaN  \n",
       "2000-01-06                                2.468                           NaN  \n",
       "2000-01-07                                2.468                           NaN  \n",
       "...                                         ...                           ...  \n",
       "2022-03-24                                  NaN                           NaN  \n",
       "2022-03-25                                  NaN                           NaN  \n",
       "2022-03-28                                  NaN                           NaN  \n",
       "2022-03-29                                  NaN                           NaN  \n",
       "2022-03-30                                  NaN                           NaN  \n",
       "\n",
       "[5788 rows x 14 columns]"
      ]
     },
     "execution_count": 151,
     "metadata": {},
     "output_type": "execute_result"
    }
   ],
   "source": [
    "df_diaria_final "
   ]
  },
  {
   "cell_type": "code",
   "execution_count": 30,
   "id": "professional-beatles",
   "metadata": {
    "ExecuteTime": {
     "end_time": "2022-03-31T00:26:00.216834Z",
     "start_time": "2022-03-31T00:26:00.198833Z"
    }
   },
   "outputs": [
    {
     "data": {
      "text/plain": [
       "Index(['AMBEV', 'DOLAR', 'IBOVESPA', 'cdi', 'Risco_Brasil', 'Dividends',\n",
       "       'selic_meta_diario', 'selic_overnight_diario',\n",
       "       'taxa_desemprego_pnad_mensal_diario',\n",
       "       'volume_vendas_varejo_setor_diario_x', 'ipca_diario', 'igpm_diario',\n",
       "       'volume_vendas_varejo_setor_diario_y', 'producao_bens_consumo_diario'],\n",
       "      dtype='object')"
      ]
     },
     "execution_count": 30,
     "metadata": {},
     "output_type": "execute_result"
    }
   ],
   "source": [
    "df_diaria_final.columns"
   ]
  },
  {
   "cell_type": "markdown",
   "id": "proud-steps",
   "metadata": {},
   "source": [
    "#### Indicadores técnicos\n",
    "https://blog.quantinsti.com/install-ta-lib-python/"
   ]
  },
  {
   "cell_type": "code",
   "execution_count": 31,
   "id": "painful-detroit",
   "metadata": {
    "ExecuteTime": {
     "end_time": "2022-03-31T00:26:00.262844Z",
     "start_time": "2022-03-31T00:26:00.223831Z"
    }
   },
   "outputs": [
    {
     "data": {
      "text/plain": [
       "['HT_DCPERIOD',\n",
       " 'HT_DCPHASE',\n",
       " 'HT_PHASOR',\n",
       " 'HT_SINE',\n",
       " 'HT_TRENDMODE',\n",
       " 'ADD',\n",
       " 'DIV',\n",
       " 'MAX',\n",
       " 'MAXINDEX',\n",
       " 'MIN',\n",
       " 'MININDEX',\n",
       " 'MINMAX',\n",
       " 'MINMAXINDEX',\n",
       " 'MULT',\n",
       " 'SUB',\n",
       " 'SUM',\n",
       " 'ACOS',\n",
       " 'ASIN',\n",
       " 'ATAN',\n",
       " 'CEIL',\n",
       " 'COS',\n",
       " 'COSH',\n",
       " 'EXP',\n",
       " 'FLOOR',\n",
       " 'LN',\n",
       " 'LOG10',\n",
       " 'SIN',\n",
       " 'SINH',\n",
       " 'SQRT',\n",
       " 'TAN',\n",
       " 'TANH',\n",
       " 'ADX',\n",
       " 'ADXR',\n",
       " 'APO',\n",
       " 'AROON',\n",
       " 'AROONOSC',\n",
       " 'BOP',\n",
       " 'CCI',\n",
       " 'CMO',\n",
       " 'DX',\n",
       " 'MACD',\n",
       " 'MACDEXT',\n",
       " 'MACDFIX',\n",
       " 'MFI',\n",
       " 'MINUS_DI',\n",
       " 'MINUS_DM',\n",
       " 'MOM',\n",
       " 'PLUS_DI',\n",
       " 'PLUS_DM',\n",
       " 'PPO',\n",
       " 'ROC',\n",
       " 'ROCP',\n",
       " 'ROCR',\n",
       " 'ROCR100',\n",
       " 'RSI',\n",
       " 'STOCH',\n",
       " 'STOCHF',\n",
       " 'STOCHRSI',\n",
       " 'TRIX',\n",
       " 'ULTOSC',\n",
       " 'WILLR',\n",
       " 'BBANDS',\n",
       " 'DEMA',\n",
       " 'EMA',\n",
       " 'HT_TRENDLINE',\n",
       " 'KAMA',\n",
       " 'MA',\n",
       " 'MAMA',\n",
       " 'MAVP',\n",
       " 'MIDPOINT',\n",
       " 'MIDPRICE',\n",
       " 'SAR',\n",
       " 'SAREXT',\n",
       " 'SMA',\n",
       " 'T3',\n",
       " 'TEMA',\n",
       " 'TRIMA',\n",
       " 'WMA',\n",
       " 'CDL2CROWS',\n",
       " 'CDL3BLACKCROWS',\n",
       " 'CDL3INSIDE',\n",
       " 'CDL3LINESTRIKE',\n",
       " 'CDL3OUTSIDE',\n",
       " 'CDL3STARSINSOUTH',\n",
       " 'CDL3WHITESOLDIERS',\n",
       " 'CDLABANDONEDBABY',\n",
       " 'CDLADVANCEBLOCK',\n",
       " 'CDLBELTHOLD',\n",
       " 'CDLBREAKAWAY',\n",
       " 'CDLCLOSINGMARUBOZU',\n",
       " 'CDLCONCEALBABYSWALL',\n",
       " 'CDLCOUNTERATTACK',\n",
       " 'CDLDARKCLOUDCOVER',\n",
       " 'CDLDOJI',\n",
       " 'CDLDOJISTAR',\n",
       " 'CDLDRAGONFLYDOJI',\n",
       " 'CDLENGULFING',\n",
       " 'CDLEVENINGDOJISTAR',\n",
       " 'CDLEVENINGSTAR',\n",
       " 'CDLGAPSIDESIDEWHITE',\n",
       " 'CDLGRAVESTONEDOJI',\n",
       " 'CDLHAMMER',\n",
       " 'CDLHANGINGMAN',\n",
       " 'CDLHARAMI',\n",
       " 'CDLHARAMICROSS',\n",
       " 'CDLHIGHWAVE',\n",
       " 'CDLHIKKAKE',\n",
       " 'CDLHIKKAKEMOD',\n",
       " 'CDLHOMINGPIGEON',\n",
       " 'CDLIDENTICAL3CROWS',\n",
       " 'CDLINNECK',\n",
       " 'CDLINVERTEDHAMMER',\n",
       " 'CDLKICKING',\n",
       " 'CDLKICKINGBYLENGTH',\n",
       " 'CDLLADDERBOTTOM',\n",
       " 'CDLLONGLEGGEDDOJI',\n",
       " 'CDLLONGLINE',\n",
       " 'CDLMARUBOZU',\n",
       " 'CDLMATCHINGLOW',\n",
       " 'CDLMATHOLD',\n",
       " 'CDLMORNINGDOJISTAR',\n",
       " 'CDLMORNINGSTAR',\n",
       " 'CDLONNECK',\n",
       " 'CDLPIERCING',\n",
       " 'CDLRICKSHAWMAN',\n",
       " 'CDLRISEFALL3METHODS',\n",
       " 'CDLSEPARATINGLINES',\n",
       " 'CDLSHOOTINGSTAR',\n",
       " 'CDLSHORTLINE',\n",
       " 'CDLSPINNINGTOP',\n",
       " 'CDLSTALLEDPATTERN',\n",
       " 'CDLSTICKSANDWICH',\n",
       " 'CDLTAKURI',\n",
       " 'CDLTASUKIGAP',\n",
       " 'CDLTHRUSTING',\n",
       " 'CDLTRISTAR',\n",
       " 'CDLUNIQUE3RIVER',\n",
       " 'CDLUPSIDEGAP2CROWS',\n",
       " 'CDLXSIDEGAP3METHODS',\n",
       " 'AVGPRICE',\n",
       " 'MEDPRICE',\n",
       " 'TYPPRICE',\n",
       " 'WCLPRICE',\n",
       " 'BETA',\n",
       " 'CORREL',\n",
       " 'LINEARREG',\n",
       " 'LINEARREG_ANGLE',\n",
       " 'LINEARREG_INTERCEPT',\n",
       " 'LINEARREG_SLOPE',\n",
       " 'STDDEV',\n",
       " 'TSF',\n",
       " 'VAR',\n",
       " 'ATR',\n",
       " 'NATR',\n",
       " 'TRANGE',\n",
       " 'AD',\n",
       " 'ADOSC',\n",
       " 'OBV']"
      ]
     },
     "execution_count": 31,
     "metadata": {},
     "output_type": "execute_result"
    }
   ],
   "source": [
    "talib.get_functions()"
   ]
  },
  {
   "cell_type": "code",
   "execution_count": 32,
   "id": "social-needle",
   "metadata": {
    "ExecuteTime": {
     "end_time": "2022-03-31T00:26:00.294834Z",
     "start_time": "2022-03-31T00:26:00.268834Z"
    }
   },
   "outputs": [
    {
     "data": {
      "text/plain": [
       "{'Cycle Indicators': ['HT_DCPERIOD',\n",
       "  'HT_DCPHASE',\n",
       "  'HT_PHASOR',\n",
       "  'HT_SINE',\n",
       "  'HT_TRENDMODE'],\n",
       " 'Math Operators': ['ADD',\n",
       "  'DIV',\n",
       "  'MAX',\n",
       "  'MAXINDEX',\n",
       "  'MIN',\n",
       "  'MININDEX',\n",
       "  'MINMAX',\n",
       "  'MINMAXINDEX',\n",
       "  'MULT',\n",
       "  'SUB',\n",
       "  'SUM'],\n",
       " 'Math Transform': ['ACOS',\n",
       "  'ASIN',\n",
       "  'ATAN',\n",
       "  'CEIL',\n",
       "  'COS',\n",
       "  'COSH',\n",
       "  'EXP',\n",
       "  'FLOOR',\n",
       "  'LN',\n",
       "  'LOG10',\n",
       "  'SIN',\n",
       "  'SINH',\n",
       "  'SQRT',\n",
       "  'TAN',\n",
       "  'TANH'],\n",
       " 'Momentum Indicators': ['ADX',\n",
       "  'ADXR',\n",
       "  'APO',\n",
       "  'AROON',\n",
       "  'AROONOSC',\n",
       "  'BOP',\n",
       "  'CCI',\n",
       "  'CMO',\n",
       "  'DX',\n",
       "  'MACD',\n",
       "  'MACDEXT',\n",
       "  'MACDFIX',\n",
       "  'MFI',\n",
       "  'MINUS_DI',\n",
       "  'MINUS_DM',\n",
       "  'MOM',\n",
       "  'PLUS_DI',\n",
       "  'PLUS_DM',\n",
       "  'PPO',\n",
       "  'ROC',\n",
       "  'ROCP',\n",
       "  'ROCR',\n",
       "  'ROCR100',\n",
       "  'RSI',\n",
       "  'STOCH',\n",
       "  'STOCHF',\n",
       "  'STOCHRSI',\n",
       "  'TRIX',\n",
       "  'ULTOSC',\n",
       "  'WILLR'],\n",
       " 'Overlap Studies': ['BBANDS',\n",
       "  'DEMA',\n",
       "  'EMA',\n",
       "  'HT_TRENDLINE',\n",
       "  'KAMA',\n",
       "  'MA',\n",
       "  'MAMA',\n",
       "  'MAVP',\n",
       "  'MIDPOINT',\n",
       "  'MIDPRICE',\n",
       "  'SAR',\n",
       "  'SAREXT',\n",
       "  'SMA',\n",
       "  'T3',\n",
       "  'TEMA',\n",
       "  'TRIMA',\n",
       "  'WMA'],\n",
       " 'Pattern Recognition': ['CDL2CROWS',\n",
       "  'CDL3BLACKCROWS',\n",
       "  'CDL3INSIDE',\n",
       "  'CDL3LINESTRIKE',\n",
       "  'CDL3OUTSIDE',\n",
       "  'CDL3STARSINSOUTH',\n",
       "  'CDL3WHITESOLDIERS',\n",
       "  'CDLABANDONEDBABY',\n",
       "  'CDLADVANCEBLOCK',\n",
       "  'CDLBELTHOLD',\n",
       "  'CDLBREAKAWAY',\n",
       "  'CDLCLOSINGMARUBOZU',\n",
       "  'CDLCONCEALBABYSWALL',\n",
       "  'CDLCOUNTERATTACK',\n",
       "  'CDLDARKCLOUDCOVER',\n",
       "  'CDLDOJI',\n",
       "  'CDLDOJISTAR',\n",
       "  'CDLDRAGONFLYDOJI',\n",
       "  'CDLENGULFING',\n",
       "  'CDLEVENINGDOJISTAR',\n",
       "  'CDLEVENINGSTAR',\n",
       "  'CDLGAPSIDESIDEWHITE',\n",
       "  'CDLGRAVESTONEDOJI',\n",
       "  'CDLHAMMER',\n",
       "  'CDLHANGINGMAN',\n",
       "  'CDLHARAMI',\n",
       "  'CDLHARAMICROSS',\n",
       "  'CDLHIGHWAVE',\n",
       "  'CDLHIKKAKE',\n",
       "  'CDLHIKKAKEMOD',\n",
       "  'CDLHOMINGPIGEON',\n",
       "  'CDLIDENTICAL3CROWS',\n",
       "  'CDLINNECK',\n",
       "  'CDLINVERTEDHAMMER',\n",
       "  'CDLKICKING',\n",
       "  'CDLKICKINGBYLENGTH',\n",
       "  'CDLLADDERBOTTOM',\n",
       "  'CDLLONGLEGGEDDOJI',\n",
       "  'CDLLONGLINE',\n",
       "  'CDLMARUBOZU',\n",
       "  'CDLMATCHINGLOW',\n",
       "  'CDLMATHOLD',\n",
       "  'CDLMORNINGDOJISTAR',\n",
       "  'CDLMORNINGSTAR',\n",
       "  'CDLONNECK',\n",
       "  'CDLPIERCING',\n",
       "  'CDLRICKSHAWMAN',\n",
       "  'CDLRISEFALL3METHODS',\n",
       "  'CDLSEPARATINGLINES',\n",
       "  'CDLSHOOTINGSTAR',\n",
       "  'CDLSHORTLINE',\n",
       "  'CDLSPINNINGTOP',\n",
       "  'CDLSTALLEDPATTERN',\n",
       "  'CDLSTICKSANDWICH',\n",
       "  'CDLTAKURI',\n",
       "  'CDLTASUKIGAP',\n",
       "  'CDLTHRUSTING',\n",
       "  'CDLTRISTAR',\n",
       "  'CDLUNIQUE3RIVER',\n",
       "  'CDLUPSIDEGAP2CROWS',\n",
       "  'CDLXSIDEGAP3METHODS'],\n",
       " 'Price Transform': ['AVGPRICE', 'MEDPRICE', 'TYPPRICE', 'WCLPRICE'],\n",
       " 'Statistic Functions': ['BETA',\n",
       "  'CORREL',\n",
       "  'LINEARREG',\n",
       "  'LINEARREG_ANGLE',\n",
       "  'LINEARREG_INTERCEPT',\n",
       "  'LINEARREG_SLOPE',\n",
       "  'STDDEV',\n",
       "  'TSF',\n",
       "  'VAR'],\n",
       " 'Volatility Indicators': ['ATR', 'NATR', 'TRANGE'],\n",
       " 'Volume Indicators': ['AD', 'ADOSC', 'OBV']}"
      ]
     },
     "execution_count": 32,
     "metadata": {},
     "output_type": "execute_result"
    }
   ],
   "source": [
    "talib.get_function_groups()"
   ]
  },
  {
   "cell_type": "code",
   "execution_count": 33,
   "id": "elegant-imaging",
   "metadata": {
    "ExecuteTime": {
     "end_time": "2022-03-31T00:26:01.342245Z",
     "start_time": "2022-03-31T00:26:00.300840Z"
    }
   },
   "outputs": [
    {
     "name": "stdout",
     "output_type": "stream",
     "text": [
      "[*********************100%***********************]  1 of 1 completed\n"
     ]
    },
    {
     "data": {
      "text/html": [
       "<div>\n",
       "<style scoped>\n",
       "    .dataframe tbody tr th:only-of-type {\n",
       "        vertical-align: middle;\n",
       "    }\n",
       "\n",
       "    .dataframe tbody tr th {\n",
       "        vertical-align: top;\n",
       "    }\n",
       "\n",
       "    .dataframe thead th {\n",
       "        text-align: right;\n",
       "    }\n",
       "</style>\n",
       "<table border=\"1\" class=\"dataframe\">\n",
       "  <thead>\n",
       "    <tr style=\"text-align: right;\">\n",
       "      <th></th>\n",
       "      <th>rsi</th>\n",
       "      <th>roc</th>\n",
       "      <th>willr</th>\n",
       "    </tr>\n",
       "  </thead>\n",
       "  <tbody>\n",
       "    <tr>\n",
       "      <th>0</th>\n",
       "      <td>NaN</td>\n",
       "      <td>NaN</td>\n",
       "      <td>NaN</td>\n",
       "    </tr>\n",
       "    <tr>\n",
       "      <th>1</th>\n",
       "      <td>NaN</td>\n",
       "      <td>NaN</td>\n",
       "      <td>NaN</td>\n",
       "    </tr>\n",
       "    <tr>\n",
       "      <th>2</th>\n",
       "      <td>NaN</td>\n",
       "      <td>NaN</td>\n",
       "      <td>NaN</td>\n",
       "    </tr>\n",
       "    <tr>\n",
       "      <th>3</th>\n",
       "      <td>NaN</td>\n",
       "      <td>NaN</td>\n",
       "      <td>NaN</td>\n",
       "    </tr>\n",
       "    <tr>\n",
       "      <th>4</th>\n",
       "      <td>NaN</td>\n",
       "      <td>NaN</td>\n",
       "      <td>NaN</td>\n",
       "    </tr>\n",
       "    <tr>\n",
       "      <th>...</th>\n",
       "      <td>...</td>\n",
       "      <td>...</td>\n",
       "      <td>...</td>\n",
       "    </tr>\n",
       "    <tr>\n",
       "      <th>5581</th>\n",
       "      <td>43.558851</td>\n",
       "      <td>-6.255474</td>\n",
       "      <td>-71.449305</td>\n",
       "    </tr>\n",
       "    <tr>\n",
       "      <th>5582</th>\n",
       "      <td>43.558851</td>\n",
       "      <td>-6.255474</td>\n",
       "      <td>-71.449305</td>\n",
       "    </tr>\n",
       "    <tr>\n",
       "      <th>5583</th>\n",
       "      <td>43.558851</td>\n",
       "      <td>-6.255474</td>\n",
       "      <td>-71.449305</td>\n",
       "    </tr>\n",
       "    <tr>\n",
       "      <th>5584</th>\n",
       "      <td>43.558851</td>\n",
       "      <td>-6.255474</td>\n",
       "      <td>-71.449305</td>\n",
       "    </tr>\n",
       "    <tr>\n",
       "      <th>5585</th>\n",
       "      <td>57.786379</td>\n",
       "      <td>-1.249725</td>\n",
       "      <td>-14.274218</td>\n",
       "    </tr>\n",
       "  </tbody>\n",
       "</table>\n",
       "<p>5586 rows × 3 columns</p>\n",
       "</div>"
      ],
      "text/plain": [
       "            rsi       roc      willr\n",
       "0           NaN       NaN        NaN\n",
       "1           NaN       NaN        NaN\n",
       "2           NaN       NaN        NaN\n",
       "3           NaN       NaN        NaN\n",
       "4           NaN       NaN        NaN\n",
       "...         ...       ...        ...\n",
       "5581  43.558851 -6.255474 -71.449305\n",
       "5582  43.558851 -6.255474 -71.449305\n",
       "5583  43.558851 -6.255474 -71.449305\n",
       "5584  43.558851 -6.255474 -71.449305\n",
       "5585  57.786379 -1.249725 -14.274218\n",
       "\n",
       "[5586 rows x 3 columns]"
      ]
     },
     "execution_count": 33,
     "metadata": {},
     "output_type": "execute_result"
    }
   ],
   "source": [
    "\n",
    "indicadores =indicadores_tecnicos('ABEV3.SA')\n",
    "indicadores"
   ]
  },
  {
   "cell_type": "code",
   "execution_count": null,
   "id": "neutral-antibody",
   "metadata": {
    "ExecuteTime": {
     "end_time": "2022-03-29T01:24:22.525035Z",
     "start_time": "2022-03-29T01:24:22.496083Z"
    }
   },
   "outputs": [],
   "source": []
  },
  {
   "cell_type": "code",
   "execution_count": 34,
   "id": "stainless-render",
   "metadata": {
    "ExecuteTime": {
     "end_time": "2022-03-31T00:26:02.098248Z",
     "start_time": "2022-03-31T00:26:01.352244Z"
    }
   },
   "outputs": [
    {
     "ename": "NameError",
     "evalue": "name 'close' is not defined",
     "output_type": "error",
     "traceback": [
      "\u001b[1;31m---------------------------------------------------------------------------\u001b[0m",
      "\u001b[1;31mNameError\u001b[0m                                 Traceback (most recent call last)",
      "\u001b[1;32m<ipython-input-34-c8bcf49ac20f>\u001b[0m in \u001b[0;36m<module>\u001b[1;34m\u001b[0m\n\u001b[0;32m      1\u001b[0m \u001b[1;31m#ROC - Rate of change : ((price/prevPrice)-1)*100\u001b[0m\u001b[1;33m\u001b[0m\u001b[1;33m\u001b[0m\u001b[1;33m\u001b[0m\u001b[0m\n\u001b[1;32m----> 2\u001b[1;33m \u001b[0mroc\u001b[0m \u001b[1;33m=\u001b[0m \u001b[0mROC\u001b[0m\u001b[1;33m(\u001b[0m\u001b[0mclose\u001b[0m\u001b[1;33m,\u001b[0m \u001b[0mtimeperiod\u001b[0m\u001b[1;33m=\u001b[0m\u001b[1;36m10\u001b[0m\u001b[1;33m)\u001b[0m\u001b[1;33m\u001b[0m\u001b[1;33m\u001b[0m\u001b[0m\n\u001b[0m",
      "\u001b[1;31mNameError\u001b[0m: name 'close' is not defined"
     ]
    }
   ],
   "source": [
    "#ROC - Rate of change : ((price/prevPrice)-1)*100\n",
    "roc = ROC(close, timeperiod=10)"
   ]
  },
  {
   "cell_type": "code",
   "execution_count": null,
   "id": "understanding-newark",
   "metadata": {
    "ExecuteTime": {
     "end_time": "2022-03-31T00:26:02.105244Z",
     "start_time": "2022-03-31T00:25:15.364Z"
    }
   },
   "outputs": [],
   "source": [
    "slowk, slowd = STOCH(high, low, close, fastk_period=5, slowk_period=3, slowk_matype=0, slowd_period=3, slowd_matype=0)\n",
    "slowk\n",
    "slowd"
   ]
  },
  {
   "cell_type": "code",
   "execution_count": null,
   "id": "integral-looking",
   "metadata": {
    "ExecuteTime": {
     "end_time": "2022-03-31T00:26:02.108243Z",
     "start_time": "2022-03-31T00:25:15.368Z"
    }
   },
   "outputs": [],
   "source": [
    "fastk, fastd = STOCHRSI(close, timeperiod=14, fastk_period=5, fastd_period=3, fastd_matype=0)\n",
    "fastk\n",
    "fastd"
   ]
  },
  {
   "cell_type": "code",
   "execution_count": null,
   "id": "talented-cannon",
   "metadata": {
    "ExecuteTime": {
     "end_time": "2022-03-31T00:26:02.114245Z",
     "start_time": "2022-03-31T00:25:15.378Z"
    }
   },
   "outputs": [],
   "source": [
    "#Williams %R moves between zero and -100.above -20 is overbought.-80 is oversold.\n",
    "willr = WILLR(high, low, close, timeperiod=14)\n",
    "willr"
   ]
  },
  {
   "cell_type": "code",
   "execution_count": null,
   "id": "sharing-judge",
   "metadata": {
    "ExecuteTime": {
     "end_time": "2022-03-31T00:26:02.119244Z",
     "start_time": "2022-03-31T00:25:15.382Z"
    }
   },
   "outputs": [],
   "source": [
    "#  ATR serve para mensurar a volatilidade do mercado, porém sem indicar a direção\n",
    "atr = ATR(high, low, close, timeperiod=14)"
   ]
  },
  {
   "cell_type": "code",
   "execution_count": null,
   "id": "appreciated-nursing",
   "metadata": {
    "ExecuteTime": {
     "end_time": "2022-03-31T00:26:02.125246Z",
     "start_time": "2022-03-31T00:25:15.388Z"
    }
   },
   "outputs": [],
   "source": [
    "# Moving Average Convergence/Divergence (MACD)\n",
    "macd, macdsignal, macdhist = MACD(close, fastperiod=12, slowperiod=26, signalperiod=9)"
   ]
  },
  {
   "cell_type": "code",
   "execution_count": null,
   "id": "advanced-wichita",
   "metadata": {
    "ExecuteTime": {
     "end_time": "2022-03-31T00:26:02.131243Z",
     "start_time": "2022-03-31T00:25:15.398Z"
    }
   },
   "outputs": [],
   "source": [
    "macdhist"
   ]
  },
  {
   "cell_type": "code",
   "execution_count": null,
   "id": "improving-jewelry",
   "metadata": {
    "ExecuteTime": {
     "end_time": "2022-03-31T00:26:02.135243Z",
     "start_time": "2022-03-31T00:25:15.410Z"
    }
   },
   "outputs": [],
   "source": [
    "bull_bear_power = CDLKICKINGBYLENGTH(open, high, low, close)\n",
    "bull_bear_power"
   ]
  },
  {
   "cell_type": "code",
   "execution_count": null,
   "id": "distinguished-aggregate",
   "metadata": {
    "ExecuteTime": {
     "end_time": "2022-03-31T00:26:02.139249Z",
     "start_time": "2022-03-31T00:25:15.431Z"
    }
   },
   "outputs": [],
   "source": [
    "# Engulfing Pattern\n",
    "engulfing = CDLENGULFING(open, high, low, close)\n",
    "engulfing"
   ]
  },
  {
   "cell_type": "code",
   "execution_count": null,
   "id": "visible-clause",
   "metadata": {
    "ExecuteTime": {
     "end_time": "2022-03-31T00:26:02.172247Z",
     "start_time": "2022-03-31T00:25:15.452Z"
    }
   },
   "outputs": [],
   "source": [
    " \ttechnical_indicator \tvalue \tsignal\n",
    "RSI(14) \t52.2430 \tneutral\n",
    "1 \tSTOCH(9,6) \t82.0860 \toverbought\n",
    "2 \tSTOCHRSI(14) \t95.7880 \toverbought\n",
    "3 \tMACD(12,26) \t-0.0500 \tsell\n",
    "4 \tADX(14) \t23.1400 \tbuy\n",
    "5 \tWilliams %R \t-12.5000 \toverbought\n",
    "6 \tCCI(14) \t82.6629 \tbuy\n",
    "7 \tATR(14) \t0.4050 \tless_volatility\n",
    "8 \tHighs/Lows(14) \t0.3014 \tbuy\n",
    "9 \tUltimate Oscillator \t62.5370 \tbuy\n",
    "10 \tROC \t6.6270 \tbuy\n",
    "11 \tBull/Bear Power(13) \t0.0620 \tbuy"
   ]
  },
  {
   "cell_type": "code",
   "execution_count": null,
   "id": "twelve-tracy",
   "metadata": {
    "ExecuteTime": {
     "end_time": "2022-03-31T00:26:02.176265Z",
     "start_time": "2022-03-31T00:25:15.460Z"
    }
   },
   "outputs": [],
   "source": [
    "#DYT = dividendo pago por ação *100 / preço da ação\n",
    "df_diaria_final['DYT']= df_diaria_final.apply(lambda x: x.Dividends*100/ x.AMBEV if x.Dividends > 0 else 0, axis= 'columns')\n"
   ]
  },
  {
   "cell_type": "code",
   "execution_count": null,
   "id": "removed-poison",
   "metadata": {
    "ExecuteTime": {
     "end_time": "2022-03-31T00:26:02.181256Z",
     "start_time": "2022-03-31T00:25:15.469Z"
    }
   },
   "outputs": [],
   "source": [
    "#sns.barplot(x= df_diaria['AMBEV'], y=df_diaria['DYT' ], data = df_diaria);\n",
    "df_diaria['DYT'].plot();\n",
    "df_diaria['AMBEV'].plot();\n"
   ]
  },
  {
   "cell_type": "code",
   "execution_count": null,
   "id": "geographic-winner",
   "metadata": {
    "ExecuteTime": {
     "end_time": "2022-03-31T00:26:02.187260Z",
     "start_time": "2022-03-31T00:25:15.482Z"
    }
   },
   "outputs": [],
   "source": [
    "import plotly.io as pio\n",
    "import plotly.offline as py\n",
    "import plotly.graph_objs as go\n",
    "dados_grafico = [go.Scatter(x=df_diaria.index, y=df_diaria['AMBEV'])]\n",
    "dados_div = [go.Scatter(x=df_diaria.index, y=df_diaria['DYT'])]\n",
    "py.iplot(dados_grafico)\n"
   ]
  },
  {
   "cell_type": "markdown",
   "id": "extraordinary-mozambique",
   "metadata": {
    "ExecuteTime": {
     "end_time": "2022-03-27T20:49:25.575616Z",
     "start_time": "2022-03-27T20:49:25.562617Z"
    }
   },
   "source": [
    "### Coletando as informações - para análise técnica e Fundamentalista"
   ]
  },
  {
   "cell_type": "markdown",
   "id": "outstanding-spectrum",
   "metadata": {
    "ExecuteTime": {
     "end_time": "2022-03-27T20:50:20.182622Z",
     "start_time": "2022-03-27T20:50:20.173668Z"
    },
    "heading_collapsed": true
   },
   "source": [
    "#### yfinance Ticker"
   ]
  },
  {
   "cell_type": "code",
   "execution_count": null,
   "id": "disciplinary-hierarchy",
   "metadata": {
    "ExecuteTime": {
     "end_time": "2022-03-31T00:26:02.191251Z",
     "start_time": "2022-03-31T00:25:15.488Z"
    },
    "hidden": true
   },
   "outputs": [],
   "source": [
    "ticker.actions.head()"
   ]
  },
  {
   "cell_type": "code",
   "execution_count": null,
   "id": "interested-creator",
   "metadata": {
    "ExecuteTime": {
     "end_time": "2022-03-31T00:26:02.197246Z",
     "start_time": "2022-03-31T00:25:15.496Z"
    },
    "hidden": true
   },
   "outputs": [],
   "source": [
    "ticker.calendar"
   ]
  },
  {
   "cell_type": "code",
   "execution_count": null,
   "id": "certain-investing",
   "metadata": {
    "ExecuteTime": {
     "end_time": "2022-03-31T00:26:02.200252Z",
     "start_time": "2022-03-31T00:25:15.501Z"
    },
    "hidden": true
   },
   "outputs": [],
   "source": [
    "ticker.info"
   ]
  },
  {
   "cell_type": "code",
   "execution_count": null,
   "id": "asian-thinking",
   "metadata": {
    "ExecuteTime": {
     "end_time": "2022-03-31T00:26:02.206246Z",
     "start_time": "2022-03-31T00:25:15.506Z"
    },
    "hidden": true
   },
   "outputs": [],
   "source": [
    "ticker.major_holders "
   ]
  },
  {
   "cell_type": "code",
   "execution_count": null,
   "id": "fitting-builder",
   "metadata": {
    "ExecuteTime": {
     "end_time": "2022-03-31T00:26:02.210243Z",
     "start_time": "2022-03-31T00:25:15.531Z"
    },
    "hidden": true
   },
   "outputs": [],
   "source": [
    "ticker.institutional_holders "
   ]
  },
  {
   "cell_type": "code",
   "execution_count": null,
   "id": "average-vinyl",
   "metadata": {
    "ExecuteTime": {
     "end_time": "2022-03-31T00:26:02.217245Z",
     "start_time": "2022-03-31T00:25:15.541Z"
    },
    "hidden": true
   },
   "outputs": [],
   "source": [
    "ticker.news"
   ]
  },
  {
   "cell_type": "markdown",
   "id": "restricted-commons",
   "metadata": {
    "heading_collapsed": true
   },
   "source": [
    "#### Fundamentus"
   ]
  },
  {
   "cell_type": "code",
   "execution_count": null,
   "id": "israeli-honolulu",
   "metadata": {
    "ExecuteTime": {
     "end_time": "2022-03-31T00:26:02.221240Z",
     "start_time": "2022-03-31T00:25:15.549Z"
    },
    "hidden": true
   },
   "outputs": [],
   "source": [
    "url = 'https://www.fundamentus.com.br/resultado.php'\n",
    "header = {\n",
    "\n",
    "  \"User-Agent\": \"Mozilla/5.0 (X11; Linux x86_64) AppleWebKit/537.36 (KHTML, like Gecko) Chrome/50.0.2661.75 Safari/537.36\",\n",
    "\n",
    "  \"X-Requested-With\": \"XMLHttpRequest\"\n",
    "\n",
    "}"
   ]
  },
  {
   "cell_type": "code",
   "execution_count": null,
   "id": "incredible-happening",
   "metadata": {
    "ExecuteTime": {
     "end_time": "2022-03-31T00:26:02.225245Z",
     "start_time": "2022-03-31T00:25:15.556Z"
    },
    "hidden": true
   },
   "outputs": [],
   "source": [
    "r = requests.get(url, headers=header)\n",
    "df = pd.read_html(r.text, decimal=',', thousands='.')[0]\n",
    "\n",
    "df\n"
   ]
  },
  {
   "cell_type": "code",
   "execution_count": null,
   "id": "varied-spice",
   "metadata": {
    "ExecuteTime": {
     "end_time": "2022-03-31T00:26:02.229240Z",
     "start_time": "2022-03-31T00:25:15.561Z"
    },
    "hidden": true
   },
   "outputs": [],
   "source": [
    "df[df.Papel == 'ABEV3']"
   ]
  },
  {
   "cell_type": "markdown",
   "id": "unavailable-gabriel",
   "metadata": {
    "hidden": true
   },
   "source": [
    "##### Principais comandos yFinance Ticker"
   ]
  },
  {
   "cell_type": "markdown",
   "id": "about-patch",
   "metadata": {
    "hidden": true
   },
   "source": [
    "msft = yf.Ticker(\"MSFT\")\n",
    "\n",
    "# get stock info\n",
    "msft.info\n",
    "\n",
    "# get historical market data\n",
    "hist = msft.history(period=\"max\")\n",
    "\n",
    "# show actions (dividends, splits)\n",
    "msft.actions\n",
    "\n",
    "# show dividends\n",
    "msft.dividends\n",
    "\n",
    "# show splits\n",
    "msft.splits\n",
    "\n",
    "# show financials\n",
    "msft.financials\n",
    "msft.quarterly_financials\n",
    "\n",
    "# show major holders\n",
    "msft.major_holders\n",
    "\n",
    "# show institutional holders\n",
    "msft.institutional_holders\n",
    "\n",
    "# show balance sheet\n",
    "msft.balance_sheet\n",
    "msft.quarterly_balance_sheet\n",
    "\n",
    "# show cashflow\n",
    "msft.cashflow\n",
    "msft.quarterly_cashflow\n",
    "\n",
    "# show earnings\n",
    "msft.earnings\n",
    "msft.quarterly_earnings\n",
    "\n",
    "# show sustainability\n",
    "msft.sustainability\n",
    "\n",
    "# show analysts recommendations\n",
    "msft.recommendations\n",
    "\n",
    "# show next event (earnings, etc)\n",
    "msft.calendar\n",
    "\n",
    "# show ISIN code - *experimental*\n",
    "# ISIN = International Securities Identification Number\n",
    "msft.isin\n",
    "\n",
    "# show options expirations\n",
    "msft.options\n",
    "\n",
    "# show news\n",
    "msft.news"
   ]
  },
  {
   "cell_type": "markdown",
   "id": "matched-requirement",
   "metadata": {},
   "source": [
    "#### Investpy -tecnico e fundamentalista"
   ]
  },
  {
   "cell_type": "code",
   "execution_count": null,
   "id": "double-shoot",
   "metadata": {
    "ExecuteTime": {
     "end_time": "2022-03-31T00:26:02.232244Z",
     "start_time": "2022-03-31T00:25:15.570Z"
    }
   },
   "outputs": [],
   "source": [
    "#!pip install investpy"
   ]
  },
  {
   "cell_type": "code",
   "execution_count": null,
   "id": "saved-synthesis",
   "metadata": {
    "ExecuteTime": {
     "end_time": "2022-03-31T00:26:02.236241Z",
     "start_time": "2022-03-31T00:25:15.575Z"
    }
   },
   "outputs": [],
   "source": [
    "dados_fundamentalista = inv.get_stock_information('ABEV3', country='brazil')\n",
    "dados_fundamentalista"
   ]
  },
  {
   "cell_type": "code",
   "execution_count": null,
   "id": "threaded-reference",
   "metadata": {
    "ExecuteTime": {
     "end_time": "2022-03-31T00:26:02.240244Z",
     "start_time": "2022-03-31T00:25:15.578Z"
    }
   },
   "outputs": [],
   "source": [
    "indicadores_tecnicos_sinal = inv.technical_indicators('ABEV3', country='brazil', product_type='stock')\n",
    "indicadores_tecnicos_sinal"
   ]
  },
  {
   "cell_type": "code",
   "execution_count": null,
   "id": "respiratory-closer",
   "metadata": {
    "ExecuteTime": {
     "end_time": "2022-03-31T00:26:02.243244Z",
     "start_time": "2022-03-31T00:25:15.582Z"
    }
   },
   "outputs": [],
   "source": [
    "inv.moving_averages('ABEV3', country='brazil', product_type='stock')"
   ]
  },
  {
   "cell_type": "markdown",
   "id": "recreational-drinking",
   "metadata": {},
   "source": [
    "### bcb currency \n",
    "- Alguns dados estavam faltando da cotação do dolar, só para constar acho que não será utilizado"
   ]
  },
  {
   "cell_type": "code",
   "execution_count": null,
   "id": "sophisticated-segment",
   "metadata": {
    "ExecuteTime": {
     "end_time": "2022-03-31T00:26:02.247245Z",
     "start_time": "2022-03-31T00:25:15.592Z"
    }
   },
   "outputs": [],
   "source": [
    "from bcb import currency\n",
    "\n",
    "ao = currency.get(['USD'], start='2000-01-01', end=datetime.datetime.today() - datetime.timedelta(days=1))"
   ]
  }
 ],
 "metadata": {
  "kernelspec": {
   "display_name": "Python 3",
   "language": "python",
   "name": "python3"
  },
  "language_info": {
   "codemirror_mode": {
    "name": "ipython",
    "version": 3
   },
   "file_extension": ".py",
   "mimetype": "text/x-python",
   "name": "python",
   "nbconvert_exporter": "python",
   "pygments_lexer": "ipython3",
   "version": "3.8.8"
  }
 },
 "nbformat": 4,
 "nbformat_minor": 5
}
